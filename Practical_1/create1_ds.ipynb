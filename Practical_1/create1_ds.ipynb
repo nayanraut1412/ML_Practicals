{
 "cells": [
  {
   "cell_type": "code",
   "execution_count": 12,
   "metadata": {},
   "outputs": [
    {
     "data": {
      "text/html": [
       "<div>\n",
       "<style scoped>\n",
       "    .dataframe tbody tr th:only-of-type {\n",
       "        vertical-align: middle;\n",
       "    }\n",
       "\n",
       "    .dataframe tbody tr th {\n",
       "        vertical-align: top;\n",
       "    }\n",
       "\n",
       "    .dataframe thead th {\n",
       "        text-align: right;\n",
       "    }\n",
       "</style>\n",
       "<table border=\"1\" class=\"dataframe\">\n",
       "  <thead>\n",
       "    <tr style=\"text-align: right;\">\n",
       "      <th></th>\n",
       "      <th>Restaurant Name</th>\n",
       "      <th>Cuisine</th>\n",
       "      <th>Rating</th>\n",
       "      <th>Number of Ratings</th>\n",
       "      <th>Average Price</th>\n",
       "      <th>Number of Offers</th>\n",
       "      <th>Offer Name</th>\n",
       "      <th>Area</th>\n",
       "      <th>Pure Veg</th>\n",
       "      <th>Location</th>\n",
       "    </tr>\n",
       "  </thead>\n",
       "  <tbody>\n",
       "    <tr>\n",
       "      <th>0</th>\n",
       "      <td>La Pino'Z Pizza</td>\n",
       "      <td>Pizzas, Pastas</td>\n",
       "      <td>4.0</td>\n",
       "      <td>10+ ratings</td>\n",
       "      <td>₹250 for two</td>\n",
       "      <td>2</td>\n",
       "      <td>FLAT DEAL\\nFLAT ₹125 OFF\\nUSE FLAT125ABOVE ₹69...</td>\n",
       "      <td>LALA LAJPAT RAI MARKET</td>\n",
       "      <td>No</td>\n",
       "      <td>Abohar</td>\n",
       "    </tr>\n",
       "    <tr>\n",
       "      <th>1</th>\n",
       "      <td>The Second Wife</td>\n",
       "      <td>Indian, North Indian</td>\n",
       "      <td>3.6</td>\n",
       "      <td>50+ ratings</td>\n",
       "      <td>₹250 for two</td>\n",
       "      <td>2</td>\n",
       "      <td>30% OFF UPTO ₹75\\nUSE TRYNEWABOVE ₹149, FLAT ₹...</td>\n",
       "      <td>Central Abohar</td>\n",
       "      <td>No</td>\n",
       "      <td>Abohar</td>\n",
       "    </tr>\n",
       "    <tr>\n",
       "      <th>2</th>\n",
       "      <td>Tasty Bites</td>\n",
       "      <td>Italian, Beverages</td>\n",
       "      <td>3.8</td>\n",
       "      <td>10+ ratings</td>\n",
       "      <td>₹200 for two</td>\n",
       "      <td>1</td>\n",
       "      <td>FLAT ₹120 OFF\\nUSE AXIS120ABOVE ₹500</td>\n",
       "      <td>Central Abohar</td>\n",
       "      <td>Yes</td>\n",
       "      <td>Abohar</td>\n",
       "    </tr>\n",
       "    <tr>\n",
       "      <th>3</th>\n",
       "      <td>Food Studio</td>\n",
       "      <td>Pizzas, Burgers</td>\n",
       "      <td>3.5</td>\n",
       "      <td>8 ratings</td>\n",
       "      <td>₹49 for two</td>\n",
       "      <td>5</td>\n",
       "      <td>50% OFF UPTO ₹100\\nUSE TRYNEWABOVE ₹129, FLAT ...</td>\n",
       "      <td>Central Abohar</td>\n",
       "      <td>Yes</td>\n",
       "      <td>Abohar</td>\n",
       "    </tr>\n",
       "    <tr>\n",
       "      <th>4</th>\n",
       "      <td>Roll Express</td>\n",
       "      <td>Fast Food, Snacks</td>\n",
       "      <td>4.3</td>\n",
       "      <td>100+ ratings</td>\n",
       "      <td>₹200 for two</td>\n",
       "      <td>2</td>\n",
       "      <td>DEAL OF DAY\\n10% OFF UPTO ₹40\\nUSE STEALDEALAB...</td>\n",
       "      <td>Circular Road</td>\n",
       "      <td>No</td>\n",
       "      <td>Abohar</td>\n",
       "    </tr>\n",
       "  </tbody>\n",
       "</table>\n",
       "</div>"
      ],
      "text/plain": [
       "   Restaurant Name               Cuisine Rating Number of Ratings  \\\n",
       "0  La Pino'Z Pizza        Pizzas, Pastas    4.0       10+ ratings   \n",
       "1  The Second Wife  Indian, North Indian    3.6       50+ ratings   \n",
       "2      Tasty Bites    Italian, Beverages    3.8       10+ ratings   \n",
       "3      Food Studio       Pizzas, Burgers    3.5         8 ratings   \n",
       "4     Roll Express     Fast Food, Snacks    4.3      100+ ratings   \n",
       "\n",
       "  Average Price  Number of Offers  \\\n",
       "0  ₹250 for two                 2   \n",
       "1  ₹250 for two                 2   \n",
       "2  ₹200 for two                 1   \n",
       "3   ₹49 for two                 5   \n",
       "4  ₹200 for two                 2   \n",
       "\n",
       "                                          Offer Name                    Area  \\\n",
       "0  FLAT DEAL\\nFLAT ₹125 OFF\\nUSE FLAT125ABOVE ₹69...  LALA LAJPAT RAI MARKET   \n",
       "1  30% OFF UPTO ₹75\\nUSE TRYNEWABOVE ₹149, FLAT ₹...          Central Abohar   \n",
       "2               FLAT ₹120 OFF\\nUSE AXIS120ABOVE ₹500          Central Abohar   \n",
       "3  50% OFF UPTO ₹100\\nUSE TRYNEWABOVE ₹129, FLAT ...          Central Abohar   \n",
       "4  DEAL OF DAY\\n10% OFF UPTO ₹40\\nUSE STEALDEALAB...           Circular Road   \n",
       "\n",
       "  Pure Veg Location  \n",
       "0       No   Abohar  \n",
       "1       No   Abohar  \n",
       "2      Yes   Abohar  \n",
       "3      Yes   Abohar  \n",
       "4       No   Abohar  "
      ]
     },
     "execution_count": 12,
     "metadata": {},
     "output_type": "execute_result"
    }
   ],
   "source": [
    "import pandas as pd \n",
    "import numpy as np\n",
    "\n",
    "df=pd.read_csv(\"swiggy_file.csv\")\n",
    "\n",
    "df\n",
    "\n",
    "df.head()"
   ]
  },
  {
   "cell_type": "code",
   "execution_count": 5,
   "metadata": {},
   "outputs": [
    {
     "data": {
      "text/html": [
       "<div>\n",
       "<style scoped>\n",
       "    .dataframe tbody tr th:only-of-type {\n",
       "        vertical-align: middle;\n",
       "    }\n",
       "\n",
       "    .dataframe tbody tr th {\n",
       "        vertical-align: top;\n",
       "    }\n",
       "\n",
       "    .dataframe thead th {\n",
       "        text-align: right;\n",
       "    }\n",
       "</style>\n",
       "<table border=\"1\" class=\"dataframe\">\n",
       "  <thead>\n",
       "    <tr style=\"text-align: right;\">\n",
       "      <th></th>\n",
       "      <th>Restaurant Name</th>\n",
       "      <th>Cuisine</th>\n",
       "      <th>Rating</th>\n",
       "      <th>Number of Ratings</th>\n",
       "      <th>Average Price</th>\n",
       "      <th>Number of Offers</th>\n",
       "      <th>Offer Name</th>\n",
       "      <th>Area</th>\n",
       "      <th>Pure Veg</th>\n",
       "      <th>Location</th>\n",
       "    </tr>\n",
       "  </thead>\n",
       "  <tbody>\n",
       "    <tr>\n",
       "      <th>140652</th>\n",
       "      <td>Yummy Momo'S Cafe</td>\n",
       "      <td>Chinese, Fast Food</td>\n",
       "      <td>4.6</td>\n",
       "      <td>3 ratings</td>\n",
       "      <td>₹100 for two</td>\n",
       "      <td>3</td>\n",
       "      <td>20% OFF UPTO ₹50\\nUSE TRYNEWABOVE ₹149, FLAT ₹...</td>\n",
       "      <td>Yavatmal Locality</td>\n",
       "      <td>Yes</td>\n",
       "      <td>Yavatmal</td>\n",
       "    </tr>\n",
       "    <tr>\n",
       "      <th>140653</th>\n",
       "      <td>CAFE FIRST FLOOR</td>\n",
       "      <td>Beverages, Snacks</td>\n",
       "      <td>3.2</td>\n",
       "      <td>3 ratings</td>\n",
       "      <td>₹200 for two</td>\n",
       "      <td>2</td>\n",
       "      <td>FLAT ₹120 OFF\\nUSE AXIS120ABOVE ₹500, FLAT ₹50...</td>\n",
       "      <td>Yavatmal City</td>\n",
       "      <td>Yes</td>\n",
       "      <td>Yavatmal</td>\n",
       "    </tr>\n",
       "    <tr>\n",
       "      <th>140654</th>\n",
       "      <td>Cafe Coffee Aani Barach Kahi</td>\n",
       "      <td>Snacks</td>\n",
       "      <td>3.2</td>\n",
       "      <td>50+ ratings</td>\n",
       "      <td>₹150 for two</td>\n",
       "      <td>2</td>\n",
       "      <td>FLAT ₹120 OFF\\nUSE AXIS120ABOVE ₹500, FLAT ₹50...</td>\n",
       "      <td>Yavatmal Locality</td>\n",
       "      <td>Yes</td>\n",
       "      <td>Yavatmal</td>\n",
       "    </tr>\n",
       "    <tr>\n",
       "      <th>140655</th>\n",
       "      <td>Patil Family Restaurant</td>\n",
       "      <td>North Indian, Biryani</td>\n",
       "      <td>4.3</td>\n",
       "      <td>9 ratings</td>\n",
       "      <td>₹200 for two</td>\n",
       "      <td>2</td>\n",
       "      <td>FLAT ₹120 OFF\\nUSE AXIS120ABOVE ₹500, FLAT ₹50...</td>\n",
       "      <td>Yavatmal Locality</td>\n",
       "      <td>No</td>\n",
       "      <td>Yavatmal</td>\n",
       "    </tr>\n",
       "    <tr>\n",
       "      <th>140656</th>\n",
       "      <td>Prabhakar Mama Cha Dhaba</td>\n",
       "      <td>North Indian</td>\n",
       "      <td>--</td>\n",
       "      <td>Too Few Ratings</td>\n",
       "      <td>₹350 for two</td>\n",
       "      <td>2</td>\n",
       "      <td>FLAT ₹120 OFF\\nUSE AXIS120ABOVE ₹500, FLAT ₹50...</td>\n",
       "      <td>Yavatmal Locality</td>\n",
       "      <td>No</td>\n",
       "      <td>Yavatmal</td>\n",
       "    </tr>\n",
       "  </tbody>\n",
       "</table>\n",
       "</div>"
      ],
      "text/plain": [
       "                     Restaurant Name                Cuisine Rating  \\\n",
       "140652             Yummy Momo'S Cafe     Chinese, Fast Food    4.6   \n",
       "140653              CAFE FIRST FLOOR      Beverages, Snacks    3.2   \n",
       "140654  Cafe Coffee Aani Barach Kahi                 Snacks    3.2   \n",
       "140655       Patil Family Restaurant  North Indian, Biryani    4.3   \n",
       "140656      Prabhakar Mama Cha Dhaba           North Indian     --   \n",
       "\n",
       "       Number of Ratings Average Price  Number of Offers  \\\n",
       "140652         3 ratings  ₹100 for two                 3   \n",
       "140653         3 ratings  ₹200 for two                 2   \n",
       "140654       50+ ratings  ₹150 for two                 2   \n",
       "140655         9 ratings  ₹200 for two                 2   \n",
       "140656   Too Few Ratings  ₹350 for two                 2   \n",
       "\n",
       "                                               Offer Name               Area  \\\n",
       "140652  20% OFF UPTO ₹50\\nUSE TRYNEWABOVE ₹149, FLAT ₹...  Yavatmal Locality   \n",
       "140653  FLAT ₹120 OFF\\nUSE AXIS120ABOVE ₹500, FLAT ₹50...      Yavatmal City   \n",
       "140654  FLAT ₹120 OFF\\nUSE AXIS120ABOVE ₹500, FLAT ₹50...  Yavatmal Locality   \n",
       "140655  FLAT ₹120 OFF\\nUSE AXIS120ABOVE ₹500, FLAT ₹50...  Yavatmal Locality   \n",
       "140656  FLAT ₹120 OFF\\nUSE AXIS120ABOVE ₹500, FLAT ₹50...  Yavatmal Locality   \n",
       "\n",
       "       Pure Veg  Location  \n",
       "140652      Yes  Yavatmal  \n",
       "140653      Yes  Yavatmal  \n",
       "140654      Yes  Yavatmal  \n",
       "140655       No  Yavatmal  \n",
       "140656       No  Yavatmal  "
      ]
     },
     "execution_count": 5,
     "metadata": {},
     "output_type": "execute_result"
    }
   ],
   "source": [
    "df.tail()"
   ]
  },
  {
   "cell_type": "code",
   "execution_count": 6,
   "metadata": {},
   "outputs": [
    {
     "data": {
      "text/plain": [
       "(140657, 10)"
      ]
     },
     "execution_count": 6,
     "metadata": {},
     "output_type": "execute_result"
    }
   ],
   "source": [
    "df.shape"
   ]
  },
  {
   "cell_type": "code",
   "execution_count": 8,
   "metadata": {},
   "outputs": [
    {
     "data": {
      "text/html": [
       "<div>\n",
       "<style scoped>\n",
       "    .dataframe tbody tr th:only-of-type {\n",
       "        vertical-align: middle;\n",
       "    }\n",
       "\n",
       "    .dataframe tbody tr th {\n",
       "        vertical-align: top;\n",
       "    }\n",
       "\n",
       "    .dataframe thead th {\n",
       "        text-align: right;\n",
       "    }\n",
       "</style>\n",
       "<table border=\"1\" class=\"dataframe\">\n",
       "  <thead>\n",
       "    <tr style=\"text-align: right;\">\n",
       "      <th></th>\n",
       "      <th>Number of Offers</th>\n",
       "    </tr>\n",
       "  </thead>\n",
       "  <tbody>\n",
       "    <tr>\n",
       "      <th>count</th>\n",
       "      <td>140657.000000</td>\n",
       "    </tr>\n",
       "    <tr>\n",
       "      <th>mean</th>\n",
       "      <td>3.187890</td>\n",
       "    </tr>\n",
       "    <tr>\n",
       "      <th>std</th>\n",
       "      <td>1.583943</td>\n",
       "    </tr>\n",
       "    <tr>\n",
       "      <th>min</th>\n",
       "      <td>0.000000</td>\n",
       "    </tr>\n",
       "    <tr>\n",
       "      <th>25%</th>\n",
       "      <td>1.000000</td>\n",
       "    </tr>\n",
       "    <tr>\n",
       "      <th>50%</th>\n",
       "      <td>4.000000</td>\n",
       "    </tr>\n",
       "    <tr>\n",
       "      <th>75%</th>\n",
       "      <td>5.000000</td>\n",
       "    </tr>\n",
       "    <tr>\n",
       "      <th>max</th>\n",
       "      <td>5.000000</td>\n",
       "    </tr>\n",
       "  </tbody>\n",
       "</table>\n",
       "</div>"
      ],
      "text/plain": [
       "       Number of Offers\n",
       "count     140657.000000\n",
       "mean           3.187890\n",
       "std            1.583943\n",
       "min            0.000000\n",
       "25%            1.000000\n",
       "50%            4.000000\n",
       "75%            5.000000\n",
       "max            5.000000"
      ]
     },
     "execution_count": 8,
     "metadata": {},
     "output_type": "execute_result"
    }
   ],
   "source": [
    "df.describe()"
   ]
  },
  {
   "cell_type": "code",
   "execution_count": 9,
   "metadata": {},
   "outputs": [
    {
     "name": "stdout",
     "output_type": "stream",
     "text": [
      "<class 'pandas.core.frame.DataFrame'>\n",
      "RangeIndex: 140657 entries, 0 to 140656\n",
      "Data columns (total 10 columns):\n",
      " #   Column             Non-Null Count   Dtype \n",
      "---  ------             --------------   ----- \n",
      " 0   Restaurant Name    140657 non-null  object\n",
      " 1   Cuisine            140630 non-null  object\n",
      " 2   Rating             140657 non-null  object\n",
      " 3   Number of Ratings  126115 non-null  object\n",
      " 4   Average Price      140657 non-null  object\n",
      " 5   Number of Offers   140657 non-null  int64 \n",
      " 6   Offer Name         138849 non-null  object\n",
      " 7   Area               140655 non-null  object\n",
      " 8   Pure Veg           140657 non-null  object\n",
      " 9   Location           140657 non-null  object\n",
      "dtypes: int64(1), object(9)\n",
      "memory usage: 10.7+ MB\n"
     ]
    }
   ],
   "source": [
    "df.info()"
   ]
  },
  {
   "cell_type": "code",
   "execution_count": 10,
   "metadata": {},
   "outputs": [
    {
     "data": {
      "text/plain": [
       "Restaurant Name          0\n",
       "Cuisine                 27\n",
       "Rating                   0\n",
       "Number of Ratings    14542\n",
       "Average Price            0\n",
       "Number of Offers         0\n",
       "Offer Name            1808\n",
       "Area                     2\n",
       "Pure Veg                 0\n",
       "Location                 0\n",
       "dtype: int64"
      ]
     },
     "execution_count": 10,
     "metadata": {},
     "output_type": "execute_result"
    }
   ],
   "source": [
    "df.isnull().sum()"
   ]
  },
  {
   "cell_type": "code",
   "execution_count": 18,
   "metadata": {},
   "outputs": [
    {
     "data": {
      "text/plain": [
       "'007 Punjabi Dhaba'"
      ]
     },
     "execution_count": 18,
     "metadata": {},
     "output_type": "execute_result"
    }
   ],
   "source": [
    "min(df['Restaurant Name'])"
   ]
  },
  {
   "cell_type": "code",
   "execution_count": 19,
   "metadata": {},
   "outputs": [
    {
     "data": {
      "text/plain": [
       "'Zza Bar'"
      ]
     },
     "execution_count": 19,
     "metadata": {},
     "output_type": "execute_result"
    }
   ],
   "source": [
    "max(df['Restaurant Name'])"
   ]
  }
 ],
 "metadata": {
  "kernelspec": {
   "display_name": "Python 3",
   "language": "python",
   "name": "python3"
  },
  "language_info": {
   "codemirror_mode": {
    "name": "ipython",
    "version": 3
   },
   "file_extension": ".py",
   "mimetype": "text/x-python",
   "name": "python",
   "nbconvert_exporter": "python",
   "pygments_lexer": "ipython3",
   "version": "3.12.0"
  }
 },
 "nbformat": 4,
 "nbformat_minor": 2
}
