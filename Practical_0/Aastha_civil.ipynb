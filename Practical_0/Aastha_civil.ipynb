{
 "cells": [
  {
   "cell_type": "code",
   "execution_count": 1,
   "id": "a0fded8c",
   "metadata": {},
   "outputs": [],
   "source": [
    "import pandas as pd"
   ]
  },
  {
   "cell_type": "code",
   "execution_count": 2,
   "id": "e038a9f6",
   "metadata": {},
   "outputs": [],
   "source": [
    "import numpy as np"
   ]
  },
  {
   "cell_type": "code",
   "execution_count": 3,
   "id": "13e95774",
   "metadata": {},
   "outputs": [],
   "source": [
    "df = pd.read_excel(\"C & F COMBINE.xlsx\")"
   ]
  },
  {
   "cell_type": "code",
   "execution_count": 4,
   "id": "f4b45b02",
   "metadata": {},
   "outputs": [],
   "source": [
    "x = df.iloc[0:20,0:6]\n",
    "y = df.iloc[0:20,-3]"
   ]
  },
  {
   "cell_type": "code",
   "execution_count": 5,
   "id": "05605b0e",
   "metadata": {},
   "outputs": [
    {
     "data": {
      "text/html": [
       "<div>\n",
       "<style scoped>\n",
       "    .dataframe tbody tr th:only-of-type {\n",
       "        vertical-align: middle;\n",
       "    }\n",
       "\n",
       "    .dataframe tbody tr th {\n",
       "        vertical-align: top;\n",
       "    }\n",
       "\n",
       "    .dataframe thead th {\n",
       "        text-align: right;\n",
       "    }\n",
       "</style>\n",
       "<table border=\"1\" class=\"dataframe\">\n",
       "  <thead>\n",
       "    <tr style=\"text-align: right;\">\n",
       "      <th></th>\n",
       "      <th>Days</th>\n",
       "      <th>%</th>\n",
       "      <th>Cement</th>\n",
       "      <th>F.A</th>\n",
       "      <th>C.A</th>\n",
       "      <th>HDPE</th>\n",
       "    </tr>\n",
       "  </thead>\n",
       "  <tbody>\n",
       "    <tr>\n",
       "      <th>0</th>\n",
       "      <td>3</td>\n",
       "      <td>0</td>\n",
       "      <td>320</td>\n",
       "      <td>855</td>\n",
       "      <td>1199</td>\n",
       "      <td>0</td>\n",
       "    </tr>\n",
       "    <tr>\n",
       "      <th>1</th>\n",
       "      <td>3</td>\n",
       "      <td>2.5</td>\n",
       "      <td>323</td>\n",
       "      <td>833.63</td>\n",
       "      <td>1200</td>\n",
       "      <td>21.37</td>\n",
       "    </tr>\n",
       "    <tr>\n",
       "      <th>2</th>\n",
       "      <td>3</td>\n",
       "      <td>5</td>\n",
       "      <td>323</td>\n",
       "      <td>812.25</td>\n",
       "      <td>1200</td>\n",
       "      <td>42.75</td>\n",
       "    </tr>\n",
       "    <tr>\n",
       "      <th>3</th>\n",
       "      <td>3</td>\n",
       "      <td>7.5</td>\n",
       "      <td>323</td>\n",
       "      <td>790.88</td>\n",
       "      <td>1200</td>\n",
       "      <td>64.12</td>\n",
       "    </tr>\n",
       "    <tr>\n",
       "      <th>4</th>\n",
       "      <td>3</td>\n",
       "      <td>10</td>\n",
       "      <td>323</td>\n",
       "      <td>769.5</td>\n",
       "      <td>1200</td>\n",
       "      <td>85.5</td>\n",
       "    </tr>\n",
       "    <tr>\n",
       "      <th>5</th>\n",
       "      <td>7</td>\n",
       "      <td>0</td>\n",
       "      <td>320</td>\n",
       "      <td>855</td>\n",
       "      <td>1199</td>\n",
       "      <td>0</td>\n",
       "    </tr>\n",
       "    <tr>\n",
       "      <th>6</th>\n",
       "      <td>7</td>\n",
       "      <td>2.5</td>\n",
       "      <td>323</td>\n",
       "      <td>833.63</td>\n",
       "      <td>1200</td>\n",
       "      <td>21.37</td>\n",
       "    </tr>\n",
       "    <tr>\n",
       "      <th>7</th>\n",
       "      <td>7</td>\n",
       "      <td>5</td>\n",
       "      <td>323</td>\n",
       "      <td>812.25</td>\n",
       "      <td>1200</td>\n",
       "      <td>42.75</td>\n",
       "    </tr>\n",
       "    <tr>\n",
       "      <th>8</th>\n",
       "      <td>7</td>\n",
       "      <td>7.5</td>\n",
       "      <td>323</td>\n",
       "      <td>790.88</td>\n",
       "      <td>1200</td>\n",
       "      <td>64.12</td>\n",
       "    </tr>\n",
       "    <tr>\n",
       "      <th>9</th>\n",
       "      <td>7</td>\n",
       "      <td>10</td>\n",
       "      <td>323</td>\n",
       "      <td>769.5</td>\n",
       "      <td>1200</td>\n",
       "      <td>85.5</td>\n",
       "    </tr>\n",
       "    <tr>\n",
       "      <th>10</th>\n",
       "      <td>28</td>\n",
       "      <td>0</td>\n",
       "      <td>320</td>\n",
       "      <td>855</td>\n",
       "      <td>1199</td>\n",
       "      <td>0</td>\n",
       "    </tr>\n",
       "    <tr>\n",
       "      <th>11</th>\n",
       "      <td>28</td>\n",
       "      <td>2.5</td>\n",
       "      <td>323</td>\n",
       "      <td>833.63</td>\n",
       "      <td>1200</td>\n",
       "      <td>21.37</td>\n",
       "    </tr>\n",
       "    <tr>\n",
       "      <th>12</th>\n",
       "      <td>28</td>\n",
       "      <td>5</td>\n",
       "      <td>323</td>\n",
       "      <td>812.25</td>\n",
       "      <td>1200</td>\n",
       "      <td>42.75</td>\n",
       "    </tr>\n",
       "    <tr>\n",
       "      <th>13</th>\n",
       "      <td>28</td>\n",
       "      <td>7.5</td>\n",
       "      <td>323</td>\n",
       "      <td>790.88</td>\n",
       "      <td>1200</td>\n",
       "      <td>64.12</td>\n",
       "    </tr>\n",
       "    <tr>\n",
       "      <th>14</th>\n",
       "      <td>28</td>\n",
       "      <td>10</td>\n",
       "      <td>323</td>\n",
       "      <td>769.5</td>\n",
       "      <td>1200</td>\n",
       "      <td>85.5</td>\n",
       "    </tr>\n",
       "    <tr>\n",
       "      <th>15</th>\n",
       "      <td>60</td>\n",
       "      <td>0</td>\n",
       "      <td>320</td>\n",
       "      <td>855</td>\n",
       "      <td>1199</td>\n",
       "      <td>0</td>\n",
       "    </tr>\n",
       "    <tr>\n",
       "      <th>16</th>\n",
       "      <td>60</td>\n",
       "      <td>2.5</td>\n",
       "      <td>323</td>\n",
       "      <td>833.63</td>\n",
       "      <td>1200</td>\n",
       "      <td>21.37</td>\n",
       "    </tr>\n",
       "    <tr>\n",
       "      <th>17</th>\n",
       "      <td>60</td>\n",
       "      <td>5</td>\n",
       "      <td>323</td>\n",
       "      <td>812.25</td>\n",
       "      <td>1200</td>\n",
       "      <td>42.75</td>\n",
       "    </tr>\n",
       "    <tr>\n",
       "      <th>18</th>\n",
       "      <td>60</td>\n",
       "      <td>7.5</td>\n",
       "      <td>323</td>\n",
       "      <td>790.88</td>\n",
       "      <td>1200</td>\n",
       "      <td>64.12</td>\n",
       "    </tr>\n",
       "    <tr>\n",
       "      <th>19</th>\n",
       "      <td>60</td>\n",
       "      <td>10</td>\n",
       "      <td>323</td>\n",
       "      <td>769.5</td>\n",
       "      <td>1200</td>\n",
       "      <td>85.5</td>\n",
       "    </tr>\n",
       "  </tbody>\n",
       "</table>\n",
       "</div>"
      ],
      "text/plain": [
       "   Days    % Cement     F.A   C.A   HDPE\n",
       "0     3    0    320     855  1199      0\n",
       "1     3  2.5    323  833.63  1200  21.37\n",
       "2     3    5    323  812.25  1200  42.75\n",
       "3     3  7.5    323  790.88  1200  64.12\n",
       "4     3   10    323   769.5  1200   85.5\n",
       "5     7    0    320     855  1199      0\n",
       "6     7  2.5    323  833.63  1200  21.37\n",
       "7     7    5    323  812.25  1200  42.75\n",
       "8     7  7.5    323  790.88  1200  64.12\n",
       "9     7   10    323   769.5  1200   85.5\n",
       "10   28    0    320     855  1199      0\n",
       "11   28  2.5    323  833.63  1200  21.37\n",
       "12   28    5    323  812.25  1200  42.75\n",
       "13   28  7.5    323  790.88  1200  64.12\n",
       "14   28   10    323   769.5  1200   85.5\n",
       "15   60    0    320     855  1199      0\n",
       "16   60  2.5    323  833.63  1200  21.37\n",
       "17   60    5    323  812.25  1200  42.75\n",
       "18   60  7.5    323  790.88  1200  64.12\n",
       "19   60   10    323   769.5  1200   85.5"
      ]
     },
     "execution_count": 5,
     "metadata": {},
     "output_type": "execute_result"
    }
   ],
   "source": [
    "x"
   ]
  },
  {
   "cell_type": "code",
   "execution_count": 6,
   "id": "d1e881c5",
   "metadata": {},
   "outputs": [
    {
     "data": {
      "text/plain": [
       "0        12.35\n",
       "1        11.78\n",
       "2        12.25\n",
       "3        13.75\n",
       "4        10.36\n",
       "5        21.65\n",
       "6        21.25\n",
       "7        21.85\n",
       "8        23.52\n",
       "9        22.36\n",
       "10       32.44\n",
       "11       31.25\n",
       "12       33.45\n",
       "13       38.65\n",
       "14       35.24\n",
       "15       33.11\n",
       "16    35.09375\n",
       "17     36.3267\n",
       "18     42.9015\n",
       "19     38.4116\n",
       "Name: CS- EXP, dtype: object"
      ]
     },
     "execution_count": 6,
     "metadata": {},
     "output_type": "execute_result"
    }
   ],
   "source": [
    "y"
   ]
  },
  {
   "cell_type": "code",
   "execution_count": 7,
   "id": "eb2bfd41",
   "metadata": {},
   "outputs": [],
   "source": [
    "from sklearn import linear_model\n",
    "from sklearn.linear_model import LinearRegression\n",
    "from sklearn import metrics\n",
    "from sklearn.metrics import mean_squared_error, mean_absolute_error, r2_score\n",
    "from sklearn.model_selection import train_test_split"
   ]
  },
  {
   "cell_type": "code",
   "execution_count": 8,
   "id": "e9fba12f",
   "metadata": {},
   "outputs": [],
   "source": [
    "X_train,X_test, y_train, y_test = train_test_split(x, y, test_size = 0.3, random_state = 2)"
   ]
  },
  {
   "cell_type": "code",
   "execution_count": 9,
   "id": "b9e1c083",
   "metadata": {},
   "outputs": [
    {
     "data": {
      "text/plain": [
       "(14,)"
      ]
     },
     "execution_count": 9,
     "metadata": {},
     "output_type": "execute_result"
    }
   ],
   "source": [
    "y_train.shape"
   ]
  },
  {
   "cell_type": "code",
   "execution_count": 10,
   "id": "a93c2580",
   "metadata": {},
   "outputs": [
    {
     "data": {
      "text/plain": [
       "(6,)"
      ]
     },
     "execution_count": 10,
     "metadata": {},
     "output_type": "execute_result"
    }
   ],
   "source": [
    "y_test.shape"
   ]
  },
  {
   "cell_type": "code",
   "execution_count": 11,
   "id": "d01c844a",
   "metadata": {},
   "outputs": [],
   "source": [
    "reg_model = linear_model.LinearRegression()"
   ]
  },
  {
   "cell_type": "code",
   "execution_count": 12,
   "id": "6b31fcc9",
   "metadata": {},
   "outputs": [],
   "source": [
    "reg_model = LinearRegression().fit(X_train, y_train)"
   ]
  },
  {
   "cell_type": "code",
   "execution_count": 63,
   "id": "091c12cc",
   "metadata": {},
   "outputs": [],
   "source": [
    "y_pred= reg_model.predict(X_test)  "
   ]
  },
  {
   "cell_type": "code",
   "execution_count": 64,
   "id": "b6744a17",
   "metadata": {},
   "outputs": [
    {
     "name": "stdout",
     "output_type": "stream",
     "text": [
      "Prediction for test set: [25.46875   22.0703125 42.03125   18.609375  23.453125  19.9921875]\n"
     ]
    }
   ],
   "source": [
    "print(\"Prediction for test set: {}\".format(y_pred))"
   ]
  },
  {
   "cell_type": "code",
   "execution_count": 65,
   "id": "e3c3e018",
   "metadata": {},
   "outputs": [
    {
     "data": {
      "text/html": [
       "<div>\n",
       "<style scoped>\n",
       "    .dataframe tbody tr th:only-of-type {\n",
       "        vertical-align: middle;\n",
       "    }\n",
       "\n",
       "    .dataframe tbody tr th {\n",
       "        vertical-align: top;\n",
       "    }\n",
       "\n",
       "    .dataframe thead th {\n",
       "        text-align: right;\n",
       "    }\n",
       "</style>\n",
       "<table border=\"1\" class=\"dataframe\">\n",
       "  <thead>\n",
       "    <tr style=\"text-align: right;\">\n",
       "      <th></th>\n",
       "      <th>Actual value</th>\n",
       "      <th>Predicted value</th>\n",
       "    </tr>\n",
       "  </thead>\n",
       "  <tbody>\n",
       "    <tr>\n",
       "      <th>12</th>\n",
       "      <td>33.45</td>\n",
       "      <td>25.468750</td>\n",
       "    </tr>\n",
       "    <tr>\n",
       "      <th>4</th>\n",
       "      <td>10.36</td>\n",
       "      <td>22.070312</td>\n",
       "    </tr>\n",
       "    <tr>\n",
       "      <th>18</th>\n",
       "      <td>42.9015</td>\n",
       "      <td>42.031250</td>\n",
       "    </tr>\n",
       "    <tr>\n",
       "      <th>0</th>\n",
       "      <td>12.35</td>\n",
       "      <td>18.609375</td>\n",
       "    </tr>\n",
       "    <tr>\n",
       "      <th>9</th>\n",
       "      <td>22.36</td>\n",
       "      <td>23.453125</td>\n",
       "    </tr>\n",
       "    <tr>\n",
       "      <th>5</th>\n",
       "      <td>21.65</td>\n",
       "      <td>19.992188</td>\n",
       "    </tr>\n",
       "  </tbody>\n",
       "</table>\n",
       "</div>"
      ],
      "text/plain": [
       "   Actual value  Predicted value\n",
       "12        33.45        25.468750\n",
       "4         10.36        22.070312\n",
       "18      42.9015        42.031250\n",
       "0         12.35        18.609375\n",
       "9         22.36        23.453125\n",
       "5         21.65        19.992188"
      ]
     },
     "execution_count": 65,
     "metadata": {},
     "output_type": "execute_result"
    }
   ],
   "source": [
    "#Actual value and the predicted value\n",
    "reg_model_diff = pd.DataFrame({'Actual value': y_test, 'Predicted value': y_pred})\n",
    "reg_model_diff"
   ]
  },
  {
   "cell_type": "code",
   "execution_count": 66,
   "id": "705dbc4a",
   "metadata": {},
   "outputs": [
    {
     "name": "stdout",
     "output_type": "stream",
     "text": [
      "Mean Absolute Error: 4.928687500000001\n",
      "Mean Square Error: 40.78535756901042\n",
      "Root Mean Square Error: 6.386341485468063\n",
      "r2-Score: 6.386341485468063\n",
      "Regression Model Score: 0.7454374300216211\n"
     ]
    }
   ],
   "source": [
    "mae = metrics.mean_absolute_error(y_test, y_pred)\n",
    "mse = metrics.mean_squared_error(y_test, y_pred)\n",
    "r2 = np.sqrt(metrics.mean_squared_error(y_test, y_pred))\n",
    "r2_Score = r2_score(y_test, y_pred)\n",
    "score = reg_model.score(X_train, y_train)\n",
    "print('Mean Absolute Error:', mae)\n",
    "print('Mean Square Error:', mse)\n",
    "print('Root Mean Square Error:', r2)\n",
    "print('r2-Score:', r2)\n",
    "print('Regression Model Score:', score)"
   ]
  },
  {
   "cell_type": "code",
   "execution_count": 67,
   "id": "e299eec0",
   "metadata": {},
   "outputs": [],
   "source": [
    "from mpl_toolkits.mplot3d import Axes3D\n",
    "import matplotlib.pyplot as plt "
   ]
  },
  {
   "cell_type": "code",
   "execution_count": 80,
   "id": "9e675eb7",
   "metadata": {},
   "outputs": [],
   "source": [
    "# Creating a meshgrid for the plane\n",
    "x_values = np.linspace(min(x[\"Days\"]), max(x[\"Days\"]), 10)\n",
    "y_values = np.linspace(min(x[\"HDPE\"]), max(x[\"HDPE\"]), 10)\n",
    "x_mesh, y_mesh = np.meshgrid(x_values, y_values)\n",
    "\n",
    "intercept=reg_model.intercept_\n",
    "coef_Days,coef_HDPE = reg_model.coef_[0],reg_model.coef_[5]"
   ]
  },
  {
   "cell_type": "code",
   "execution_count": 81,
   "id": "e10363ef",
   "metadata": {},
   "outputs": [],
   "source": [
    "## Calculating z values for the plane using the plane equation\n",
    "z_mesh = coef_Days * x_mesh + coef_HDPE * y_mesh + intercept"
   ]
  },
  {
   "cell_type": "code",
   "execution_count": 82,
   "id": "50960e8e",
   "metadata": {},
   "outputs": [
    {
     "data": {
      "image/png": "[encoded data removed]",
      "text/plain": [
       "<Figure size 640x480 with 1 Axes>"
      ]
     },
     "metadata": {},
     "output_type": "display_data"
    }
   ],
   "source": [
    " # Plotting the scatter plot\n",
    " fig = plt.figure()\n",
    " ax = fig.add_subplot(projection='3d')\n",
    " ax.scatter(x[\"Days\"], x[\"HDPE\"], y)\n",
    " # Plotting the best fit plane\n",
    " ax.plot_surface(x_mesh, y_mesh, z_mesh, alpha = 0.3, color='green')\n",
    " ax.set_xlabel('Days')\n",
    " ax.set_ylabel('HDPE')\n",
    " ax.set_zlabel('CS-EXP')\n",
    " ax.set_title('3D Scatter Plot with Best Fit Plane')\n",
    "# ax.legend()\n",
    " plt.show()"
   ]
  },
  {
   "cell_type": "code",
   "execution_count": null,
   "id": "f98d4f69",
   "metadata": {},
   "outputs": [],
   "source": []
  }
 ],
 "metadata": {
  "kernelspec": {
   "display_name": "Python 3 (ipykernel)",
   "language": "python",
   "name": "python3"
  },
  "language_info": {
   "codemirror_mode": {
    "name": "ipython",
    "version": 3
   },
   "file_extension": ".py",
   "mimetype": "text/x-python",
   "name": "python",
   "nbconvert_exporter": "python",
   "pygments_lexer": "ipython3",
   "version": "3.11.5"
  }
 },
 "nbformat": 4,
 "nbformat_minor": 5
}
