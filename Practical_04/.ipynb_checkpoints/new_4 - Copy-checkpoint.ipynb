{
 "cells": [
  {
   "cell_type": "code",
   "execution_count": null,
   "id": "1a158191-c329-4876-b003-8ded6a2183dc",
   "metadata": {},
   "outputs": [],
   "source": [
    "import pandas as pd\n",
    "import numpy as np\n",
    "\n",
    "import matplotlib.pyplot as plt"
   ]
  },
  {
   "cell_type": "code",
   "execution_count": null,
   "id": "9533e420-1e99-471f-be41-f5d6aa1813ed",
   "metadata": {},
   "outputs": [],
   "source": [
    "#data_no=pd.read_csv('Automobile.csv')\n",
    "#df = pd.DataFrame()\n",
    "df = pd.read_csv(\"Iris.csv\")"
   ]
  },
  {
   "cell_type": "code",
   "execution_count": null,
   "id": "e1b9b2de-3e49-4998-8637-dcf698115883",
   "metadata": {},
   "outputs": [],
   "source": [
    "df"
   ]
  },
  {
   "cell_type": "code",
   "execution_count": null,
   "id": "a0d3e8a8-e756-4d7a-ad31-cf6420f2cabd",
   "metadata": {},
   "outputs": [],
   "source": [
    "df.info()"
   ]
  },
  {
   "cell_type": "code",
   "execution_count": null,
   "id": "0cdaa49f-220d-4a63-b44f-3498fd554539",
   "metadata": {},
   "outputs": [],
   "source": [
    "df.isnull().sum()"
   ]
  },
  {
   "cell_type": "code",
   "execution_count": null,
   "id": "0ab397d8-3f6c-47e0-984c-bf5d383a6b49",
   "metadata": {},
   "outputs": [],
   "source": [
    "X = df.iloc[:,1:5]\n",
    "Y = df.iloc[:,-1]"
   ]
  },
  {
   "cell_type": "code",
   "execution_count": null,
   "id": "e51c005d-d2b2-432a-a6bf-99300557ee9f",
   "metadata": {},
   "outputs": [],
   "source": [
    "X"
   ]
  },
  {
   "cell_type": "code",
   "execution_count": null,
   "id": "b1393b77-602e-45bc-b7e0-565920c30bcf",
   "metadata": {},
   "outputs": [],
   "source": [
    "Y.shape"
   ]
  },
  {
   "cell_type": "code",
   "execution_count": null,
   "id": "1d097c26-0f1a-4059-bf5d-214ff509f5c6",
   "metadata": {},
   "outputs": [],
   "source": [
    "X.shape"
   ]
  },
  {
   "cell_type": "code",
   "execution_count": null,
   "id": "44fc9e16-e6ea-4523-8245-90df6c97351b",
   "metadata": {},
   "outputs": [],
   "source": [
    "from sklearn.model_selection import train_test_split\n",
    "X_train, X_test, Y_train, Y_test = train_test_split(X, Y, test_size=0.33, random_state=40)"
   ]
  },
  {
   "cell_type": "code",
   "execution_count": null,
   "id": "2794ab4f-8eb2-4d72-81ad-524e8f54276b",
   "metadata": {},
   "outputs": [],
   "source": [
    "Y_test.shape"
   ]
  },
  {
   "cell_type": "code",
   "execution_count": null,
   "id": "b4553b9f-ec60-4802-bfb2-fb70f8855785",
   "metadata": {},
   "outputs": [],
   "source": [
    "df.describe()"
   ]
  },
  {
   "cell_type": "code",
   "execution_count": null,
   "id": "a867720b-e2fa-440a-bf5e-046d3af0d0cd",
   "metadata": {},
   "outputs": [],
   "source": [
    "from sklearn.tree import DecisionTreeClassifier\n",
    "dt=DecisionTreeClassifier()\n"
   ]
  },
  {
   "cell_type": "code",
   "execution_count": null,
   "id": "e6555d6c-e73c-4e87-bdc8-17a1f231cbb6",
   "metadata": {},
   "outputs": [],
   "source": [
    "dt.fit(X_train,Y_train)"
   ]
  },
  {
   "cell_type": "code",
   "execution_count": null,
   "id": "5ee8f89a-dd7c-4427-9a8c-4f69fe46267f",
   "metadata": {},
   "outputs": [],
   "source": [
    "Y_pred = dt.predict(X_test)"
   ]
  },
  {
   "cell_type": "code",
   "execution_count": null,
   "id": "9780e723-0ca3-43cc-aea8-df0db57a2d69",
   "metadata": {},
   "outputs": [],
   "source": [
    "dt.score(X_test,Y_test)"
   ]
  },
  {
   "cell_type": "code",
   "execution_count": null,
   "id": "6b40b40a-a627-4d93-9452-ef995109680d",
   "metadata": {},
   "outputs": [],
   "source": [
    "from sklearn import tree\n",
    "clf=tree.DecisionTreeClassifier()\n",
    "clf=clf.fit(X_train,Y_train)"
   ]
  },
  {
   "cell_type": "code",
   "execution_count": null,
   "id": "deb4a87b-8f3f-4dae-b9c8-b30b9f2e3cf8",
   "metadata": {},
   "outputs": [],
   "source": [
    "tree.plot_tree(clf)"
   ]
  },
  {
   "cell_type": "code",
   "execution_count": 20,
   "id": "89970ab5-3e72-482e-895b-40308c8d7a1e",
   "metadata": {},
   "outputs": [],
   "source": [
    "\n",
    "user_input = []\n",
    "for i in range(4):\n",
    "    print(f\"Enter values for Input {i + 1}:\")\n",
    "    SepalLengthCm = float(input(\"Enter value for SepalLengthCm: \"))\n",
    "    SepalWidthCm = float(input(\"Enter value for SepalWidthCm: \"))\n",
    "    PetalLengthCm = float(input(\"Enter value for PetalLengthCm: \"))\n",
    "    PetalWidthCm = float(input(\"Enter value for PetalWidthCm: \"))\n",
    "    X_new.append([SepalLengthCm, SepalWidthCm, PetalLengthCm, PetalWidthCm])\n",
    "\n",
    "user_input = np.array(user_input)\n",
    "\n",
    "predicted_classes = decision_tree_model.predict(user_input)\n",
    "\n",
    "for i, predicted_class in enumerate(predicted_classes):\n",
    "    print(f\"Input {i+1} predicted class: {predicted_class}\")\n"
   ]
  },
  {
   "cell_type": "code",
   "execution_count": null,
   "id": "d7cb85f7",
   "metadata": {},
   "outputs": [],
   "source": []
  },
  {
   "cell_type": "code",
   "execution_count": null,
   "id": "ce1631f3",
   "metadata": {},
   "outputs": [],
   "source": []
  },
  {
   "cell_type": "code",
   "execution_count": null,
   "id": "63da5a52",
   "metadata": {},
   "outputs": [],
   "source": []
  },
  {
   "cell_type": "code",
   "execution_count": null,
   "id": "3c34c4c9",
   "metadata": {},
   "outputs": [],
   "source": []
  },
  {
   "cell_type": "code",
   "execution_count": null,
   "id": "4525f48f-01fd-4565-96db-929300b024c5",
   "metadata": {},
   "outputs": [],
   "source": []
  }
 ],
 "metadata": {
  "kernelspec": {
   "display_name": "Python 3 (ipykernel)",
   "language": "python",
   "name": "python3"
  },
  "language_info": {
   "codemirror_mode": {
    "name": "ipython",
    "version": 3
   },
   "file_extension": ".py",
   "mimetype": "text/x-python",
   "name": "python",
   "nbconvert_exporter": "python",
   "pygments_lexer": "ipython3",
   "version": "3.11.4"
  }
 },
 "nbformat": 4,
 "nbformat_minor": 5
}
