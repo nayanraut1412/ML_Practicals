{
 "cells": [
  {
   "cell_type": "code",
   "execution_count": null,
   "id": "f860d10a-eb12-432f-9830-75424b4c8ad5",
   "metadata": {},
   "outputs": [
    {
     "name": "stdout",
     "output_type": "stream",
     "text": [
      "\u001b[1m1/1\u001b[0m \u001b[32m━━━━━━━━━━━━━━━━━━━━\u001b[0m\u001b[37m\u001b[0m \u001b[1m0s\u001b[0m 118ms/step\n"
     ]
    }
   ],
   "source": [
    "import tkinter as tk\n",
    "from tkinter import filedialog, messagebox\n",
    "from PIL import Image, ImageTk\n",
    "import numpy as np\n",
    "from keras.models import load_model\n",
    "\n",
    "# Load the model\n",
    "model = load_model(\"my_model.keras\")\n",
    "\n",
    "def classify_image():\n",
    "    # Open a file dialog to select an image file\n",
    "    file_path = filedialog.askopenfilename()\n",
    "    if file_path:\n",
    "        # Load and preprocess the image\n",
    "        image = Image.open(file_path).resize((28, 28)).convert('L')  # Resize and convert to grayscale\n",
    "        image_array = np.array(image) / 255.0  # Normalize pixel values\n",
    "        image_array = image_array.reshape(1, 28, 28, 1)  # Reshape for model input\n",
    "        \n",
    "        # Display the uploaded image\n",
    "        image_display = ImageTk.PhotoImage(image)\n",
    "        image_label.config(image=image_display)\n",
    "        image_label.image = image_display\n",
    "        \n",
    "        # Make prediction\n",
    "        predicted_class = model.predict(image_array)[0].argmax()\n",
    "        \n",
    "        # Display the predicted class\n",
    "        result_label.config(text=f\"Predicted class: {predicted_class}\")\n",
    "\n",
    "# Create the main Tkinter window\n",
    "root = tk.Tk()\n",
    "root.title(\"Image Classifier\")\n",
    "\n",
    "# Center the window\n",
    "window_width = 800\n",
    "window_height = 700\n",
    "screen_width = root.winfo_screenwidth()\n",
    "screen_height = root.winfo_screenheight()\n",
    "x_coordinate = (screen_width / 2) - (window_width / 2)\n",
    "y_coordinate = (screen_height / 2) - (window_height / 2)\n",
    "root.geometry(f\"{window_width}x{window_height}+{int(x_coordinate)}+{int(y_coordinate)}\")\n",
    "\n",
    "# Create explanatory text\n",
    "explanation_label = tk.Label(root, text=\"Upload an image to classify\", font=(\"Helvetica\", 14))\n",
    "explanation_label.pack(pady=10)\n",
    "\n",
    "# Create a button to upload an image and classify it\n",
    "upload_button = tk.Button(root, text=\"Upload Image\", command=classify_image)\n",
    "upload_button.pack(pady=10)\n",
    "\n",
    "# Create a label to display the uploaded image\n",
    "image_label = tk.Label(root)\n",
    "image_label.pack(pady=10)\n",
    "\n",
    "# Create a label to display the result\n",
    "result_label = tk.Label(root, text=\"\")\n",
    "result_label.pack(pady=10)\n",
    "\n",
    "# Run the Tkinter event loop\n",
    "root.mainloop()\n"
   ]
  },
  {
   "cell_type": "code",
   "execution_count": null,
   "id": "5e1fc27a-830a-4f02-8332-9021810da07b",
   "metadata": {},
   "outputs": [],
   "source": []
  }
 ],
 "metadata": {
  "kernelspec": {
   "display_name": "Python 3 (ipykernel)",
   "language": "python",
   "name": "python3"
  },
  "language_info": {
   "codemirror_mode": {
    "name": "ipython",
    "version": 3
   },
   "file_extension": ".py",
   "mimetype": "text/x-python",
   "name": "python",
   "nbconvert_exporter": "python",
   "pygments_lexer": "ipython3",
   "version": "3.11.4"
  }
 },
 "nbformat": 4,
 "nbformat_minor": 5
}
