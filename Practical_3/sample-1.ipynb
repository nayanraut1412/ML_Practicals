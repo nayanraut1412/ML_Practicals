{
 "cells": [
  {
   "cell_type": "code",
   "execution_count": 77,
   "id": "c4b4ec40-c41e-449c-9834-57b4e4b66ff9",
   "metadata": {},
   "outputs": [],
   "source": [
    "import pandas as pd\n",
    "import numpy as np\n",
    "\n",
    "import matplotlib.pyplot as plt\n",
    "from sklearn.linear_model import LinearRegression"
   ]
  },
  {
   "cell_type": "code",
   "execution_count": 78,
   "id": "5b7e96c0-5b05-44b0-88b8-cd028501cb8f",
   "metadata": {},
   "outputs": [],
   "source": [
    "data=pd.read_csv('swiggy_file.csv')"
   ]
  },
  {
   "cell_type": "code",
   "execution_count": 79,
   "id": "b066d0cc-0582-4d7c-9697-104f25a5aeab",
   "metadata": {},
   "outputs": [
    {
     "data": {
      "text/html": [
       "<div>\n",
       "<style scoped>\n",
       "    .dataframe tbody tr th:only-of-type {\n",
       "        vertical-align: middle;\n",
       "    }\n",
       "\n",
       "    .dataframe tbody tr th {\n",
       "        vertical-align: top;\n",
       "    }\n",
       "\n",
       "    .dataframe thead th {\n",
       "        text-align: right;\n",
       "    }\n",
       "</style>\n",
       "<table border=\"1\" class=\"dataframe\">\n",
       "  <thead>\n",
       "    <tr style=\"text-align: right;\">\n",
       "      <th></th>\n",
       "      <th>Restaurant Name</th>\n",
       "      <th>Cuisine</th>\n",
       "      <th>Rating</th>\n",
       "      <th>Number of Ratings</th>\n",
       "      <th>Average Price</th>\n",
       "      <th>Number of Offers</th>\n",
       "      <th>Offer Name</th>\n",
       "      <th>Area</th>\n",
       "      <th>Pure Veg</th>\n",
       "      <th>Location</th>\n",
       "    </tr>\n",
       "  </thead>\n",
       "  <tbody>\n",
       "    <tr>\n",
       "      <th>0</th>\n",
       "      <td>La Pino'Z Pizza</td>\n",
       "      <td>Pizzas, Pastas</td>\n",
       "      <td>4.0</td>\n",
       "      <td>10+ ratings</td>\n",
       "      <td>₹250 for two</td>\n",
       "      <td>2</td>\n",
       "      <td>FLAT DEAL\\r\\nFLAT ₹125 OFF\\r\\nUSE FLAT125ABOVE...</td>\n",
       "      <td>LALA LAJPAT RAI MARKET</td>\n",
       "      <td>No</td>\n",
       "      <td>Abohar</td>\n",
       "    </tr>\n",
       "    <tr>\n",
       "      <th>1</th>\n",
       "      <td>The Second Wife</td>\n",
       "      <td>Indian, North Indian</td>\n",
       "      <td>3.6</td>\n",
       "      <td>50+ ratings</td>\n",
       "      <td>₹250 for two</td>\n",
       "      <td>2</td>\n",
       "      <td>30% OFF UPTO ₹75\\r\\nUSE TRYNEWABOVE ₹149, FLAT...</td>\n",
       "      <td>Central Abohar</td>\n",
       "      <td>No</td>\n",
       "      <td>Abohar</td>\n",
       "    </tr>\n",
       "    <tr>\n",
       "      <th>2</th>\n",
       "      <td>Tasty Bites</td>\n",
       "      <td>Italian, Beverages</td>\n",
       "      <td>3.8</td>\n",
       "      <td>10+ ratings</td>\n",
       "      <td>₹200 for two</td>\n",
       "      <td>1</td>\n",
       "      <td>FLAT ₹120 OFF\\r\\nUSE AXIS120ABOVE ₹500</td>\n",
       "      <td>Central Abohar</td>\n",
       "      <td>Yes</td>\n",
       "      <td>Abohar</td>\n",
       "    </tr>\n",
       "    <tr>\n",
       "      <th>3</th>\n",
       "      <td>Food Studio</td>\n",
       "      <td>Pizzas, Burgers</td>\n",
       "      <td>3.5</td>\n",
       "      <td>8 ratings</td>\n",
       "      <td>₹49 for two</td>\n",
       "      <td>5</td>\n",
       "      <td>50% OFF UPTO ₹100\\r\\nUSE TRYNEWABOVE ₹129, FLA...</td>\n",
       "      <td>Central Abohar</td>\n",
       "      <td>Yes</td>\n",
       "      <td>Abohar</td>\n",
       "    </tr>\n",
       "    <tr>\n",
       "      <th>4</th>\n",
       "      <td>Roll Express</td>\n",
       "      <td>Fast Food, Snacks</td>\n",
       "      <td>4.3</td>\n",
       "      <td>100+ ratings</td>\n",
       "      <td>₹200 for two</td>\n",
       "      <td>2</td>\n",
       "      <td>DEAL OF DAY\\r\\n10% OFF UPTO ₹40\\r\\nUSE STEALDE...</td>\n",
       "      <td>Circular Road</td>\n",
       "      <td>No</td>\n",
       "      <td>Abohar</td>\n",
       "    </tr>\n",
       "    <tr>\n",
       "      <th>...</th>\n",
       "      <td>...</td>\n",
       "      <td>...</td>\n",
       "      <td>...</td>\n",
       "      <td>...</td>\n",
       "      <td>...</td>\n",
       "      <td>...</td>\n",
       "      <td>...</td>\n",
       "      <td>...</td>\n",
       "      <td>...</td>\n",
       "      <td>...</td>\n",
       "    </tr>\n",
       "    <tr>\n",
       "      <th>140652</th>\n",
       "      <td>Yummy Momo'S Cafe</td>\n",
       "      <td>Chinese, Fast Food</td>\n",
       "      <td>4.6</td>\n",
       "      <td>3 ratings</td>\n",
       "      <td>₹100 for two</td>\n",
       "      <td>3</td>\n",
       "      <td>20% OFF UPTO ₹50\\r\\nUSE TRYNEWABOVE ₹149, FLAT...</td>\n",
       "      <td>Yavatmal Locality</td>\n",
       "      <td>Yes</td>\n",
       "      <td>Yavatmal</td>\n",
       "    </tr>\n",
       "    <tr>\n",
       "      <th>140653</th>\n",
       "      <td>CAFE FIRST FLOOR</td>\n",
       "      <td>Beverages, Snacks</td>\n",
       "      <td>3.2</td>\n",
       "      <td>3 ratings</td>\n",
       "      <td>₹200 for two</td>\n",
       "      <td>2</td>\n",
       "      <td>FLAT ₹120 OFF\\r\\nUSE AXIS120ABOVE ₹500, FLAT ₹...</td>\n",
       "      <td>Yavatmal City</td>\n",
       "      <td>Yes</td>\n",
       "      <td>Yavatmal</td>\n",
       "    </tr>\n",
       "    <tr>\n",
       "      <th>140654</th>\n",
       "      <td>Cafe Coffee Aani Barach Kahi</td>\n",
       "      <td>Snacks</td>\n",
       "      <td>3.2</td>\n",
       "      <td>50+ ratings</td>\n",
       "      <td>₹150 for two</td>\n",
       "      <td>2</td>\n",
       "      <td>FLAT ₹120 OFF\\r\\nUSE AXIS120ABOVE ₹500, FLAT ₹...</td>\n",
       "      <td>Yavatmal Locality</td>\n",
       "      <td>Yes</td>\n",
       "      <td>Yavatmal</td>\n",
       "    </tr>\n",
       "    <tr>\n",
       "      <th>140655</th>\n",
       "      <td>Patil Family Restaurant</td>\n",
       "      <td>North Indian, Biryani</td>\n",
       "      <td>4.3</td>\n",
       "      <td>9 ratings</td>\n",
       "      <td>₹200 for two</td>\n",
       "      <td>2</td>\n",
       "      <td>FLAT ₹120 OFF\\r\\nUSE AXIS120ABOVE ₹500, FLAT ₹...</td>\n",
       "      <td>Yavatmal Locality</td>\n",
       "      <td>No</td>\n",
       "      <td>Yavatmal</td>\n",
       "    </tr>\n",
       "    <tr>\n",
       "      <th>140656</th>\n",
       "      <td>Prabhakar Mama Cha Dhaba</td>\n",
       "      <td>North Indian</td>\n",
       "      <td>--</td>\n",
       "      <td>Too Few Ratings</td>\n",
       "      <td>₹350 for two</td>\n",
       "      <td>2</td>\n",
       "      <td>FLAT ₹120 OFF\\r\\nUSE AXIS120ABOVE ₹500, FLAT ₹...</td>\n",
       "      <td>Yavatmal Locality</td>\n",
       "      <td>No</td>\n",
       "      <td>Yavatmal</td>\n",
       "    </tr>\n",
       "  </tbody>\n",
       "</table>\n",
       "<p>140657 rows × 10 columns</p>\n",
       "</div>"
      ],
      "text/plain": [
       "                     Restaurant Name                Cuisine Rating  \\\n",
       "0                    La Pino'Z Pizza         Pizzas, Pastas    4.0   \n",
       "1                    The Second Wife   Indian, North Indian    3.6   \n",
       "2                        Tasty Bites     Italian, Beverages    3.8   \n",
       "3                        Food Studio        Pizzas, Burgers    3.5   \n",
       "4                       Roll Express      Fast Food, Snacks    4.3   \n",
       "...                              ...                    ...    ...   \n",
       "140652             Yummy Momo'S Cafe     Chinese, Fast Food    4.6   \n",
       "140653              CAFE FIRST FLOOR      Beverages, Snacks    3.2   \n",
       "140654  Cafe Coffee Aani Barach Kahi                 Snacks    3.2   \n",
       "140655       Patil Family Restaurant  North Indian, Biryani    4.3   \n",
       "140656      Prabhakar Mama Cha Dhaba           North Indian     --   \n",
       "\n",
       "       Number of Ratings Average Price  Number of Offers  \\\n",
       "0            10+ ratings  ₹250 for two                 2   \n",
       "1            50+ ratings  ₹250 for two                 2   \n",
       "2            10+ ratings  ₹200 for two                 1   \n",
       "3              8 ratings   ₹49 for two                 5   \n",
       "4           100+ ratings  ₹200 for two                 2   \n",
       "...                  ...           ...               ...   \n",
       "140652         3 ratings  ₹100 for two                 3   \n",
       "140653         3 ratings  ₹200 for two                 2   \n",
       "140654       50+ ratings  ₹150 for two                 2   \n",
       "140655         9 ratings  ₹200 for two                 2   \n",
       "140656   Too Few Ratings  ₹350 for two                 2   \n",
       "\n",
       "                                               Offer Name  \\\n",
       "0       FLAT DEAL\\r\\nFLAT ₹125 OFF\\r\\nUSE FLAT125ABOVE...   \n",
       "1       30% OFF UPTO ₹75\\r\\nUSE TRYNEWABOVE ₹149, FLAT...   \n",
       "2                  FLAT ₹120 OFF\\r\\nUSE AXIS120ABOVE ₹500   \n",
       "3       50% OFF UPTO ₹100\\r\\nUSE TRYNEWABOVE ₹129, FLA...   \n",
       "4       DEAL OF DAY\\r\\n10% OFF UPTO ₹40\\r\\nUSE STEALDE...   \n",
       "...                                                   ...   \n",
       "140652  20% OFF UPTO ₹50\\r\\nUSE TRYNEWABOVE ₹149, FLAT...   \n",
       "140653  FLAT ₹120 OFF\\r\\nUSE AXIS120ABOVE ₹500, FLAT ₹...   \n",
       "140654  FLAT ₹120 OFF\\r\\nUSE AXIS120ABOVE ₹500, FLAT ₹...   \n",
       "140655  FLAT ₹120 OFF\\r\\nUSE AXIS120ABOVE ₹500, FLAT ₹...   \n",
       "140656  FLAT ₹120 OFF\\r\\nUSE AXIS120ABOVE ₹500, FLAT ₹...   \n",
       "\n",
       "                          Area Pure Veg  Location  \n",
       "0       LALA LAJPAT RAI MARKET       No    Abohar  \n",
       "1               Central Abohar       No    Abohar  \n",
       "2               Central Abohar      Yes    Abohar  \n",
       "3               Central Abohar      Yes    Abohar  \n",
       "4                Circular Road       No    Abohar  \n",
       "...                        ...      ...       ...  \n",
       "140652       Yavatmal Locality      Yes  Yavatmal  \n",
       "140653           Yavatmal City      Yes  Yavatmal  \n",
       "140654       Yavatmal Locality      Yes  Yavatmal  \n",
       "140655       Yavatmal Locality       No  Yavatmal  \n",
       "140656       Yavatmal Locality       No  Yavatmal  \n",
       "\n",
       "[140657 rows x 10 columns]"
      ]
     },
     "execution_count": 79,
     "metadata": {},
     "output_type": "execute_result"
    }
   ],
   "source": [
    "data   #it display the data"
   ]
  },
  {
   "cell_type": "code",
   "execution_count": 80,
   "id": "683aec83-bba3-4207-ab99-7e08bb698d7c",
   "metadata": {},
   "outputs": [
    {
     "data": {
      "text/html": [
       "<div>\n",
       "<style scoped>\n",
       "    .dataframe tbody tr th:only-of-type {\n",
       "        vertical-align: middle;\n",
       "    }\n",
       "\n",
       "    .dataframe tbody tr th {\n",
       "        vertical-align: top;\n",
       "    }\n",
       "\n",
       "    .dataframe thead th {\n",
       "        text-align: right;\n",
       "    }\n",
       "</style>\n",
       "<table border=\"1\" class=\"dataframe\">\n",
       "  <thead>\n",
       "    <tr style=\"text-align: right;\">\n",
       "      <th></th>\n",
       "      <th>Number of Offers</th>\n",
       "    </tr>\n",
       "  </thead>\n",
       "  <tbody>\n",
       "    <tr>\n",
       "      <th>count</th>\n",
       "      <td>140657.000000</td>\n",
       "    </tr>\n",
       "    <tr>\n",
       "      <th>mean</th>\n",
       "      <td>3.187890</td>\n",
       "    </tr>\n",
       "    <tr>\n",
       "      <th>std</th>\n",
       "      <td>1.583943</td>\n",
       "    </tr>\n",
       "    <tr>\n",
       "      <th>min</th>\n",
       "      <td>0.000000</td>\n",
       "    </tr>\n",
       "    <tr>\n",
       "      <th>25%</th>\n",
       "      <td>1.000000</td>\n",
       "    </tr>\n",
       "    <tr>\n",
       "      <th>50%</th>\n",
       "      <td>4.000000</td>\n",
       "    </tr>\n",
       "    <tr>\n",
       "      <th>75%</th>\n",
       "      <td>5.000000</td>\n",
       "    </tr>\n",
       "    <tr>\n",
       "      <th>max</th>\n",
       "      <td>5.000000</td>\n",
       "    </tr>\n",
       "  </tbody>\n",
       "</table>\n",
       "</div>"
      ],
      "text/plain": [
       "       Number of Offers\n",
       "count     140657.000000\n",
       "mean           3.187890\n",
       "std            1.583943\n",
       "min            0.000000\n",
       "25%            1.000000\n",
       "50%            4.000000\n",
       "75%            5.000000\n",
       "max            5.000000"
      ]
     },
     "execution_count": 80,
     "metadata": {},
     "output_type": "execute_result"
    }
   ],
   "source": [
    "data.describe()        # it give the count...etc"
   ]
  },
  {
   "cell_type": "code",
   "execution_count": 81,
   "id": "852e6942-4cb1-4ecb-86cf-1f1e978596cc",
   "metadata": {},
   "outputs": [
    {
     "name": "stdout",
     "output_type": "stream",
     "text": [
      "<class 'pandas.core.frame.DataFrame'>\n",
      "RangeIndex: 140657 entries, 0 to 140656\n",
      "Data columns (total 10 columns):\n",
      " #   Column             Non-Null Count   Dtype \n",
      "---  ------             --------------   ----- \n",
      " 0   Restaurant Name    140657 non-null  object\n",
      " 1   Cuisine            140630 non-null  object\n",
      " 2   Rating             140657 non-null  object\n",
      " 3   Number of Ratings  126115 non-null  object\n",
      " 4   Average Price      140657 non-null  object\n",
      " 5   Number of Offers   140657 non-null  int64 \n",
      " 6   Offer Name         138849 non-null  object\n",
      " 7   Area               140655 non-null  object\n",
      " 8   Pure Veg           140657 non-null  object\n",
      " 9   Location           140657 non-null  object\n",
      "dtypes: int64(1), object(9)\n",
      "memory usage: 10.7+ MB\n"
     ]
    }
   ],
   "source": [
    "data.info()       #it give the total entries in col"
   ]
  },
  {
   "cell_type": "code",
   "execution_count": 82,
   "id": "5208f3ef-4798-44ae-9be2-2d9198799a55",
   "metadata": {},
   "outputs": [],
   "source": [
    "datarn=data.dropna(axis=1)        # dropping missing value column wise"
   ]
  },
  {
   "cell_type": "code",
   "execution_count": 83,
   "id": "1971c362-8899-4eb7-95ec-d0bf0a20487a",
   "metadata": {},
   "outputs": [
    {
     "data": {
      "text/html": [
       "<div>\n",
       "<style scoped>\n",
       "    .dataframe tbody tr th:only-of-type {\n",
       "        vertical-align: middle;\n",
       "    }\n",
       "\n",
       "    .dataframe tbody tr th {\n",
       "        vertical-align: top;\n",
       "    }\n",
       "\n",
       "    .dataframe thead th {\n",
       "        text-align: right;\n",
       "    }\n",
       "</style>\n",
       "<table border=\"1\" class=\"dataframe\">\n",
       "  <thead>\n",
       "    <tr style=\"text-align: right;\">\n",
       "      <th></th>\n",
       "      <th>Restaurant Name</th>\n",
       "      <th>Rating</th>\n",
       "      <th>Average Price</th>\n",
       "      <th>Number of Offers</th>\n",
       "      <th>Pure Veg</th>\n",
       "      <th>Location</th>\n",
       "    </tr>\n",
       "  </thead>\n",
       "  <tbody>\n",
       "    <tr>\n",
       "      <th>0</th>\n",
       "      <td>La Pino'Z Pizza</td>\n",
       "      <td>4.0</td>\n",
       "      <td>₹250 for two</td>\n",
       "      <td>2</td>\n",
       "      <td>No</td>\n",
       "      <td>Abohar</td>\n",
       "    </tr>\n",
       "    <tr>\n",
       "      <th>1</th>\n",
       "      <td>The Second Wife</td>\n",
       "      <td>3.6</td>\n",
       "      <td>₹250 for two</td>\n",
       "      <td>2</td>\n",
       "      <td>No</td>\n",
       "      <td>Abohar</td>\n",
       "    </tr>\n",
       "    <tr>\n",
       "      <th>2</th>\n",
       "      <td>Tasty Bites</td>\n",
       "      <td>3.8</td>\n",
       "      <td>₹200 for two</td>\n",
       "      <td>1</td>\n",
       "      <td>Yes</td>\n",
       "      <td>Abohar</td>\n",
       "    </tr>\n",
       "    <tr>\n",
       "      <th>3</th>\n",
       "      <td>Food Studio</td>\n",
       "      <td>3.5</td>\n",
       "      <td>₹49 for two</td>\n",
       "      <td>5</td>\n",
       "      <td>Yes</td>\n",
       "      <td>Abohar</td>\n",
       "    </tr>\n",
       "    <tr>\n",
       "      <th>4</th>\n",
       "      <td>Roll Express</td>\n",
       "      <td>4.3</td>\n",
       "      <td>₹200 for two</td>\n",
       "      <td>2</td>\n",
       "      <td>No</td>\n",
       "      <td>Abohar</td>\n",
       "    </tr>\n",
       "    <tr>\n",
       "      <th>...</th>\n",
       "      <td>...</td>\n",
       "      <td>...</td>\n",
       "      <td>...</td>\n",
       "      <td>...</td>\n",
       "      <td>...</td>\n",
       "      <td>...</td>\n",
       "    </tr>\n",
       "    <tr>\n",
       "      <th>140652</th>\n",
       "      <td>Yummy Momo'S Cafe</td>\n",
       "      <td>4.6</td>\n",
       "      <td>₹100 for two</td>\n",
       "      <td>3</td>\n",
       "      <td>Yes</td>\n",
       "      <td>Yavatmal</td>\n",
       "    </tr>\n",
       "    <tr>\n",
       "      <th>140653</th>\n",
       "      <td>CAFE FIRST FLOOR</td>\n",
       "      <td>3.2</td>\n",
       "      <td>₹200 for two</td>\n",
       "      <td>2</td>\n",
       "      <td>Yes</td>\n",
       "      <td>Yavatmal</td>\n",
       "    </tr>\n",
       "    <tr>\n",
       "      <th>140654</th>\n",
       "      <td>Cafe Coffee Aani Barach Kahi</td>\n",
       "      <td>3.2</td>\n",
       "      <td>₹150 for two</td>\n",
       "      <td>2</td>\n",
       "      <td>Yes</td>\n",
       "      <td>Yavatmal</td>\n",
       "    </tr>\n",
       "    <tr>\n",
       "      <th>140655</th>\n",
       "      <td>Patil Family Restaurant</td>\n",
       "      <td>4.3</td>\n",
       "      <td>₹200 for two</td>\n",
       "      <td>2</td>\n",
       "      <td>No</td>\n",
       "      <td>Yavatmal</td>\n",
       "    </tr>\n",
       "    <tr>\n",
       "      <th>140656</th>\n",
       "      <td>Prabhakar Mama Cha Dhaba</td>\n",
       "      <td>--</td>\n",
       "      <td>₹350 for two</td>\n",
       "      <td>2</td>\n",
       "      <td>No</td>\n",
       "      <td>Yavatmal</td>\n",
       "    </tr>\n",
       "  </tbody>\n",
       "</table>\n",
       "<p>140657 rows × 6 columns</p>\n",
       "</div>"
      ],
      "text/plain": [
       "                     Restaurant Name Rating Average Price  Number of Offers  \\\n",
       "0                    La Pino'Z Pizza    4.0  ₹250 for two                 2   \n",
       "1                    The Second Wife    3.6  ₹250 for two                 2   \n",
       "2                        Tasty Bites    3.8  ₹200 for two                 1   \n",
       "3                        Food Studio    3.5   ₹49 for two                 5   \n",
       "4                       Roll Express    4.3  ₹200 for two                 2   \n",
       "...                              ...    ...           ...               ...   \n",
       "140652             Yummy Momo'S Cafe    4.6  ₹100 for two                 3   \n",
       "140653              CAFE FIRST FLOOR    3.2  ₹200 for two                 2   \n",
       "140654  Cafe Coffee Aani Barach Kahi    3.2  ₹150 for two                 2   \n",
       "140655       Patil Family Restaurant    4.3  ₹200 for two                 2   \n",
       "140656      Prabhakar Mama Cha Dhaba     --  ₹350 for two                 2   \n",
       "\n",
       "       Pure Veg  Location  \n",
       "0            No    Abohar  \n",
       "1            No    Abohar  \n",
       "2           Yes    Abohar  \n",
       "3           Yes    Abohar  \n",
       "4            No    Abohar  \n",
       "...         ...       ...  \n",
       "140652      Yes  Yavatmal  \n",
       "140653      Yes  Yavatmal  \n",
       "140654      Yes  Yavatmal  \n",
       "140655       No  Yavatmal  \n",
       "140656       No  Yavatmal  \n",
       "\n",
       "[140657 rows x 6 columns]"
      ]
     },
     "execution_count": 83,
     "metadata": {},
     "output_type": "execute_result"
    }
   ],
   "source": [
    "datarn"
   ]
  },
  {
   "cell_type": "code",
   "execution_count": null,
   "id": "18df8f63-8d63-4691-8a69-8caf5eaef718",
   "metadata": {},
   "outputs": [],
   "source": []
  },
  {
   "cell_type": "code",
   "execution_count": 84,
   "id": "397763a2-6253-4694-8eb8-66840eb188f9",
   "metadata": {},
   "outputs": [
    {
     "name": "stdout",
     "output_type": "stream",
     "text": [
      "<class 'pandas.core.frame.DataFrame'>\n",
      "RangeIndex: 140657 entries, 0 to 140656\n",
      "Data columns (total 6 columns):\n",
      " #   Column            Non-Null Count   Dtype \n",
      "---  ------            --------------   ----- \n",
      " 0   Restaurant Name   140657 non-null  object\n",
      " 1   Rating            140657 non-null  object\n",
      " 2   Average Price     140657 non-null  object\n",
      " 3   Number of Offers  140657 non-null  int64 \n",
      " 4   Pure Veg          140657 non-null  object\n",
      " 5   Location          140657 non-null  object\n",
      "dtypes: int64(1), object(5)\n",
      "memory usage: 6.4+ MB\n"
     ]
    }
   ],
   "source": [
    "datarn.info()         "
   ]
  },
  {
   "cell_type": "code",
   "execution_count": 85,
   "id": "b1a041b3-12f4-409b-8ecb-e46a9929ab68",
   "metadata": {},
   "outputs": [],
   "source": [
    "datacrn=data.dropna(axis=0)  # dropping missing value rows wise"
   ]
  },
  {
   "cell_type": "code",
   "execution_count": 86,
   "id": "3368617d-26e1-492e-b09b-091590626269",
   "metadata": {},
   "outputs": [
    {
     "data": {
      "text/html": [
       "<div>\n",
       "<style scoped>\n",
       "    .dataframe tbody tr th:only-of-type {\n",
       "        vertical-align: middle;\n",
       "    }\n",
       "\n",
       "    .dataframe tbody tr th {\n",
       "        vertical-align: top;\n",
       "    }\n",
       "\n",
       "    .dataframe thead th {\n",
       "        text-align: right;\n",
       "    }\n",
       "</style>\n",
       "<table border=\"1\" class=\"dataframe\">\n",
       "  <thead>\n",
       "    <tr style=\"text-align: right;\">\n",
       "      <th></th>\n",
       "      <th>Restaurant Name</th>\n",
       "      <th>Cuisine</th>\n",
       "      <th>Rating</th>\n",
       "      <th>Number of Ratings</th>\n",
       "      <th>Average Price</th>\n",
       "      <th>Number of Offers</th>\n",
       "      <th>Offer Name</th>\n",
       "      <th>Area</th>\n",
       "      <th>Pure Veg</th>\n",
       "      <th>Location</th>\n",
       "    </tr>\n",
       "  </thead>\n",
       "  <tbody>\n",
       "    <tr>\n",
       "      <th>0</th>\n",
       "      <td>La Pino'Z Pizza</td>\n",
       "      <td>Pizzas, Pastas</td>\n",
       "      <td>4.0</td>\n",
       "      <td>10+ ratings</td>\n",
       "      <td>₹250 for two</td>\n",
       "      <td>2</td>\n",
       "      <td>FLAT DEAL\\r\\nFLAT ₹125 OFF\\r\\nUSE FLAT125ABOVE...</td>\n",
       "      <td>LALA LAJPAT RAI MARKET</td>\n",
       "      <td>No</td>\n",
       "      <td>Abohar</td>\n",
       "    </tr>\n",
       "    <tr>\n",
       "      <th>1</th>\n",
       "      <td>The Second Wife</td>\n",
       "      <td>Indian, North Indian</td>\n",
       "      <td>3.6</td>\n",
       "      <td>50+ ratings</td>\n",
       "      <td>₹250 for two</td>\n",
       "      <td>2</td>\n",
       "      <td>30% OFF UPTO ₹75\\r\\nUSE TRYNEWABOVE ₹149, FLAT...</td>\n",
       "      <td>Central Abohar</td>\n",
       "      <td>No</td>\n",
       "      <td>Abohar</td>\n",
       "    </tr>\n",
       "    <tr>\n",
       "      <th>2</th>\n",
       "      <td>Tasty Bites</td>\n",
       "      <td>Italian, Beverages</td>\n",
       "      <td>3.8</td>\n",
       "      <td>10+ ratings</td>\n",
       "      <td>₹200 for two</td>\n",
       "      <td>1</td>\n",
       "      <td>FLAT ₹120 OFF\\r\\nUSE AXIS120ABOVE ₹500</td>\n",
       "      <td>Central Abohar</td>\n",
       "      <td>Yes</td>\n",
       "      <td>Abohar</td>\n",
       "    </tr>\n",
       "    <tr>\n",
       "      <th>3</th>\n",
       "      <td>Food Studio</td>\n",
       "      <td>Pizzas, Burgers</td>\n",
       "      <td>3.5</td>\n",
       "      <td>8 ratings</td>\n",
       "      <td>₹49 for two</td>\n",
       "      <td>5</td>\n",
       "      <td>50% OFF UPTO ₹100\\r\\nUSE TRYNEWABOVE ₹129, FLA...</td>\n",
       "      <td>Central Abohar</td>\n",
       "      <td>Yes</td>\n",
       "      <td>Abohar</td>\n",
       "    </tr>\n",
       "    <tr>\n",
       "      <th>4</th>\n",
       "      <td>Roll Express</td>\n",
       "      <td>Fast Food, Snacks</td>\n",
       "      <td>4.3</td>\n",
       "      <td>100+ ratings</td>\n",
       "      <td>₹200 for two</td>\n",
       "      <td>2</td>\n",
       "      <td>DEAL OF DAY\\r\\n10% OFF UPTO ₹40\\r\\nUSE STEALDE...</td>\n",
       "      <td>Circular Road</td>\n",
       "      <td>No</td>\n",
       "      <td>Abohar</td>\n",
       "    </tr>\n",
       "    <tr>\n",
       "      <th>...</th>\n",
       "      <td>...</td>\n",
       "      <td>...</td>\n",
       "      <td>...</td>\n",
       "      <td>...</td>\n",
       "      <td>...</td>\n",
       "      <td>...</td>\n",
       "      <td>...</td>\n",
       "      <td>...</td>\n",
       "      <td>...</td>\n",
       "      <td>...</td>\n",
       "    </tr>\n",
       "    <tr>\n",
       "      <th>140652</th>\n",
       "      <td>Yummy Momo'S Cafe</td>\n",
       "      <td>Chinese, Fast Food</td>\n",
       "      <td>4.6</td>\n",
       "      <td>3 ratings</td>\n",
       "      <td>₹100 for two</td>\n",
       "      <td>3</td>\n",
       "      <td>20% OFF UPTO ₹50\\r\\nUSE TRYNEWABOVE ₹149, FLAT...</td>\n",
       "      <td>Yavatmal Locality</td>\n",
       "      <td>Yes</td>\n",
       "      <td>Yavatmal</td>\n",
       "    </tr>\n",
       "    <tr>\n",
       "      <th>140653</th>\n",
       "      <td>CAFE FIRST FLOOR</td>\n",
       "      <td>Beverages, Snacks</td>\n",
       "      <td>3.2</td>\n",
       "      <td>3 ratings</td>\n",
       "      <td>₹200 for two</td>\n",
       "      <td>2</td>\n",
       "      <td>FLAT ₹120 OFF\\r\\nUSE AXIS120ABOVE ₹500, FLAT ₹...</td>\n",
       "      <td>Yavatmal City</td>\n",
       "      <td>Yes</td>\n",
       "      <td>Yavatmal</td>\n",
       "    </tr>\n",
       "    <tr>\n",
       "      <th>140654</th>\n",
       "      <td>Cafe Coffee Aani Barach Kahi</td>\n",
       "      <td>Snacks</td>\n",
       "      <td>3.2</td>\n",
       "      <td>50+ ratings</td>\n",
       "      <td>₹150 for two</td>\n",
       "      <td>2</td>\n",
       "      <td>FLAT ₹120 OFF\\r\\nUSE AXIS120ABOVE ₹500, FLAT ₹...</td>\n",
       "      <td>Yavatmal Locality</td>\n",
       "      <td>Yes</td>\n",
       "      <td>Yavatmal</td>\n",
       "    </tr>\n",
       "    <tr>\n",
       "      <th>140655</th>\n",
       "      <td>Patil Family Restaurant</td>\n",
       "      <td>North Indian, Biryani</td>\n",
       "      <td>4.3</td>\n",
       "      <td>9 ratings</td>\n",
       "      <td>₹200 for two</td>\n",
       "      <td>2</td>\n",
       "      <td>FLAT ₹120 OFF\\r\\nUSE AXIS120ABOVE ₹500, FLAT ₹...</td>\n",
       "      <td>Yavatmal Locality</td>\n",
       "      <td>No</td>\n",
       "      <td>Yavatmal</td>\n",
       "    </tr>\n",
       "    <tr>\n",
       "      <th>140656</th>\n",
       "      <td>Prabhakar Mama Cha Dhaba</td>\n",
       "      <td>North Indian</td>\n",
       "      <td>--</td>\n",
       "      <td>Too Few Ratings</td>\n",
       "      <td>₹350 for two</td>\n",
       "      <td>2</td>\n",
       "      <td>FLAT ₹120 OFF\\r\\nUSE AXIS120ABOVE ₹500, FLAT ₹...</td>\n",
       "      <td>Yavatmal Locality</td>\n",
       "      <td>No</td>\n",
       "      <td>Yavatmal</td>\n",
       "    </tr>\n",
       "  </tbody>\n",
       "</table>\n",
       "<p>124597 rows × 10 columns</p>\n",
       "</div>"
      ],
      "text/plain": [
       "                     Restaurant Name                Cuisine Rating  \\\n",
       "0                    La Pino'Z Pizza         Pizzas, Pastas    4.0   \n",
       "1                    The Second Wife   Indian, North Indian    3.6   \n",
       "2                        Tasty Bites     Italian, Beverages    3.8   \n",
       "3                        Food Studio        Pizzas, Burgers    3.5   \n",
       "4                       Roll Express      Fast Food, Snacks    4.3   \n",
       "...                              ...                    ...    ...   \n",
       "140652             Yummy Momo'S Cafe     Chinese, Fast Food    4.6   \n",
       "140653              CAFE FIRST FLOOR      Beverages, Snacks    3.2   \n",
       "140654  Cafe Coffee Aani Barach Kahi                 Snacks    3.2   \n",
       "140655       Patil Family Restaurant  North Indian, Biryani    4.3   \n",
       "140656      Prabhakar Mama Cha Dhaba           North Indian     --   \n",
       "\n",
       "       Number of Ratings Average Price  Number of Offers  \\\n",
       "0            10+ ratings  ₹250 for two                 2   \n",
       "1            50+ ratings  ₹250 for two                 2   \n",
       "2            10+ ratings  ₹200 for two                 1   \n",
       "3              8 ratings   ₹49 for two                 5   \n",
       "4           100+ ratings  ₹200 for two                 2   \n",
       "...                  ...           ...               ...   \n",
       "140652         3 ratings  ₹100 for two                 3   \n",
       "140653         3 ratings  ₹200 for two                 2   \n",
       "140654       50+ ratings  ₹150 for two                 2   \n",
       "140655         9 ratings  ₹200 for two                 2   \n",
       "140656   Too Few Ratings  ₹350 for two                 2   \n",
       "\n",
       "                                               Offer Name  \\\n",
       "0       FLAT DEAL\\r\\nFLAT ₹125 OFF\\r\\nUSE FLAT125ABOVE...   \n",
       "1       30% OFF UPTO ₹75\\r\\nUSE TRYNEWABOVE ₹149, FLAT...   \n",
       "2                  FLAT ₹120 OFF\\r\\nUSE AXIS120ABOVE ₹500   \n",
       "3       50% OFF UPTO ₹100\\r\\nUSE TRYNEWABOVE ₹129, FLA...   \n",
       "4       DEAL OF DAY\\r\\n10% OFF UPTO ₹40\\r\\nUSE STEALDE...   \n",
       "...                                                   ...   \n",
       "140652  20% OFF UPTO ₹50\\r\\nUSE TRYNEWABOVE ₹149, FLAT...   \n",
       "140653  FLAT ₹120 OFF\\r\\nUSE AXIS120ABOVE ₹500, FLAT ₹...   \n",
       "140654  FLAT ₹120 OFF\\r\\nUSE AXIS120ABOVE ₹500, FLAT ₹...   \n",
       "140655  FLAT ₹120 OFF\\r\\nUSE AXIS120ABOVE ₹500, FLAT ₹...   \n",
       "140656  FLAT ₹120 OFF\\r\\nUSE AXIS120ABOVE ₹500, FLAT ₹...   \n",
       "\n",
       "                          Area Pure Veg  Location  \n",
       "0       LALA LAJPAT RAI MARKET       No    Abohar  \n",
       "1               Central Abohar       No    Abohar  \n",
       "2               Central Abohar      Yes    Abohar  \n",
       "3               Central Abohar      Yes    Abohar  \n",
       "4                Circular Road       No    Abohar  \n",
       "...                        ...      ...       ...  \n",
       "140652       Yavatmal Locality      Yes  Yavatmal  \n",
       "140653           Yavatmal City      Yes  Yavatmal  \n",
       "140654       Yavatmal Locality      Yes  Yavatmal  \n",
       "140655       Yavatmal Locality       No  Yavatmal  \n",
       "140656       Yavatmal Locality       No  Yavatmal  \n",
       "\n",
       "[124597 rows x 10 columns]"
      ]
     },
     "execution_count": 86,
     "metadata": {},
     "output_type": "execute_result"
    }
   ],
   "source": [
    "datacrn"
   ]
  },
  {
   "cell_type": "code",
   "execution_count": 87,
   "id": "214ee092-bc3d-4968-b3ef-7d1daf999a6c",
   "metadata": {},
   "outputs": [
    {
     "name": "stdout",
     "output_type": "stream",
     "text": [
      "<class 'pandas.core.frame.DataFrame'>\n",
      "Index: 124597 entries, 0 to 140656\n",
      "Data columns (total 10 columns):\n",
      " #   Column             Non-Null Count   Dtype \n",
      "---  ------             --------------   ----- \n",
      " 0   Restaurant Name    124597 non-null  object\n",
      " 1   Cuisine            124597 non-null  object\n",
      " 2   Rating             124597 non-null  object\n",
      " 3   Number of Ratings  124597 non-null  object\n",
      " 4   Average Price      124597 non-null  object\n",
      " 5   Number of Offers   124597 non-null  int64 \n",
      " 6   Offer Name         124597 non-null  object\n",
      " 7   Area               124597 non-null  object\n",
      " 8   Pure Veg           124597 non-null  object\n",
      " 9   Location           124597 non-null  object\n",
      "dtypes: int64(1), object(9)\n",
      "memory usage: 10.5+ MB\n"
     ]
    }
   ],
   "source": [
    "datacrn.info() "
   ]
  },
  {
   "cell_type": "code",
   "execution_count": 88,
   "id": "47724342-7564-4019-849d-1c2a4f407391",
   "metadata": {},
   "outputs": [],
   "source": [
    "datafill=data.fillna(999999)"
   ]
  },
  {
   "cell_type": "code",
   "execution_count": 89,
   "id": "6c430d2b-647a-4a33-b004-37fd1fcdf1dd",
   "metadata": {},
   "outputs": [
    {
     "name": "stdout",
     "output_type": "stream",
     "text": [
      "<class 'pandas.core.frame.DataFrame'>\n",
      "RangeIndex: 140657 entries, 0 to 140656\n",
      "Data columns (total 10 columns):\n",
      " #   Column             Non-Null Count   Dtype \n",
      "---  ------             --------------   ----- \n",
      " 0   Restaurant Name    140657 non-null  object\n",
      " 1   Cuisine            140657 non-null  object\n",
      " 2   Rating             140657 non-null  object\n",
      " 3   Number of Ratings  140657 non-null  object\n",
      " 4   Average Price      140657 non-null  object\n",
      " 5   Number of Offers   140657 non-null  int64 \n",
      " 6   Offer Name         140657 non-null  object\n",
      " 7   Area               140657 non-null  object\n",
      " 8   Pure Veg           140657 non-null  object\n",
      " 9   Location           140657 non-null  object\n",
      "dtypes: int64(1), object(9)\n",
      "memory usage: 10.7+ MB\n"
     ]
    }
   ],
   "source": [
    "datafill.info()"
   ]
  },
  {
   "cell_type": "code",
   "execution_count": 90,
   "id": "68f04995-6a63-4b5d-8c92-2ae5282ddf04",
   "metadata": {},
   "outputs": [
    {
     "data": {
      "text/plain": [
       "Restaurant Name          0\n",
       "Cuisine                 27\n",
       "Rating                   0\n",
       "Number of Ratings    14542\n",
       "Average Price            0\n",
       "Number of Offers         0\n",
       "Offer Name            1808\n",
       "Area                     2\n",
       "Pure Veg                 0\n",
       "Location                 0\n",
       "dtype: int64"
      ]
     },
     "execution_count": 90,
     "metadata": {},
     "output_type": "execute_result"
    }
   ],
   "source": [
    "data.isnull().sum()"
   ]
  },
  {
   "cell_type": "code",
   "execution_count": 91,
   "id": "292f4a42-4ca6-4c67-bddc-6923abf182e3",
   "metadata": {},
   "outputs": [
    {
     "name": "stdout",
     "output_type": "stream",
     "text": [
      "<class 'pandas.core.frame.DataFrame'>\n",
      "RangeIndex: 140657 entries, 0 to 140656\n",
      "Data columns (total 10 columns):\n",
      " #   Column             Non-Null Count   Dtype \n",
      "---  ------             --------------   ----- \n",
      " 0   Restaurant Name    140657 non-null  object\n",
      " 1   Cuisine            140630 non-null  object\n",
      " 2   Rating             140657 non-null  object\n",
      " 3   Number of Ratings  126115 non-null  object\n",
      " 4   Average Price      140657 non-null  object\n",
      " 5   Number of Offers   140657 non-null  int64 \n",
      " 6   Offer Name         138849 non-null  object\n",
      " 7   Area               140655 non-null  object\n",
      " 8   Pure Veg           140657 non-null  object\n",
      " 9   Location           140657 non-null  object\n",
      "dtypes: int64(1), object(9)\n",
      "memory usage: 10.7+ MB\n"
     ]
    }
   ],
   "source": [
    "data.info()"
   ]
  },
  {
   "cell_type": "code",
   "execution_count": 92,
   "id": "91a319df-2ee8-403f-85d2-9a7e09ce07b0",
   "metadata": {},
   "outputs": [],
   "source": [
    "data_split=data"
   ]
  },
  {
   "cell_type": "code",
   "execution_count": 93,
   "id": "dafdfaab-1b6c-4802-89d4-03624b828280",
   "metadata": {},
   "outputs": [],
   "source": [
    "data_split = data.iloc[:15,:]"
   ]
  },
  {
   "cell_type": "code",
   "execution_count": 94,
   "id": "c1e67d10-6221-40bf-aa50-e56c98c2c7eb",
   "metadata": {},
   "outputs": [
    {
     "data": {
      "text/html": [
       "<div>\n",
       "<style scoped>\n",
       "    .dataframe tbody tr th:only-of-type {\n",
       "        vertical-align: middle;\n",
       "    }\n",
       "\n",
       "    .dataframe tbody tr th {\n",
       "        vertical-align: top;\n",
       "    }\n",
       "\n",
       "    .dataframe thead th {\n",
       "        text-align: right;\n",
       "    }\n",
       "</style>\n",
       "<table border=\"1\" class=\"dataframe\">\n",
       "  <thead>\n",
       "    <tr style=\"text-align: right;\">\n",
       "      <th></th>\n",
       "      <th>Restaurant Name</th>\n",
       "      <th>Cuisine</th>\n",
       "      <th>Rating</th>\n",
       "      <th>Number of Ratings</th>\n",
       "      <th>Average Price</th>\n",
       "      <th>Number of Offers</th>\n",
       "      <th>Offer Name</th>\n",
       "      <th>Area</th>\n",
       "      <th>Pure Veg</th>\n",
       "      <th>Location</th>\n",
       "    </tr>\n",
       "  </thead>\n",
       "  <tbody>\n",
       "    <tr>\n",
       "      <th>0</th>\n",
       "      <td>La Pino'Z Pizza</td>\n",
       "      <td>Pizzas, Pastas</td>\n",
       "      <td>4.0</td>\n",
       "      <td>10+ ratings</td>\n",
       "      <td>₹250 for two</td>\n",
       "      <td>2</td>\n",
       "      <td>FLAT DEAL\\r\\nFLAT ₹125 OFF\\r\\nUSE FLAT125ABOVE...</td>\n",
       "      <td>LALA LAJPAT RAI MARKET</td>\n",
       "      <td>No</td>\n",
       "      <td>Abohar</td>\n",
       "    </tr>\n",
       "    <tr>\n",
       "      <th>1</th>\n",
       "      <td>The Second Wife</td>\n",
       "      <td>Indian, North Indian</td>\n",
       "      <td>3.6</td>\n",
       "      <td>50+ ratings</td>\n",
       "      <td>₹250 for two</td>\n",
       "      <td>2</td>\n",
       "      <td>30% OFF UPTO ₹75\\r\\nUSE TRYNEWABOVE ₹149, FLAT...</td>\n",
       "      <td>Central Abohar</td>\n",
       "      <td>No</td>\n",
       "      <td>Abohar</td>\n",
       "    </tr>\n",
       "    <tr>\n",
       "      <th>2</th>\n",
       "      <td>Tasty Bites</td>\n",
       "      <td>Italian, Beverages</td>\n",
       "      <td>3.8</td>\n",
       "      <td>10+ ratings</td>\n",
       "      <td>₹200 for two</td>\n",
       "      <td>1</td>\n",
       "      <td>FLAT ₹120 OFF\\r\\nUSE AXIS120ABOVE ₹500</td>\n",
       "      <td>Central Abohar</td>\n",
       "      <td>Yes</td>\n",
       "      <td>Abohar</td>\n",
       "    </tr>\n",
       "    <tr>\n",
       "      <th>3</th>\n",
       "      <td>Food Studio</td>\n",
       "      <td>Pizzas, Burgers</td>\n",
       "      <td>3.5</td>\n",
       "      <td>8 ratings</td>\n",
       "      <td>₹49 for two</td>\n",
       "      <td>5</td>\n",
       "      <td>50% OFF UPTO ₹100\\r\\nUSE TRYNEWABOVE ₹129, FLA...</td>\n",
       "      <td>Central Abohar</td>\n",
       "      <td>Yes</td>\n",
       "      <td>Abohar</td>\n",
       "    </tr>\n",
       "    <tr>\n",
       "      <th>4</th>\n",
       "      <td>Roll Express</td>\n",
       "      <td>Fast Food, Snacks</td>\n",
       "      <td>4.3</td>\n",
       "      <td>100+ ratings</td>\n",
       "      <td>₹200 for two</td>\n",
       "      <td>2</td>\n",
       "      <td>DEAL OF DAY\\r\\n10% OFF UPTO ₹40\\r\\nUSE STEALDE...</td>\n",
       "      <td>Circular Road</td>\n",
       "      <td>No</td>\n",
       "      <td>Abohar</td>\n",
       "    </tr>\n",
       "    <tr>\n",
       "      <th>5</th>\n",
       "      <td>Grill Masters</td>\n",
       "      <td>Italian-American, Fast Food</td>\n",
       "      <td>4.1</td>\n",
       "      <td>100+ ratings</td>\n",
       "      <td>₹250 for two</td>\n",
       "      <td>1</td>\n",
       "      <td>FLAT ₹120 OFF\\r\\nUSE AXIS120ABOVE ₹500</td>\n",
       "      <td>Circular Road</td>\n",
       "      <td>No</td>\n",
       "      <td>Abohar</td>\n",
       "    </tr>\n",
       "    <tr>\n",
       "      <th>6</th>\n",
       "      <td>The Chocolate Room</td>\n",
       "      <td>Indian</td>\n",
       "      <td>3.9</td>\n",
       "      <td>20+ ratings</td>\n",
       "      <td>₹250 for two</td>\n",
       "      <td>2</td>\n",
       "      <td>30% OFF UPTO ₹75\\r\\nUSE TRYNEWABOVE ₹149, FLAT...</td>\n",
       "      <td>Central Abohar</td>\n",
       "      <td>Yes</td>\n",
       "      <td>Abohar</td>\n",
       "    </tr>\n",
       "    <tr>\n",
       "      <th>7</th>\n",
       "      <td>Snakkers</td>\n",
       "      <td>Burgers, Pastas</td>\n",
       "      <td>4.2</td>\n",
       "      <td>100+ ratings</td>\n",
       "      <td>₹200 for two</td>\n",
       "      <td>1</td>\n",
       "      <td>FLAT ₹120 OFF\\r\\nUSE AXIS120ABOVE ₹500</td>\n",
       "      <td>NEAR DAV COLEEGE</td>\n",
       "      <td>No</td>\n",
       "      <td>Abohar</td>\n",
       "    </tr>\n",
       "    <tr>\n",
       "      <th>8</th>\n",
       "      <td>Dumpling Hood</td>\n",
       "      <td>Fast Food</td>\n",
       "      <td>NEW</td>\n",
       "      <td>NaN</td>\n",
       "      <td>₹199 for two</td>\n",
       "      <td>1</td>\n",
       "      <td>FLAT ₹120 OFF\\r\\nUSE AXIS120ABOVE ₹500</td>\n",
       "      <td>Central Abohar</td>\n",
       "      <td>No</td>\n",
       "      <td>Abohar</td>\n",
       "    </tr>\n",
       "    <tr>\n",
       "      <th>9</th>\n",
       "      <td>Picado International Food</td>\n",
       "      <td>Pizzas, Beverages</td>\n",
       "      <td>4.3</td>\n",
       "      <td>100+ ratings</td>\n",
       "      <td>₹300 for two</td>\n",
       "      <td>2</td>\n",
       "      <td>40% OFF UPTO ₹80\\r\\nUSE TRYNEWABOVE ₹149, FLAT...</td>\n",
       "      <td>Central Abohar</td>\n",
       "      <td>Yes</td>\n",
       "      <td>Abohar</td>\n",
       "    </tr>\n",
       "    <tr>\n",
       "      <th>10</th>\n",
       "      <td>Venky'S Chicken Xperience</td>\n",
       "      <td>Snacks</td>\n",
       "      <td>3.2</td>\n",
       "      <td>9 ratings</td>\n",
       "      <td>₹200 for two</td>\n",
       "      <td>1</td>\n",
       "      <td>FLAT ₹120 OFF\\r\\nUSE AXIS120ABOVE ₹500</td>\n",
       "      <td>Central Abohar</td>\n",
       "      <td>No</td>\n",
       "      <td>Abohar</td>\n",
       "    </tr>\n",
       "    <tr>\n",
       "      <th>11</th>\n",
       "      <td>Grill Master</td>\n",
       "      <td>Pizzas, Indian</td>\n",
       "      <td>4.2</td>\n",
       "      <td>500+ ratings</td>\n",
       "      <td>₹250 for two</td>\n",
       "      <td>1</td>\n",
       "      <td>FLAT ₹120 OFF\\r\\nUSE AXIS120ABOVE ₹500</td>\n",
       "      <td>Abohar Locality</td>\n",
       "      <td>No</td>\n",
       "      <td>Abohar</td>\n",
       "    </tr>\n",
       "    <tr>\n",
       "      <th>12</th>\n",
       "      <td>PUBG Cafe</td>\n",
       "      <td>Chinese, Pizzas</td>\n",
       "      <td>3.3</td>\n",
       "      <td>10+ ratings</td>\n",
       "      <td>₹200 for two</td>\n",
       "      <td>1</td>\n",
       "      <td>FLAT ₹120 OFF\\r\\nUSE AXIS120ABOVE ₹500</td>\n",
       "      <td>Central Abohar</td>\n",
       "      <td>Yes</td>\n",
       "      <td>Abohar</td>\n",
       "    </tr>\n",
       "    <tr>\n",
       "      <th>13</th>\n",
       "      <td>Royal Chicken</td>\n",
       "      <td>Mughlai, Snacks</td>\n",
       "      <td>3.7</td>\n",
       "      <td>50+ ratings</td>\n",
       "      <td>₹200 for two</td>\n",
       "      <td>1</td>\n",
       "      <td>FLAT ₹120 OFF\\r\\nUSE AXIS120ABOVE ₹500</td>\n",
       "      <td>Central Abohar</td>\n",
       "      <td>No</td>\n",
       "      <td>Abohar</td>\n",
       "    </tr>\n",
       "    <tr>\n",
       "      <th>14</th>\n",
       "      <td>Taste Buds</td>\n",
       "      <td>Snacks, Pizzas</td>\n",
       "      <td>4.2</td>\n",
       "      <td>20+ ratings</td>\n",
       "      <td>₹200 for two</td>\n",
       "      <td>1</td>\n",
       "      <td>FLAT ₹120 OFF\\r\\nUSE AXIS120ABOVE ₹500</td>\n",
       "      <td>Central Abohar</td>\n",
       "      <td>No</td>\n",
       "      <td>Abohar</td>\n",
       "    </tr>\n",
       "  </tbody>\n",
       "</table>\n",
       "</div>"
      ],
      "text/plain": [
       "              Restaurant Name                      Cuisine Rating  \\\n",
       "0             La Pino'Z Pizza               Pizzas, Pastas    4.0   \n",
       "1             The Second Wife         Indian, North Indian    3.6   \n",
       "2                 Tasty Bites           Italian, Beverages    3.8   \n",
       "3                 Food Studio              Pizzas, Burgers    3.5   \n",
       "4                Roll Express            Fast Food, Snacks    4.3   \n",
       "5               Grill Masters  Italian-American, Fast Food    4.1   \n",
       "6          The Chocolate Room                       Indian    3.9   \n",
       "7                    Snakkers              Burgers, Pastas    4.2   \n",
       "8               Dumpling Hood                    Fast Food    NEW   \n",
       "9   Picado International Food            Pizzas, Beverages    4.3   \n",
       "10  Venky'S Chicken Xperience                       Snacks    3.2   \n",
       "11               Grill Master               Pizzas, Indian    4.2   \n",
       "12                  PUBG Cafe              Chinese, Pizzas    3.3   \n",
       "13              Royal Chicken              Mughlai, Snacks    3.7   \n",
       "14                 Taste Buds               Snacks, Pizzas    4.2   \n",
       "\n",
       "   Number of Ratings Average Price  Number of Offers  \\\n",
       "0        10+ ratings  ₹250 for two                 2   \n",
       "1        50+ ratings  ₹250 for two                 2   \n",
       "2        10+ ratings  ₹200 for two                 1   \n",
       "3          8 ratings   ₹49 for two                 5   \n",
       "4       100+ ratings  ₹200 for two                 2   \n",
       "5       100+ ratings  ₹250 for two                 1   \n",
       "6        20+ ratings  ₹250 for two                 2   \n",
       "7       100+ ratings  ₹200 for two                 1   \n",
       "8                NaN  ₹199 for two                 1   \n",
       "9       100+ ratings  ₹300 for two                 2   \n",
       "10         9 ratings  ₹200 for two                 1   \n",
       "11      500+ ratings  ₹250 for two                 1   \n",
       "12       10+ ratings  ₹200 for two                 1   \n",
       "13       50+ ratings  ₹200 for two                 1   \n",
       "14       20+ ratings  ₹200 for two                 1   \n",
       "\n",
       "                                           Offer Name                    Area  \\\n",
       "0   FLAT DEAL\\r\\nFLAT ₹125 OFF\\r\\nUSE FLAT125ABOVE...  LALA LAJPAT RAI MARKET   \n",
       "1   30% OFF UPTO ₹75\\r\\nUSE TRYNEWABOVE ₹149, FLAT...          Central Abohar   \n",
       "2              FLAT ₹120 OFF\\r\\nUSE AXIS120ABOVE ₹500          Central Abohar   \n",
       "3   50% OFF UPTO ₹100\\r\\nUSE TRYNEWABOVE ₹129, FLA...          Central Abohar   \n",
       "4   DEAL OF DAY\\r\\n10% OFF UPTO ₹40\\r\\nUSE STEALDE...           Circular Road   \n",
       "5              FLAT ₹120 OFF\\r\\nUSE AXIS120ABOVE ₹500           Circular Road   \n",
       "6   30% OFF UPTO ₹75\\r\\nUSE TRYNEWABOVE ₹149, FLAT...          Central Abohar   \n",
       "7              FLAT ₹120 OFF\\r\\nUSE AXIS120ABOVE ₹500        NEAR DAV COLEEGE   \n",
       "8              FLAT ₹120 OFF\\r\\nUSE AXIS120ABOVE ₹500          Central Abohar   \n",
       "9   40% OFF UPTO ₹80\\r\\nUSE TRYNEWABOVE ₹149, FLAT...          Central Abohar   \n",
       "10             FLAT ₹120 OFF\\r\\nUSE AXIS120ABOVE ₹500          Central Abohar   \n",
       "11             FLAT ₹120 OFF\\r\\nUSE AXIS120ABOVE ₹500         Abohar Locality   \n",
       "12             FLAT ₹120 OFF\\r\\nUSE AXIS120ABOVE ₹500          Central Abohar   \n",
       "13             FLAT ₹120 OFF\\r\\nUSE AXIS120ABOVE ₹500          Central Abohar   \n",
       "14             FLAT ₹120 OFF\\r\\nUSE AXIS120ABOVE ₹500          Central Abohar   \n",
       "\n",
       "   Pure Veg Location  \n",
       "0        No   Abohar  \n",
       "1        No   Abohar  \n",
       "2       Yes   Abohar  \n",
       "3       Yes   Abohar  \n",
       "4        No   Abohar  \n",
       "5        No   Abohar  \n",
       "6       Yes   Abohar  \n",
       "7        No   Abohar  \n",
       "8        No   Abohar  \n",
       "9       Yes   Abohar  \n",
       "10       No   Abohar  \n",
       "11       No   Abohar  \n",
       "12      Yes   Abohar  \n",
       "13       No   Abohar  \n",
       "14       No   Abohar  "
      ]
     },
     "execution_count": 94,
     "metadata": {},
     "output_type": "execute_result"
    }
   ],
   "source": [
    "data_split"
   ]
  },
  {
   "cell_type": "code",
   "execution_count": 95,
   "id": "08f4b4b3-038e-40f5-9382-804526e8e7f3",
   "metadata": {},
   "outputs": [
    {
     "data": {
      "text/plain": [
       "Restaurant Name      0\n",
       "Cuisine              0\n",
       "Rating               0\n",
       "Number of Ratings    1\n",
       "Average Price        0\n",
       "Number of Offers     0\n",
       "Offer Name           0\n",
       "Area                 0\n",
       "Pure Veg             0\n",
       "Location             0\n",
       "dtype: int64"
      ]
     },
     "execution_count": 95,
     "metadata": {},
     "output_type": "execute_result"
    }
   ],
   "source": [
    "data_split.isnull().sum()"
   ]
  },
  {
   "cell_type": "code",
   "execution_count": 96,
   "id": "a932ddb9-c723-46e0-b3cd-aba5d7d4372d",
   "metadata": {},
   "outputs": [
    {
     "name": "stdout",
     "output_type": "stream",
     "text": [
      "<class 'pandas.core.frame.DataFrame'>\n",
      "RangeIndex: 15 entries, 0 to 14\n",
      "Data columns (total 10 columns):\n",
      " #   Column             Non-Null Count  Dtype \n",
      "---  ------             --------------  ----- \n",
      " 0   Restaurant Name    15 non-null     object\n",
      " 1   Cuisine            15 non-null     object\n",
      " 2   Rating             15 non-null     object\n",
      " 3   Number of Ratings  14 non-null     object\n",
      " 4   Average Price      15 non-null     object\n",
      " 5   Number of Offers   15 non-null     int64 \n",
      " 6   Offer Name         15 non-null     object\n",
      " 7   Area               15 non-null     object\n",
      " 8   Pure Veg           15 non-null     object\n",
      " 9   Location           15 non-null     object\n",
      "dtypes: int64(1), object(9)\n",
      "memory usage: 1.3+ KB\n"
     ]
    }
   ],
   "source": [
    "data_split.info()"
   ]
  },
  {
   "cell_type": "code",
   "execution_count": 97,
   "id": "fe3a3295-f828-4462-a746-6fd588d41c4e",
   "metadata": {},
   "outputs": [],
   "source": [
    "cols=['Cuisine','Number of Ratings','Offer Name'] #we create a another group to apply fillna function"
   ]
  },
  {
   "cell_type": "code",
   "execution_count": 98,
   "id": "cc00e24e-4f53-4b01-98a7-3472aeeb7fbd",
   "metadata": {},
   "outputs": [
    {
     "data": {
      "text/html": [
       "<div>\n",
       "<style scoped>\n",
       "    .dataframe tbody tr th:only-of-type {\n",
       "        vertical-align: middle;\n",
       "    }\n",
       "\n",
       "    .dataframe tbody tr th {\n",
       "        vertical-align: top;\n",
       "    }\n",
       "\n",
       "    .dataframe thead th {\n",
       "        text-align: right;\n",
       "    }\n",
       "</style>\n",
       "<table border=\"1\" class=\"dataframe\">\n",
       "  <thead>\n",
       "    <tr style=\"text-align: right;\">\n",
       "      <th></th>\n",
       "      <th>Cuisine</th>\n",
       "      <th>Number of Ratings</th>\n",
       "      <th>Offer Name</th>\n",
       "    </tr>\n",
       "  </thead>\n",
       "  <tbody>\n",
       "    <tr>\n",
       "      <th>0</th>\n",
       "      <td>Pizzas, Pastas</td>\n",
       "      <td>10+ ratings</td>\n",
       "      <td>FLAT DEAL\\r\\nFLAT ₹125 OFF\\r\\nUSE FLAT125ABOVE...</td>\n",
       "    </tr>\n",
       "    <tr>\n",
       "      <th>1</th>\n",
       "      <td>Indian, North Indian</td>\n",
       "      <td>50+ ratings</td>\n",
       "      <td>30% OFF UPTO ₹75\\r\\nUSE TRYNEWABOVE ₹149, FLAT...</td>\n",
       "    </tr>\n",
       "    <tr>\n",
       "      <th>2</th>\n",
       "      <td>Italian, Beverages</td>\n",
       "      <td>10+ ratings</td>\n",
       "      <td>FLAT ₹120 OFF\\r\\nUSE AXIS120ABOVE ₹500</td>\n",
       "    </tr>\n",
       "    <tr>\n",
       "      <th>3</th>\n",
       "      <td>Pizzas, Burgers</td>\n",
       "      <td>8 ratings</td>\n",
       "      <td>50% OFF UPTO ₹100\\r\\nUSE TRYNEWABOVE ₹129, FLA...</td>\n",
       "    </tr>\n",
       "    <tr>\n",
       "      <th>4</th>\n",
       "      <td>Fast Food, Snacks</td>\n",
       "      <td>100+ ratings</td>\n",
       "      <td>DEAL OF DAY\\r\\n10% OFF UPTO ₹40\\r\\nUSE STEALDE...</td>\n",
       "    </tr>\n",
       "    <tr>\n",
       "      <th>5</th>\n",
       "      <td>Italian-American, Fast Food</td>\n",
       "      <td>100+ ratings</td>\n",
       "      <td>FLAT ₹120 OFF\\r\\nUSE AXIS120ABOVE ₹500</td>\n",
       "    </tr>\n",
       "    <tr>\n",
       "      <th>6</th>\n",
       "      <td>Indian</td>\n",
       "      <td>20+ ratings</td>\n",
       "      <td>30% OFF UPTO ₹75\\r\\nUSE TRYNEWABOVE ₹149, FLAT...</td>\n",
       "    </tr>\n",
       "    <tr>\n",
       "      <th>7</th>\n",
       "      <td>Burgers, Pastas</td>\n",
       "      <td>100+ ratings</td>\n",
       "      <td>FLAT ₹120 OFF\\r\\nUSE AXIS120ABOVE ₹500</td>\n",
       "    </tr>\n",
       "    <tr>\n",
       "      <th>8</th>\n",
       "      <td>Fast Food</td>\n",
       "      <td>NaN</td>\n",
       "      <td>FLAT ₹120 OFF\\r\\nUSE AXIS120ABOVE ₹500</td>\n",
       "    </tr>\n",
       "    <tr>\n",
       "      <th>9</th>\n",
       "      <td>Pizzas, Beverages</td>\n",
       "      <td>100+ ratings</td>\n",
       "      <td>40% OFF UPTO ₹80\\r\\nUSE TRYNEWABOVE ₹149, FLAT...</td>\n",
       "    </tr>\n",
       "    <tr>\n",
       "      <th>10</th>\n",
       "      <td>Snacks</td>\n",
       "      <td>9 ratings</td>\n",
       "      <td>FLAT ₹120 OFF\\r\\nUSE AXIS120ABOVE ₹500</td>\n",
       "    </tr>\n",
       "    <tr>\n",
       "      <th>11</th>\n",
       "      <td>Pizzas, Indian</td>\n",
       "      <td>500+ ratings</td>\n",
       "      <td>FLAT ₹120 OFF\\r\\nUSE AXIS120ABOVE ₹500</td>\n",
       "    </tr>\n",
       "    <tr>\n",
       "      <th>12</th>\n",
       "      <td>Chinese, Pizzas</td>\n",
       "      <td>10+ ratings</td>\n",
       "      <td>FLAT ₹120 OFF\\r\\nUSE AXIS120ABOVE ₹500</td>\n",
       "    </tr>\n",
       "    <tr>\n",
       "      <th>13</th>\n",
       "      <td>Mughlai, Snacks</td>\n",
       "      <td>50+ ratings</td>\n",
       "      <td>FLAT ₹120 OFF\\r\\nUSE AXIS120ABOVE ₹500</td>\n",
       "    </tr>\n",
       "    <tr>\n",
       "      <th>14</th>\n",
       "      <td>Snacks, Pizzas</td>\n",
       "      <td>20+ ratings</td>\n",
       "      <td>FLAT ₹120 OFF\\r\\nUSE AXIS120ABOVE ₹500</td>\n",
       "    </tr>\n",
       "  </tbody>\n",
       "</table>\n",
       "</div>"
      ],
      "text/plain": [
       "                        Cuisine Number of Ratings  \\\n",
       "0                Pizzas, Pastas       10+ ratings   \n",
       "1          Indian, North Indian       50+ ratings   \n",
       "2            Italian, Beverages       10+ ratings   \n",
       "3               Pizzas, Burgers         8 ratings   \n",
       "4             Fast Food, Snacks      100+ ratings   \n",
       "5   Italian-American, Fast Food      100+ ratings   \n",
       "6                        Indian       20+ ratings   \n",
       "7               Burgers, Pastas      100+ ratings   \n",
       "8                     Fast Food               NaN   \n",
       "9             Pizzas, Beverages      100+ ratings   \n",
       "10                       Snacks         9 ratings   \n",
       "11               Pizzas, Indian      500+ ratings   \n",
       "12              Chinese, Pizzas       10+ ratings   \n",
       "13              Mughlai, Snacks       50+ ratings   \n",
       "14               Snacks, Pizzas       20+ ratings   \n",
       "\n",
       "                                           Offer Name  \n",
       "0   FLAT DEAL\\r\\nFLAT ₹125 OFF\\r\\nUSE FLAT125ABOVE...  \n",
       "1   30% OFF UPTO ₹75\\r\\nUSE TRYNEWABOVE ₹149, FLAT...  \n",
       "2              FLAT ₹120 OFF\\r\\nUSE AXIS120ABOVE ₹500  \n",
       "3   50% OFF UPTO ₹100\\r\\nUSE TRYNEWABOVE ₹129, FLA...  \n",
       "4   DEAL OF DAY\\r\\n10% OFF UPTO ₹40\\r\\nUSE STEALDE...  \n",
       "5              FLAT ₹120 OFF\\r\\nUSE AXIS120ABOVE ₹500  \n",
       "6   30% OFF UPTO ₹75\\r\\nUSE TRYNEWABOVE ₹149, FLAT...  \n",
       "7              FLAT ₹120 OFF\\r\\nUSE AXIS120ABOVE ₹500  \n",
       "8              FLAT ₹120 OFF\\r\\nUSE AXIS120ABOVE ₹500  \n",
       "9   40% OFF UPTO ₹80\\r\\nUSE TRYNEWABOVE ₹149, FLAT...  \n",
       "10             FLAT ₹120 OFF\\r\\nUSE AXIS120ABOVE ₹500  \n",
       "11             FLAT ₹120 OFF\\r\\nUSE AXIS120ABOVE ₹500  \n",
       "12             FLAT ₹120 OFF\\r\\nUSE AXIS120ABOVE ₹500  \n",
       "13             FLAT ₹120 OFF\\r\\nUSE AXIS120ABOVE ₹500  \n",
       "14             FLAT ₹120 OFF\\r\\nUSE AXIS120ABOVE ₹500  "
      ]
     },
     "execution_count": 98,
     "metadata": {},
     "output_type": "execute_result"
    }
   ],
   "source": [
    "data_split[cols]"
   ]
  },
  {
   "cell_type": "code",
   "execution_count": 99,
   "id": "ed238b6e-0db6-4779-a64d-fc086468d726",
   "metadata": {},
   "outputs": [
    {
     "ename": "NameError",
     "evalue": "name 'mean' is not defined",
     "output_type": "error",
     "traceback": [
      "\u001b[1;31m---------------------------------------------------------------------------\u001b[0m",
      "\u001b[1;31mNameError\u001b[0m                                 Traceback (most recent call last)",
      "Cell \u001b[1;32mIn[99], line 1\u001b[0m\n\u001b[1;32m----> 1\u001b[0m data_fillna\u001b[38;5;241m=\u001b[39mdata[cols]\u001b[38;5;241m.\u001b[39mfillna(value\u001b[38;5;241m=\u001b[39m\u001b[43mmean\u001b[49m())\n",
      "\u001b[1;31mNameError\u001b[0m: name 'mean' is not defined"
     ]
    }
   ],
   "source": [
    "data_fillna=data[cols].fillna(value=mean())"
   ]
  },
  {
   "cell_type": "code",
   "execution_count": 100,
   "id": "fd3c86a7-2d04-49b1-9e58-fe1a1d02452a",
   "metadata": {},
   "outputs": [],
   "source": [
    "X=pd.DataFrame()"
   ]
  },
  {
   "cell_type": "code",
   "execution_count": 101,
   "id": "b765e8cb-2657-4f21-88e0-553a2ddea6d8",
   "metadata": {},
   "outputs": [
    {
     "ename": "KeyError",
     "evalue": "'Rating'",
     "output_type": "error",
     "traceback": [
      "\u001b[1;31m---------------------------------------------------------------------------\u001b[0m",
      "\u001b[1;31mKeyError\u001b[0m                                  Traceback (most recent call last)",
      "Cell \u001b[1;32mIn[101], line 1\u001b[0m\n\u001b[1;32m----> 1\u001b[0m X[\u001b[38;5;124m'\u001b[39m\u001b[38;5;124mRating\u001b[39m\u001b[38;5;124m'\u001b[39m] \u001b[38;5;241m=\u001b[39m pd\u001b[38;5;241m.\u001b[39mto_numeric(\u001b[43mX\u001b[49m\u001b[43m[\u001b[49m\u001b[38;5;124;43m'\u001b[39;49m\u001b[38;5;124;43mRating\u001b[39;49m\u001b[38;5;124;43m'\u001b[39;49m\u001b[43m]\u001b[49m, errors\u001b[38;5;241m=\u001b[39m\u001b[38;5;124m'\u001b[39m\u001b[38;5;124mcoerce\u001b[39m\u001b[38;5;124m'\u001b[39m)\n\u001b[0;32m      2\u001b[0m X[\u001b[38;5;124m'\u001b[39m\u001b[38;5;124mNumber of Offers\u001b[39m\u001b[38;5;124m'\u001b[39m] \u001b[38;5;241m=\u001b[39m data[\u001b[38;5;124m'\u001b[39m\u001b[38;5;124mNumber of Offers\u001b[39m\u001b[38;5;124m'\u001b[39m]\n",
      "File \u001b[1;32m~\\AppData\\Local\\Programs\\Python\\Python311\\Lib\\site-packages\\pandas\\core\\frame.py:4090\u001b[0m, in \u001b[0;36mDataFrame.__getitem__\u001b[1;34m(self, key)\u001b[0m\n\u001b[0;32m   4088\u001b[0m \u001b[38;5;28;01mif\u001b[39;00m \u001b[38;5;28mself\u001b[39m\u001b[38;5;241m.\u001b[39mcolumns\u001b[38;5;241m.\u001b[39mnlevels \u001b[38;5;241m>\u001b[39m \u001b[38;5;241m1\u001b[39m:\n\u001b[0;32m   4089\u001b[0m     \u001b[38;5;28;01mreturn\u001b[39;00m \u001b[38;5;28mself\u001b[39m\u001b[38;5;241m.\u001b[39m_getitem_multilevel(key)\n\u001b[1;32m-> 4090\u001b[0m indexer \u001b[38;5;241m=\u001b[39m \u001b[38;5;28;43mself\u001b[39;49m\u001b[38;5;241;43m.\u001b[39;49m\u001b[43mcolumns\u001b[49m\u001b[38;5;241;43m.\u001b[39;49m\u001b[43mget_loc\u001b[49m\u001b[43m(\u001b[49m\u001b[43mkey\u001b[49m\u001b[43m)\u001b[49m\n\u001b[0;32m   4091\u001b[0m \u001b[38;5;28;01mif\u001b[39;00m is_integer(indexer):\n\u001b[0;32m   4092\u001b[0m     indexer \u001b[38;5;241m=\u001b[39m [indexer]\n",
      "File \u001b[1;32m~\\AppData\\Local\\Programs\\Python\\Python311\\Lib\\site-packages\\pandas\\core\\indexes\\range.py:417\u001b[0m, in \u001b[0;36mRangeIndex.get_loc\u001b[1;34m(self, key)\u001b[0m\n\u001b[0;32m    415\u001b[0m         \u001b[38;5;28;01mraise\u001b[39;00m \u001b[38;5;167;01mKeyError\u001b[39;00m(key) \u001b[38;5;28;01mfrom\u001b[39;00m \u001b[38;5;21;01merr\u001b[39;00m\n\u001b[0;32m    416\u001b[0m \u001b[38;5;28;01mif\u001b[39;00m \u001b[38;5;28misinstance\u001b[39m(key, Hashable):\n\u001b[1;32m--> 417\u001b[0m     \u001b[38;5;28;01mraise\u001b[39;00m \u001b[38;5;167;01mKeyError\u001b[39;00m(key)\n\u001b[0;32m    418\u001b[0m \u001b[38;5;28mself\u001b[39m\u001b[38;5;241m.\u001b[39m_check_indexing_error(key)\n\u001b[0;32m    419\u001b[0m \u001b[38;5;28;01mraise\u001b[39;00m \u001b[38;5;167;01mKeyError\u001b[39;00m(key)\n",
      "\u001b[1;31mKeyError\u001b[0m: 'Rating'"
     ]
    }
   ],
   "source": [
    "X['Rating'] = pd.to_numeric(X['Rating'], errors='coerce')\n",
    "X['Number of Offers'] = data['Number of Offers']"
   ]
  },
  {
   "cell_type": "code",
   "execution_count": null,
   "id": "e220ba99-e83b-41d4-a600-a9aa8f2e345e",
   "metadata": {},
   "outputs": [],
   "source": [
    "X.isnull().sum()"
   ]
  },
  {
   "cell_type": "code",
   "execution_count": 102,
   "id": "16558e46-8cd0-4eb2-ac8e-e3442500ffb7",
   "metadata": {},
   "outputs": [],
   "source": [
    "#data_no=pd.read_csv('Automobile.csv')\n",
    "df = pd.DataFrame()\n",
    "df = pd.read_csv(\"Automobile.csv\")"
   ]
  },
  {
   "cell_type": "code",
   "execution_count": 103,
   "id": "5a17c32f-bd7f-4f54-b4e9-a1a399d1f8f5",
   "metadata": {
    "scrolled": true
   },
   "outputs": [
    {
     "data": {
      "text/html": [
       "<div>\n",
       "<style scoped>\n",
       "    .dataframe tbody tr th:only-of-type {\n",
       "        vertical-align: middle;\n",
       "    }\n",
       "\n",
       "    .dataframe tbody tr th {\n",
       "        vertical-align: top;\n",
       "    }\n",
       "\n",
       "    .dataframe thead th {\n",
       "        text-align: right;\n",
       "    }\n",
       "</style>\n",
       "<table border=\"1\" class=\"dataframe\">\n",
       "  <thead>\n",
       "    <tr style=\"text-align: right;\">\n",
       "      <th></th>\n",
       "      <th>name</th>\n",
       "      <th>mpg</th>\n",
       "      <th>cylinders</th>\n",
       "      <th>displacement</th>\n",
       "      <th>horsepower</th>\n",
       "      <th>weight</th>\n",
       "      <th>acceleration</th>\n",
       "      <th>model_year</th>\n",
       "      <th>origin</th>\n",
       "    </tr>\n",
       "  </thead>\n",
       "  <tbody>\n",
       "    <tr>\n",
       "      <th>0</th>\n",
       "      <td>chevrolet chevelle malibu</td>\n",
       "      <td>18.0</td>\n",
       "      <td>8.0</td>\n",
       "      <td>307.0</td>\n",
       "      <td>130.0</td>\n",
       "      <td>3504.0</td>\n",
       "      <td>12.0</td>\n",
       "      <td>70</td>\n",
       "      <td>usa</td>\n",
       "    </tr>\n",
       "    <tr>\n",
       "      <th>1</th>\n",
       "      <td>buick skylark 320</td>\n",
       "      <td>15.0</td>\n",
       "      <td>8.0</td>\n",
       "      <td>350.0</td>\n",
       "      <td>165.0</td>\n",
       "      <td>3693.0</td>\n",
       "      <td>11.5</td>\n",
       "      <td>70</td>\n",
       "      <td>usa</td>\n",
       "    </tr>\n",
       "    <tr>\n",
       "      <th>2</th>\n",
       "      <td>plymouth satellite</td>\n",
       "      <td>18.0</td>\n",
       "      <td>8.0</td>\n",
       "      <td>318.0</td>\n",
       "      <td>150.0</td>\n",
       "      <td>3436.0</td>\n",
       "      <td>11.0</td>\n",
       "      <td>70</td>\n",
       "      <td>usa</td>\n",
       "    </tr>\n",
       "    <tr>\n",
       "      <th>3</th>\n",
       "      <td>amc rebel sst</td>\n",
       "      <td>16.0</td>\n",
       "      <td>8.0</td>\n",
       "      <td>304.0</td>\n",
       "      <td>150.0</td>\n",
       "      <td>3433.0</td>\n",
       "      <td>12.0</td>\n",
       "      <td>70</td>\n",
       "      <td>usa</td>\n",
       "    </tr>\n",
       "    <tr>\n",
       "      <th>4</th>\n",
       "      <td>ford torino</td>\n",
       "      <td>17.0</td>\n",
       "      <td>8.0</td>\n",
       "      <td>302.0</td>\n",
       "      <td>140.0</td>\n",
       "      <td>3449.0</td>\n",
       "      <td>10.5</td>\n",
       "      <td>70</td>\n",
       "      <td>usa</td>\n",
       "    </tr>\n",
       "    <tr>\n",
       "      <th>...</th>\n",
       "      <td>...</td>\n",
       "      <td>...</td>\n",
       "      <td>...</td>\n",
       "      <td>...</td>\n",
       "      <td>...</td>\n",
       "      <td>...</td>\n",
       "      <td>...</td>\n",
       "      <td>...</td>\n",
       "      <td>...</td>\n",
       "    </tr>\n",
       "    <tr>\n",
       "      <th>393</th>\n",
       "      <td>ford mustang gl</td>\n",
       "      <td>27.0</td>\n",
       "      <td>4.0</td>\n",
       "      <td>140.0</td>\n",
       "      <td>86.0</td>\n",
       "      <td>2790.0</td>\n",
       "      <td>15.6</td>\n",
       "      <td>82</td>\n",
       "      <td>usa</td>\n",
       "    </tr>\n",
       "    <tr>\n",
       "      <th>394</th>\n",
       "      <td>vw pickup</td>\n",
       "      <td>44.0</td>\n",
       "      <td>4.0</td>\n",
       "      <td>97.0</td>\n",
       "      <td>52.0</td>\n",
       "      <td>2130.0</td>\n",
       "      <td>24.6</td>\n",
       "      <td>82</td>\n",
       "      <td>europe</td>\n",
       "    </tr>\n",
       "    <tr>\n",
       "      <th>395</th>\n",
       "      <td>dodge rampage</td>\n",
       "      <td>32.0</td>\n",
       "      <td>4.0</td>\n",
       "      <td>135.0</td>\n",
       "      <td>84.0</td>\n",
       "      <td>2295.0</td>\n",
       "      <td>11.6</td>\n",
       "      <td>82</td>\n",
       "      <td>usa</td>\n",
       "    </tr>\n",
       "    <tr>\n",
       "      <th>396</th>\n",
       "      <td>ford ranger</td>\n",
       "      <td>28.0</td>\n",
       "      <td>4.0</td>\n",
       "      <td>120.0</td>\n",
       "      <td>79.0</td>\n",
       "      <td>2625.0</td>\n",
       "      <td>18.6</td>\n",
       "      <td>82</td>\n",
       "      <td>usa</td>\n",
       "    </tr>\n",
       "    <tr>\n",
       "      <th>397</th>\n",
       "      <td>chevy s-10</td>\n",
       "      <td>31.0</td>\n",
       "      <td>4.0</td>\n",
       "      <td>119.0</td>\n",
       "      <td>82.0</td>\n",
       "      <td>2720.0</td>\n",
       "      <td>19.4</td>\n",
       "      <td>82</td>\n",
       "      <td>usa</td>\n",
       "    </tr>\n",
       "  </tbody>\n",
       "</table>\n",
       "<p>398 rows × 9 columns</p>\n",
       "</div>"
      ],
      "text/plain": [
       "                          name   mpg  cylinders  displacement  horsepower  \\\n",
       "0    chevrolet chevelle malibu  18.0        8.0         307.0       130.0   \n",
       "1            buick skylark 320  15.0        8.0         350.0       165.0   \n",
       "2           plymouth satellite  18.0        8.0         318.0       150.0   \n",
       "3                amc rebel sst  16.0        8.0         304.0       150.0   \n",
       "4                  ford torino  17.0        8.0         302.0       140.0   \n",
       "..                         ...   ...        ...           ...         ...   \n",
       "393            ford mustang gl  27.0        4.0         140.0        86.0   \n",
       "394                  vw pickup  44.0        4.0          97.0        52.0   \n",
       "395              dodge rampage  32.0        4.0         135.0        84.0   \n",
       "396                ford ranger  28.0        4.0         120.0        79.0   \n",
       "397                 chevy s-10  31.0        4.0         119.0        82.0   \n",
       "\n",
       "     weight  acceleration model_year  origin  \n",
       "0    3504.0          12.0         70     usa  \n",
       "1    3693.0          11.5         70     usa  \n",
       "2    3436.0          11.0         70     usa  \n",
       "3    3433.0          12.0         70     usa  \n",
       "4    3449.0          10.5         70     usa  \n",
       "..      ...           ...        ...     ...  \n",
       "393  2790.0          15.6         82     usa  \n",
       "394  2130.0          24.6         82  europe  \n",
       "395  2295.0          11.6         82     usa  \n",
       "396  2625.0          18.6         82     usa  \n",
       "397  2720.0          19.4         82     usa  \n",
       "\n",
       "[398 rows x 9 columns]"
      ]
     },
     "execution_count": 103,
     "metadata": {},
     "output_type": "execute_result"
    }
   ],
   "source": [
    "df\n"
   ]
  },
  {
   "cell_type": "code",
   "execution_count": null,
   "id": "f88898db-8b13-448b-813a-376bdd6b40f7",
   "metadata": {},
   "outputs": [],
   "source": []
  },
  {
   "cell_type": "code",
   "execution_count": 104,
   "id": "99ea24ef-8b44-4e74-9fba-44f703adae30",
   "metadata": {},
   "outputs": [],
   "source": [
    "df=df.iloc[:50,3:5]"
   ]
  },
  {
   "cell_type": "code",
   "execution_count": 105,
   "id": "6006592b-a49a-462a-b29f-26ff4a49f69c",
   "metadata": {},
   "outputs": [
    {
     "data": {
      "text/html": [
       "<div>\n",
       "<style scoped>\n",
       "    .dataframe tbody tr th:only-of-type {\n",
       "        vertical-align: middle;\n",
       "    }\n",
       "\n",
       "    .dataframe tbody tr th {\n",
       "        vertical-align: top;\n",
       "    }\n",
       "\n",
       "    .dataframe thead th {\n",
       "        text-align: right;\n",
       "    }\n",
       "</style>\n",
       "<table border=\"1\" class=\"dataframe\">\n",
       "  <thead>\n",
       "    <tr style=\"text-align: right;\">\n",
       "      <th></th>\n",
       "      <th>displacement</th>\n",
       "      <th>horsepower</th>\n",
       "    </tr>\n",
       "  </thead>\n",
       "  <tbody>\n",
       "    <tr>\n",
       "      <th>0</th>\n",
       "      <td>307.0</td>\n",
       "      <td>130.0</td>\n",
       "    </tr>\n",
       "    <tr>\n",
       "      <th>1</th>\n",
       "      <td>350.0</td>\n",
       "      <td>165.0</td>\n",
       "    </tr>\n",
       "    <tr>\n",
       "      <th>2</th>\n",
       "      <td>318.0</td>\n",
       "      <td>150.0</td>\n",
       "    </tr>\n",
       "    <tr>\n",
       "      <th>3</th>\n",
       "      <td>304.0</td>\n",
       "      <td>150.0</td>\n",
       "    </tr>\n",
       "    <tr>\n",
       "      <th>4</th>\n",
       "      <td>302.0</td>\n",
       "      <td>140.0</td>\n",
       "    </tr>\n",
       "    <tr>\n",
       "      <th>5</th>\n",
       "      <td>NaN</td>\n",
       "      <td>198.0</td>\n",
       "    </tr>\n",
       "    <tr>\n",
       "      <th>6</th>\n",
       "      <td>454.0</td>\n",
       "      <td>220.0</td>\n",
       "    </tr>\n",
       "    <tr>\n",
       "      <th>7</th>\n",
       "      <td>440.0</td>\n",
       "      <td>215.0</td>\n",
       "    </tr>\n",
       "    <tr>\n",
       "      <th>8</th>\n",
       "      <td>455.0</td>\n",
       "      <td>225.0</td>\n",
       "    </tr>\n",
       "    <tr>\n",
       "      <th>9</th>\n",
       "      <td>NaN</td>\n",
       "      <td>190.0</td>\n",
       "    </tr>\n",
       "    <tr>\n",
       "      <th>10</th>\n",
       "      <td>383.0</td>\n",
       "      <td>170.0</td>\n",
       "    </tr>\n",
       "    <tr>\n",
       "      <th>11</th>\n",
       "      <td>340.0</td>\n",
       "      <td>160.0</td>\n",
       "    </tr>\n",
       "    <tr>\n",
       "      <th>12</th>\n",
       "      <td>400.0</td>\n",
       "      <td>150.0</td>\n",
       "    </tr>\n",
       "    <tr>\n",
       "      <th>13</th>\n",
       "      <td>455.0</td>\n",
       "      <td>225.0</td>\n",
       "    </tr>\n",
       "    <tr>\n",
       "      <th>14</th>\n",
       "      <td>113.0</td>\n",
       "      <td>95.0</td>\n",
       "    </tr>\n",
       "    <tr>\n",
       "      <th>15</th>\n",
       "      <td>198.0</td>\n",
       "      <td>95.0</td>\n",
       "    </tr>\n",
       "    <tr>\n",
       "      <th>16</th>\n",
       "      <td>199.0</td>\n",
       "      <td>97.0</td>\n",
       "    </tr>\n",
       "    <tr>\n",
       "      <th>17</th>\n",
       "      <td>200.0</td>\n",
       "      <td>85.0</td>\n",
       "    </tr>\n",
       "    <tr>\n",
       "      <th>18</th>\n",
       "      <td>97.0</td>\n",
       "      <td>88.0</td>\n",
       "    </tr>\n",
       "    <tr>\n",
       "      <th>19</th>\n",
       "      <td>97.0</td>\n",
       "      <td>46.0</td>\n",
       "    </tr>\n",
       "    <tr>\n",
       "      <th>20</th>\n",
       "      <td>110.0</td>\n",
       "      <td>87.0</td>\n",
       "    </tr>\n",
       "    <tr>\n",
       "      <th>21</th>\n",
       "      <td>107.0</td>\n",
       "      <td>90.0</td>\n",
       "    </tr>\n",
       "    <tr>\n",
       "      <th>22</th>\n",
       "      <td>104.0</td>\n",
       "      <td>95.0</td>\n",
       "    </tr>\n",
       "    <tr>\n",
       "      <th>23</th>\n",
       "      <td>121.0</td>\n",
       "      <td>113.0</td>\n",
       "    </tr>\n",
       "    <tr>\n",
       "      <th>24</th>\n",
       "      <td>199.0</td>\n",
       "      <td>90.0</td>\n",
       "    </tr>\n",
       "    <tr>\n",
       "      <th>25</th>\n",
       "      <td>NaN</td>\n",
       "      <td>215.0</td>\n",
       "    </tr>\n",
       "    <tr>\n",
       "      <th>26</th>\n",
       "      <td>307.0</td>\n",
       "      <td>200.0</td>\n",
       "    </tr>\n",
       "    <tr>\n",
       "      <th>27</th>\n",
       "      <td>318.0</td>\n",
       "      <td>210.0</td>\n",
       "    </tr>\n",
       "    <tr>\n",
       "      <th>28</th>\n",
       "      <td>304.0</td>\n",
       "      <td>193.0</td>\n",
       "    </tr>\n",
       "    <tr>\n",
       "      <th>29</th>\n",
       "      <td>97.0</td>\n",
       "      <td>88.0</td>\n",
       "    </tr>\n",
       "    <tr>\n",
       "      <th>30</th>\n",
       "      <td>140.0</td>\n",
       "      <td>90.0</td>\n",
       "    </tr>\n",
       "    <tr>\n",
       "      <th>31</th>\n",
       "      <td>113.0</td>\n",
       "      <td>95.0</td>\n",
       "    </tr>\n",
       "    <tr>\n",
       "      <th>32</th>\n",
       "      <td>98.0</td>\n",
       "      <td>NaN</td>\n",
       "    </tr>\n",
       "    <tr>\n",
       "      <th>33</th>\n",
       "      <td>232.0</td>\n",
       "      <td>100.0</td>\n",
       "    </tr>\n",
       "    <tr>\n",
       "      <th>34</th>\n",
       "      <td>225.0</td>\n",
       "      <td>105.0</td>\n",
       "    </tr>\n",
       "    <tr>\n",
       "      <th>35</th>\n",
       "      <td>250.0</td>\n",
       "      <td>100.0</td>\n",
       "    </tr>\n",
       "    <tr>\n",
       "      <th>36</th>\n",
       "      <td>250.0</td>\n",
       "      <td>88.0</td>\n",
       "    </tr>\n",
       "    <tr>\n",
       "      <th>37</th>\n",
       "      <td>232.0</td>\n",
       "      <td>100.0</td>\n",
       "    </tr>\n",
       "    <tr>\n",
       "      <th>38</th>\n",
       "      <td>350.0</td>\n",
       "      <td>165.0</td>\n",
       "    </tr>\n",
       "    <tr>\n",
       "      <th>39</th>\n",
       "      <td>400.0</td>\n",
       "      <td>175.0</td>\n",
       "    </tr>\n",
       "    <tr>\n",
       "      <th>40</th>\n",
       "      <td>351.0</td>\n",
       "      <td>153.0</td>\n",
       "    </tr>\n",
       "    <tr>\n",
       "      <th>41</th>\n",
       "      <td>318.0</td>\n",
       "      <td>150.0</td>\n",
       "    </tr>\n",
       "    <tr>\n",
       "      <th>42</th>\n",
       "      <td>383.0</td>\n",
       "      <td>180.0</td>\n",
       "    </tr>\n",
       "    <tr>\n",
       "      <th>43</th>\n",
       "      <td>400.0</td>\n",
       "      <td>170.0</td>\n",
       "    </tr>\n",
       "    <tr>\n",
       "      <th>44</th>\n",
       "      <td>400.0</td>\n",
       "      <td>175.0</td>\n",
       "    </tr>\n",
       "    <tr>\n",
       "      <th>45</th>\n",
       "      <td>258.0</td>\n",
       "      <td>110.0</td>\n",
       "    </tr>\n",
       "    <tr>\n",
       "      <th>46</th>\n",
       "      <td>140.0</td>\n",
       "      <td>72.0</td>\n",
       "    </tr>\n",
       "    <tr>\n",
       "      <th>47</th>\n",
       "      <td>250.0</td>\n",
       "      <td>100.0</td>\n",
       "    </tr>\n",
       "    <tr>\n",
       "      <th>48</th>\n",
       "      <td>250.0</td>\n",
       "      <td>88.0</td>\n",
       "    </tr>\n",
       "    <tr>\n",
       "      <th>49</th>\n",
       "      <td>122.0</td>\n",
       "      <td>86.0</td>\n",
       "    </tr>\n",
       "  </tbody>\n",
       "</table>\n",
       "</div>"
      ],
      "text/plain": [
       "    displacement  horsepower\n",
       "0          307.0       130.0\n",
       "1          350.0       165.0\n",
       "2          318.0       150.0\n",
       "3          304.0       150.0\n",
       "4          302.0       140.0\n",
       "5            NaN       198.0\n",
       "6          454.0       220.0\n",
       "7          440.0       215.0\n",
       "8          455.0       225.0\n",
       "9            NaN       190.0\n",
       "10         383.0       170.0\n",
       "11         340.0       160.0\n",
       "12         400.0       150.0\n",
       "13         455.0       225.0\n",
       "14         113.0        95.0\n",
       "15         198.0        95.0\n",
       "16         199.0        97.0\n",
       "17         200.0        85.0\n",
       "18          97.0        88.0\n",
       "19          97.0        46.0\n",
       "20         110.0        87.0\n",
       "21         107.0        90.0\n",
       "22         104.0        95.0\n",
       "23         121.0       113.0\n",
       "24         199.0        90.0\n",
       "25           NaN       215.0\n",
       "26         307.0       200.0\n",
       "27         318.0       210.0\n",
       "28         304.0       193.0\n",
       "29          97.0        88.0\n",
       "30         140.0        90.0\n",
       "31         113.0        95.0\n",
       "32          98.0         NaN\n",
       "33         232.0       100.0\n",
       "34         225.0       105.0\n",
       "35         250.0       100.0\n",
       "36         250.0        88.0\n",
       "37         232.0       100.0\n",
       "38         350.0       165.0\n",
       "39         400.0       175.0\n",
       "40         351.0       153.0\n",
       "41         318.0       150.0\n",
       "42         383.0       180.0\n",
       "43         400.0       170.0\n",
       "44         400.0       175.0\n",
       "45         258.0       110.0\n",
       "46         140.0        72.0\n",
       "47         250.0       100.0\n",
       "48         250.0        88.0\n",
       "49         122.0        86.0"
      ]
     },
     "execution_count": 105,
     "metadata": {},
     "output_type": "execute_result"
    }
   ],
   "source": [
    "df"
   ]
  },
  {
   "cell_type": "code",
   "execution_count": 106,
   "id": "653a231d-226f-4659-8612-0dbe369534fd",
   "metadata": {},
   "outputs": [
    {
     "data": {
      "text/html": [
       "<div>\n",
       "<style scoped>\n",
       "    .dataframe tbody tr th:only-of-type {\n",
       "        vertical-align: middle;\n",
       "    }\n",
       "\n",
       "    .dataframe tbody tr th {\n",
       "        vertical-align: top;\n",
       "    }\n",
       "\n",
       "    .dataframe thead th {\n",
       "        text-align: right;\n",
       "    }\n",
       "</style>\n",
       "<table border=\"1\" class=\"dataframe\">\n",
       "  <thead>\n",
       "    <tr style=\"text-align: right;\">\n",
       "      <th></th>\n",
       "      <th>displacement</th>\n",
       "      <th>horsepower</th>\n",
       "    </tr>\n",
       "  </thead>\n",
       "  <tbody>\n",
       "    <tr>\n",
       "      <th>count</th>\n",
       "      <td>47.000000</td>\n",
       "      <td>49.000000</td>\n",
       "    </tr>\n",
       "    <tr>\n",
       "      <th>mean</th>\n",
       "      <td>260.446809</td>\n",
       "      <td>136.265306</td>\n",
       "    </tr>\n",
       "    <tr>\n",
       "      <th>std</th>\n",
       "      <td>115.195827</td>\n",
       "      <td>49.262805</td>\n",
       "    </tr>\n",
       "    <tr>\n",
       "      <th>min</th>\n",
       "      <td>97.000000</td>\n",
       "      <td>46.000000</td>\n",
       "    </tr>\n",
       "    <tr>\n",
       "      <th>25%</th>\n",
       "      <td>140.000000</td>\n",
       "      <td>95.000000</td>\n",
       "    </tr>\n",
       "    <tr>\n",
       "      <th>50%</th>\n",
       "      <td>250.000000</td>\n",
       "      <td>130.000000</td>\n",
       "    </tr>\n",
       "    <tr>\n",
       "      <th>75%</th>\n",
       "      <td>350.000000</td>\n",
       "      <td>175.000000</td>\n",
       "    </tr>\n",
       "    <tr>\n",
       "      <th>max</th>\n",
       "      <td>455.000000</td>\n",
       "      <td>225.000000</td>\n",
       "    </tr>\n",
       "  </tbody>\n",
       "</table>\n",
       "</div>"
      ],
      "text/plain": [
       "       displacement  horsepower\n",
       "count     47.000000   49.000000\n",
       "mean     260.446809  136.265306\n",
       "std      115.195827   49.262805\n",
       "min       97.000000   46.000000\n",
       "25%      140.000000   95.000000\n",
       "50%      250.000000  130.000000\n",
       "75%      350.000000  175.000000\n",
       "max      455.000000  225.000000"
      ]
     },
     "execution_count": 106,
     "metadata": {},
     "output_type": "execute_result"
    }
   ],
   "source": [
    "df.describe()"
   ]
  },
  {
   "cell_type": "code",
   "execution_count": 107,
   "id": "02e3f462-c326-43ef-b3bc-1dfa0d71f4d6",
   "metadata": {},
   "outputs": [
    {
     "data": {
      "text/plain": [
       "0     130.000000\n",
       "1     165.000000\n",
       "2     150.000000\n",
       "3     150.000000\n",
       "4     140.000000\n",
       "5     198.000000\n",
       "6     220.000000\n",
       "7     215.000000\n",
       "8     225.000000\n",
       "9     190.000000\n",
       "10    170.000000\n",
       "11    160.000000\n",
       "12    150.000000\n",
       "13    225.000000\n",
       "14     95.000000\n",
       "15     95.000000\n",
       "16     97.000000\n",
       "17     85.000000\n",
       "18     88.000000\n",
       "19     46.000000\n",
       "20     87.000000\n",
       "21     90.000000\n",
       "22     95.000000\n",
       "23    113.000000\n",
       "24     90.000000\n",
       "25    215.000000\n",
       "26    200.000000\n",
       "27    210.000000\n",
       "28    193.000000\n",
       "29     88.000000\n",
       "30     90.000000\n",
       "31     95.000000\n",
       "32    136.265306\n",
       "33    100.000000\n",
       "34    105.000000\n",
       "35    100.000000\n",
       "36     88.000000\n",
       "37    100.000000\n",
       "38    165.000000\n",
       "39    175.000000\n",
       "40    153.000000\n",
       "41    150.000000\n",
       "42    180.000000\n",
       "43    170.000000\n",
       "44    175.000000\n",
       "45    110.000000\n",
       "46     72.000000\n",
       "47    100.000000\n",
       "48     88.000000\n",
       "49     86.000000\n",
       "Name: horsepower, dtype: float64"
      ]
     },
     "execution_count": 107,
     "metadata": {},
     "output_type": "execute_result"
    }
   ],
   "source": [
    "#df=df.fillna(260.446809)\n",
    "\n",
    "X = pd.DataFrame()\n",
    "Y = pd.DataFrame()\n",
    "\n",
    "X = df['displacement']\n",
    "Y = df['horsepower']\n",
    "\n",
    "X=X.fillna(260.446809)\n",
    "Y=Y.fillna(136.265306)\n",
    "X\n",
    "Y"
   ]
  },
  {
   "cell_type": "code",
   "execution_count": 108,
   "id": "e2ff3e1b-1d3e-43d2-b6d5-34b438908fb5",
   "metadata": {},
   "outputs": [
    {
     "data": {
      "image/png": "[encoded data removed]",
      "text/plain": [
       "<Figure size 640x480 with 1 Axes>"
      ]
     },
     "metadata": {},
     "output_type": "display_data"
    }
   ],
   "source": [
    "\n",
    "\n",
    "\n",
    "plt.scatter(X,Y) \n",
    "# Creating a scatter plot\n",
    "plt.scatter(X, Y, label=\"Scatter Plot\")\n",
    "\n",
    "# Adding labels and title\n",
    "plt.xlabel('displacement')\n",
    "plt.ylabel('horsepower')\n",
    "plt.title('Scatter Plot Example')\n",
    "\n",
    "# Showing legend\n",
    "plt.legend()\n",
    "\n",
    "# Display the plot\n",
    "plt.show()"
   ]
  },
  {
   "cell_type": "code",
   "execution_count": 109,
   "id": "5a09a801-b49c-4e15-bda4-2c626208c48a",
   "metadata": {},
   "outputs": [],
   "source": [
    "X_train=X.iloc[0:40]\n",
    "Y_train=Y.iloc[0:40]\n",
    "X_test=X.iloc[40:50]\n",
    "Y_test=Y.iloc[40:50]\n"
   ]
  },
  {
   "cell_type": "code",
   "execution_count": 110,
   "id": "1d2c397c-0287-43db-8dec-6f5f9c93c926",
   "metadata": {},
   "outputs": [
    {
     "data": {
      "text/plain": [
       "0"
      ]
     },
     "execution_count": 110,
     "metadata": {},
     "output_type": "execute_result"
    }
   ],
   "source": [
    "X_train.isnull().sum()"
   ]
  },
  {
   "cell_type": "code",
   "execution_count": 111,
   "id": "d1966621-4c74-4fb4-81b9-3e5b78338137",
   "metadata": {},
   "outputs": [
    {
     "data": {
      "text/plain": [
       "0     307.000000\n",
       "1     350.000000\n",
       "2     318.000000\n",
       "3     304.000000\n",
       "4     302.000000\n",
       "5     260.446809\n",
       "6     454.000000\n",
       "7     440.000000\n",
       "8     455.000000\n",
       "9     260.446809\n",
       "10    383.000000\n",
       "11    340.000000\n",
       "12    400.000000\n",
       "13    455.000000\n",
       "14    113.000000\n",
       "15    198.000000\n",
       "16    199.000000\n",
       "17    200.000000\n",
       "18     97.000000\n",
       "19     97.000000\n",
       "20    110.000000\n",
       "21    107.000000\n",
       "22    104.000000\n",
       "23    121.000000\n",
       "24    199.000000\n",
       "25    260.446809\n",
       "26    307.000000\n",
       "27    318.000000\n",
       "28    304.000000\n",
       "29     97.000000\n",
       "30    140.000000\n",
       "31    113.000000\n",
       "32     98.000000\n",
       "33    232.000000\n",
       "34    225.000000\n",
       "35    250.000000\n",
       "36    250.000000\n",
       "37    232.000000\n",
       "38    350.000000\n",
       "39    400.000000\n",
       "Name: displacement, dtype: float64"
      ]
     },
     "execution_count": 111,
     "metadata": {},
     "output_type": "execute_result"
    }
   ],
   "source": [
    "X_train"
   ]
  },
  {
   "cell_type": "code",
   "execution_count": 112,
   "id": "073387c8-e0a7-423c-8d9f-0ca947291e97",
   "metadata": {},
   "outputs": [
    {
     "data": {
      "text/plain": [
       "0     130.000000\n",
       "1     165.000000\n",
       "2     150.000000\n",
       "3     150.000000\n",
       "4     140.000000\n",
       "5     198.000000\n",
       "6     220.000000\n",
       "7     215.000000\n",
       "8     225.000000\n",
       "9     190.000000\n",
       "10    170.000000\n",
       "11    160.000000\n",
       "12    150.000000\n",
       "13    225.000000\n",
       "14     95.000000\n",
       "15     95.000000\n",
       "16     97.000000\n",
       "17     85.000000\n",
       "18     88.000000\n",
       "19     46.000000\n",
       "20     87.000000\n",
       "21     90.000000\n",
       "22     95.000000\n",
       "23    113.000000\n",
       "24     90.000000\n",
       "25    215.000000\n",
       "26    200.000000\n",
       "27    210.000000\n",
       "28    193.000000\n",
       "29     88.000000\n",
       "30     90.000000\n",
       "31     95.000000\n",
       "32    136.265306\n",
       "33    100.000000\n",
       "34    105.000000\n",
       "35    100.000000\n",
       "36     88.000000\n",
       "37    100.000000\n",
       "38    165.000000\n",
       "39    175.000000\n",
       "Name: horsepower, dtype: float64"
      ]
     },
     "execution_count": 112,
     "metadata": {},
     "output_type": "execute_result"
    }
   ],
   "source": [
    "Y_train"
   ]
  },
  {
   "cell_type": "code",
   "execution_count": 113,
   "id": "2b380677-fb7a-47d2-b643-268c91bbb16a",
   "metadata": {},
   "outputs": [],
   "source": [
    "X_train = X_train.values.reshape(-1, 1)\n",
    "Y_train = Y_train.values"
   ]
  },
  {
   "cell_type": "code",
   "execution_count": 114,
   "id": "2b22aea3-b83d-473a-ad29-3d0c0fa7da2c",
   "metadata": {},
   "outputs": [],
   "source": [
    "X_test= X_test.values.reshape(-1, 1)\n",
    "Y_test = Y_test.values"
   ]
  },
  {
   "cell_type": "code",
   "execution_count": 115,
   "id": "a0b96c4c-4344-41a3-8cce-a10b28e7c82c",
   "metadata": {},
   "outputs": [],
   "source": [
    "reg = LinearRegression().fit(X_train,Y_train)"
   ]
  },
  {
   "cell_type": "code",
   "execution_count": 116,
   "id": "d22f65e9-1d97-4f73-ad62-d3fa558d1286",
   "metadata": {},
   "outputs": [
    {
     "data": {
      "text/plain": [
       "array([130.      , 165.      , 150.      , 150.      , 140.      ,\n",
       "       198.      , 220.      , 215.      , 225.      , 190.      ,\n",
       "       170.      , 160.      , 150.      , 225.      ,  95.      ,\n",
       "        95.      ,  97.      ,  85.      ,  88.      ,  46.      ,\n",
       "        87.      ,  90.      ,  95.      , 113.      ,  90.      ,\n",
       "       215.      , 200.      , 210.      , 193.      ,  88.      ,\n",
       "        90.      ,  95.      , 136.265306, 100.      , 105.      ,\n",
       "       100.      ,  88.      , 100.      , 165.      , 175.      ])"
      ]
     },
     "execution_count": 116,
     "metadata": {},
     "output_type": "execute_result"
    }
   ],
   "source": [
    "Y_train"
   ]
  },
  {
   "cell_type": "code",
   "execution_count": 117,
   "id": "ef1ebf46-44d4-463d-9e03-25790357934c",
   "metadata": {},
   "outputs": [
    {
     "data": {
      "text/plain": [
       "0.6504398615133685"
      ]
     },
     "execution_count": 117,
     "metadata": {},
     "output_type": "execute_result"
    }
   ],
   "source": [
    "reg.score(X_train, Y_train)"
   ]
  },
  {
   "cell_type": "code",
   "execution_count": 142,
   "id": "abc14eca-b167-413d-a75f-328d63f6b389",
   "metadata": {},
   "outputs": [
    {
     "data": {
      "text/plain": [
       "array([173.04018986, 161.227512  , 184.49490779, 190.58022669,\n",
       "       190.58022669, 139.74991589,  97.51064354, 136.88623641,\n",
       "       136.88623641,  91.06736471])"
      ]
     },
     "execution_count": 142,
     "metadata": {},
     "output_type": "execute_result"
    }
   ],
   "source": [
    "Y_pred=reg.predict(X_test)\n",
    "from sklearn.metrics import mean_absolute_error,mean_squared_error,root_mean_squared_error,r2_score\n",
    "mean_absolute_error(Y_test, Y_pred)\n",
    "Y_pred"
   ]
  },
  {
   "cell_type": "code",
   "execution_count": 143,
   "id": "d412792f-5196-4afd-a712-9c6ce1aabf0e",
   "metadata": {},
   "outputs": [
    {
     "data": {
      "text/plain": [
       "652.6146787912909"
      ]
     },
     "execution_count": 143,
     "metadata": {},
     "output_type": "execute_result"
    }
   ],
   "source": [
    "mean_squared_error(Y_test, Y_pred)"
   ]
  },
  {
   "cell_type": "code",
   "execution_count": 144,
   "id": "8c6d0ece-6e25-419a-8c10-dc22c81b2afe",
   "metadata": {},
   "outputs": [
    {
     "data": {
      "text/plain": [
       "25.54632417376893"
      ]
     },
     "execution_count": 144,
     "metadata": {},
     "output_type": "execute_result"
    }
   ],
   "source": [
    "root_mean_squared_error(Y_test, Y_pred)"
   ]
  },
  {
   "cell_type": "code",
   "execution_count": 146,
   "id": "a6c15fd1-61f7-4656-a26b-e1a5a3608ca8",
   "metadata": {},
   "outputs": [
    {
     "data": {
      "text/plain": [
       "0.5760149951980906"
      ]
     },
     "execution_count": 146,
     "metadata": {},
     "output_type": "execute_result"
    }
   ],
   "source": [
    "r2=r2_score(Y_test, Y_pred)\n",
    "r2"
   ]
  },
  {
   "cell_type": "code",
   "execution_count": 148,
   "id": "98e31a72-90f5-4cb1-8d55-dfd7ac12bff9",
   "metadata": {},
   "outputs": [
    {
     "data": {
      "text/plain": [
       "0.523016869597852"
      ]
     },
     "execution_count": 148,
     "metadata": {},
     "output_type": "execute_result"
    }
   ],
   "source": [
    "adj=1-(1-r2)*(10-1)/(10-1-1)\n",
    "adj"
   ]
  },
  {
   "cell_type": "code",
   "execution_count": 119,
   "id": "6187b849-b332-47e8-910c-420c6e0fdd95",
   "metadata": {},
   "outputs": [
    {
     "ename": "NameError",
     "evalue": "name 'data_no' is not defined",
     "output_type": "error",
     "traceback": [
      "\u001b[1;31m---------------------------------------------------------------------------\u001b[0m",
      "\u001b[1;31mNameError\u001b[0m                                 Traceback (most recent call last)",
      "Cell \u001b[1;32mIn[119], line 1\u001b[0m\n\u001b[1;32m----> 1\u001b[0m \u001b[43mdata_no\u001b[49m\u001b[38;5;241m.\u001b[39misnull()\u001b[38;5;241m.\u001b[39msum()\n",
      "\u001b[1;31mNameError\u001b[0m: name 'data_no' is not defined"
     ]
    }
   ],
   "source": [
    "data_no.isnull().sum()"
   ]
  },
  {
   "cell_type": "code",
   "execution_count": null,
   "id": "fbbb0c55-3a04-4484-b5cd-6b591cd590fe",
   "metadata": {},
   "outputs": [],
   "source": []
  },
  {
   "cell_type": "code",
   "execution_count": 120,
   "id": "9af20713-9629-4124-bd3f-70d541fe5b5f",
   "metadata": {},
   "outputs": [
    {
     "ename": "NameError",
     "evalue": "name 'data_no' is not defined",
     "output_type": "error",
     "traceback": [
      "\u001b[1;31m---------------------------------------------------------------------------\u001b[0m",
      "\u001b[1;31mNameError\u001b[0m                                 Traceback (most recent call last)",
      "Cell \u001b[1;32mIn[120], line 1\u001b[0m\n\u001b[1;32m----> 1\u001b[0m \u001b[43mdata_no\u001b[49m\n",
      "\u001b[1;31mNameError\u001b[0m: name 'data_no' is not defined"
     ]
    }
   ],
   "source": [
    "data_no\n"
   ]
  },
  {
   "cell_type": "code",
   "execution_count": 121,
   "id": "cc93ad12-d8d6-4be2-a3d2-bfc2ec26c6e5",
   "metadata": {
    "scrolled": true
   },
   "outputs": [
    {
     "ename": "NameError",
     "evalue": "name 'data_no' is not defined",
     "output_type": "error",
     "traceback": [
      "\u001b[1;31m---------------------------------------------------------------------------\u001b[0m",
      "\u001b[1;31mNameError\u001b[0m                                 Traceback (most recent call last)",
      "Cell \u001b[1;32mIn[121], line 1\u001b[0m\n\u001b[1;32m----> 1\u001b[0m \u001b[43mdata_no\u001b[49m\u001b[38;5;241m.\u001b[39minfo()\n",
      "\u001b[1;31mNameError\u001b[0m: name 'data_no' is not defined"
     ]
    }
   ],
   "source": [
    "data_no.info()"
   ]
  },
  {
   "cell_type": "code",
   "execution_count": 122,
   "id": "1940df35-8c7c-4bda-a248-c6126e56272b",
   "metadata": {},
   "outputs": [
    {
     "ename": "NameError",
     "evalue": "name 'data_no' is not defined",
     "output_type": "error",
     "traceback": [
      "\u001b[1;31m---------------------------------------------------------------------------\u001b[0m",
      "\u001b[1;31mNameError\u001b[0m                                 Traceback (most recent call last)",
      "Cell \u001b[1;32mIn[122], line 1\u001b[0m\n\u001b[1;32m----> 1\u001b[0m data_new\u001b[38;5;241m=\u001b[39m\u001b[43mdata_no\u001b[49m[\u001b[38;5;124m'\u001b[39m\u001b[38;5;124mhorsepower\u001b[39m\u001b[38;5;124m'\u001b[39m]\u001b[38;5;241m.\u001b[39mfillna(value\u001b[38;5;241m=\u001b[39m\u001b[38;5;241m999\u001b[39m)  \u001b[38;5;66;03m#here i have directly change the col nullv with 999\u001b[39;00m\n",
      "\u001b[1;31mNameError\u001b[0m: name 'data_no' is not defined"
     ]
    }
   ],
   "source": [
    "data_new=data_no['horsepower'].fillna(value=999)  #here i have directly change the col nullv with 999"
   ]
  },
  {
   "cell_type": "code",
   "execution_count": 123,
   "id": "982a3703-f31b-4de9-acf9-97c8ec1cd660",
   "metadata": {},
   "outputs": [
    {
     "ename": "NameError",
     "evalue": "name 'data_new' is not defined",
     "output_type": "error",
     "traceback": [
      "\u001b[1;31m---------------------------------------------------------------------------\u001b[0m",
      "\u001b[1;31mNameError\u001b[0m                                 Traceback (most recent call last)",
      "Cell \u001b[1;32mIn[123], line 1\u001b[0m\n\u001b[1;32m----> 1\u001b[0m \u001b[43mdata_new\u001b[49m\n",
      "\u001b[1;31mNameError\u001b[0m: name 'data_new' is not defined"
     ]
    }
   ],
   "source": [
    "data_new"
   ]
  },
  {
   "cell_type": "code",
   "execution_count": 124,
   "id": "9c12bbe1-26cb-4189-ae63-9d54db784dc1",
   "metadata": {},
   "outputs": [
    {
     "ename": "NameError",
     "evalue": "name 'data_no' is not defined",
     "output_type": "error",
     "traceback": [
      "\u001b[1;31m---------------------------------------------------------------------------\u001b[0m",
      "\u001b[1;31mNameError\u001b[0m                                 Traceback (most recent call last)",
      "Cell \u001b[1;32mIn[124], line 1\u001b[0m\n\u001b[1;32m----> 1\u001b[0m \u001b[43mdata_no\u001b[49m\u001b[38;5;241m.\u001b[39mdescribe()  \u001b[38;5;66;03m#by this we can set the null value to it respective col mean...\u001b[39;00m\n",
      "\u001b[1;31mNameError\u001b[0m: name 'data_no' is not defined"
     ]
    }
   ],
   "source": [
    "data_no.describe()  #by this we can set the null value to it respective col mean..."
   ]
  },
  {
   "cell_type": "code",
   "execution_count": 125,
   "id": "cd8268e6-ab3e-43ca-b27e-85baa1998068",
   "metadata": {},
   "outputs": [
    {
     "ename": "NameError",
     "evalue": "name 'data_no' is not defined",
     "output_type": "error",
     "traceback": [
      "\u001b[1;31m---------------------------------------------------------------------------\u001b[0m",
      "\u001b[1;31mNameError\u001b[0m                                 Traceback (most recent call last)",
      "Cell \u001b[1;32mIn[125], line 1\u001b[0m\n\u001b[1;32m----> 1\u001b[0m data_new1\u001b[38;5;241m=\u001b[39m\u001b[43mdata_no\u001b[49m[\u001b[38;5;124m'\u001b[39m\u001b[38;5;124mhorsepower\u001b[39m\u001b[38;5;124m'\u001b[39m]\u001b[38;5;241m.\u001b[39mfillna(value\u001b[38;5;241m=\u001b[39m\u001b[38;5;241m104.524297\u001b[39m)\n",
      "\u001b[1;31mNameError\u001b[0m: name 'data_no' is not defined"
     ]
    }
   ],
   "source": [
    "data_new1=data_no['horsepower'].fillna(value=104.524297)"
   ]
  },
  {
   "cell_type": "code",
   "execution_count": 126,
   "id": "2d950086-db10-4115-ba2c-a9b92aed7133",
   "metadata": {},
   "outputs": [
    {
     "ename": "NameError",
     "evalue": "name 'data_no' is not defined",
     "output_type": "error",
     "traceback": [
      "\u001b[1;31m---------------------------------------------------------------------------\u001b[0m",
      "\u001b[1;31mNameError\u001b[0m                                 Traceback (most recent call last)",
      "Cell \u001b[1;32mIn[126], line 1\u001b[0m\n\u001b[1;32m----> 1\u001b[0m data_new1\u001b[38;5;241m=\u001b[39m\u001b[43mdata_no\u001b[49m[\u001b[38;5;124m'\u001b[39m\u001b[38;5;124mdisplacement\u001b[39m\u001b[38;5;124m'\u001b[39m]\u001b[38;5;241m.\u001b[39mfillna(value\u001b[38;5;241m=\u001b[39m\u001b[38;5;241m192.393130\u001b[39m)\n",
      "\u001b[1;31mNameError\u001b[0m: name 'data_no' is not defined"
     ]
    }
   ],
   "source": [
    "data_new1=data_no['displacement'].fillna(value=192.393130)"
   ]
  },
  {
   "cell_type": "code",
   "execution_count": 127,
   "id": "89ba7aae-f81b-4003-827b-c5fc898eb72f",
   "metadata": {},
   "outputs": [
    {
     "ename": "NameError",
     "evalue": "name 'data_no' is not defined",
     "output_type": "error",
     "traceback": [
      "\u001b[1;31m---------------------------------------------------------------------------\u001b[0m",
      "\u001b[1;31mNameError\u001b[0m                                 Traceback (most recent call last)",
      "Cell \u001b[1;32mIn[127], line 1\u001b[0m\n\u001b[1;32m----> 1\u001b[0m data_new1\u001b[38;5;241m=\u001b[39m\u001b[43mdata_no\u001b[49m[\u001b[38;5;124m'\u001b[39m\u001b[38;5;124mweight\u001b[39m\u001b[38;5;124m'\u001b[39m]\u001b[38;5;241m.\u001b[39mfillna(value\u001b[38;5;241m=\u001b[39m\u001b[38;5;241m2949.053435\u001b[39m)\n",
      "\u001b[1;31mNameError\u001b[0m: name 'data_no' is not defined"
     ]
    }
   ],
   "source": [
    "data_new1=data_no['weight'].fillna(value=2949.053435)"
   ]
  },
  {
   "cell_type": "code",
   "execution_count": 128,
   "id": "fc158897-97b7-47ef-ad5e-50c546b5b0d1",
   "metadata": {},
   "outputs": [],
   "source": [
    "#data_no=data_no.fillna(value=104.469388)"
   ]
  },
  {
   "cell_type": "code",
   "execution_count": 129,
   "id": "e97724bc-9ecb-4d28-84c8-ffc8d54c5df5",
   "metadata": {},
   "outputs": [
    {
     "ename": "NameError",
     "evalue": "name 'data_new1' is not defined",
     "output_type": "error",
     "traceback": [
      "\u001b[1;31m---------------------------------------------------------------------------\u001b[0m",
      "\u001b[1;31mNameError\u001b[0m                                 Traceback (most recent call last)",
      "Cell \u001b[1;32mIn[129], line 1\u001b[0m\n\u001b[1;32m----> 1\u001b[0m \u001b[43mdata_new1\u001b[49m    \u001b[38;5;66;03m# how to append all value once\u001b[39;00m\n",
      "\u001b[1;31mNameError\u001b[0m: name 'data_new1' is not defined"
     ]
    }
   ],
   "source": [
    "data_new1    # how to append all value once"
   ]
  },
  {
   "cell_type": "code",
   "execution_count": 130,
   "id": "b04438f3-a9cb-4818-9df9-4e9a028aa8cc",
   "metadata": {},
   "outputs": [
    {
     "ename": "NameError",
     "evalue": "name 'data_no' is not defined",
     "output_type": "error",
     "traceback": [
      "\u001b[1;31m---------------------------------------------------------------------------\u001b[0m",
      "\u001b[1;31mNameError\u001b[0m                                 Traceback (most recent call last)",
      "Cell \u001b[1;32mIn[130], line 1\u001b[0m\n\u001b[1;32m----> 1\u001b[0m data_new2\u001b[38;5;241m=\u001b[39m\u001b[43mdata_no\u001b[49m\u001b[38;5;241m.\u001b[39mfillna(value\u001b[38;5;241m=\u001b[39m\u001b[38;5;241m192.393130\u001b[39m)\n",
      "\u001b[1;31mNameError\u001b[0m: name 'data_no' is not defined"
     ]
    }
   ],
   "source": [
    "data_new2=data_no.fillna(value=192.393130)"
   ]
  },
  {
   "cell_type": "code",
   "execution_count": 131,
   "id": "0077ad63-11d9-4f86-8a8b-a4d4a61d8e8a",
   "metadata": {
    "scrolled": true
   },
   "outputs": [
    {
     "ename": "NameError",
     "evalue": "name 'data_new2' is not defined",
     "output_type": "error",
     "traceback": [
      "\u001b[1;31m---------------------------------------------------------------------------\u001b[0m",
      "\u001b[1;31mNameError\u001b[0m                                 Traceback (most recent call last)",
      "Cell \u001b[1;32mIn[131], line 1\u001b[0m\n\u001b[1;32m----> 1\u001b[0m \u001b[43mdata_new2\u001b[49m\n",
      "\u001b[1;31mNameError\u001b[0m: name 'data_new2' is not defined"
     ]
    }
   ],
   "source": [
    "data_new2"
   ]
  },
  {
   "cell_type": "code",
   "execution_count": 132,
   "id": "d45a5639-5e3a-40fd-8a47-809be813c8eb",
   "metadata": {},
   "outputs": [
    {
     "ename": "NameError",
     "evalue": "name 'data_new2' is not defined",
     "output_type": "error",
     "traceback": [
      "\u001b[1;31m---------------------------------------------------------------------------\u001b[0m",
      "\u001b[1;31mNameError\u001b[0m                                 Traceback (most recent call last)",
      "Cell \u001b[1;32mIn[132], line 1\u001b[0m\n\u001b[1;32m----> 1\u001b[0m \u001b[43mdata_new2\u001b[49m\u001b[38;5;241m.\u001b[39misnull()\u001b[38;5;241m.\u001b[39msum()\n",
      "\u001b[1;31mNameError\u001b[0m: name 'data_new2' is not defined"
     ]
    }
   ],
   "source": [
    "data_new2.isnull().sum()"
   ]
  },
  {
   "cell_type": "markdown",
   "id": "791a7ca5-88ff-4396-b376-cc84729dbae1",
   "metadata": {},
   "source": [
    "# using imputer"
   ]
  },
  {
   "cell_type": "code",
   "execution_count": 133,
   "id": "53b8eb49-f98d-4fd2-9127-278fa7fd282d",
   "metadata": {},
   "outputs": [
    {
     "ename": "NameError",
     "evalue": "name 'data_no' is not defined",
     "output_type": "error",
     "traceback": [
      "\u001b[1;31m---------------------------------------------------------------------------\u001b[0m",
      "\u001b[1;31mNameError\u001b[0m                                 Traceback (most recent call last)",
      "Cell \u001b[1;32mIn[133], line 1\u001b[0m\n\u001b[1;32m----> 1\u001b[0m data_new3 \u001b[38;5;241m=\u001b[39m \u001b[43mdata_no\u001b[49m\u001b[38;5;241m.\u001b[39miloc[:\u001b[38;5;241m15\u001b[39m,:]\n",
      "\u001b[1;31mNameError\u001b[0m: name 'data_no' is not defined"
     ]
    }
   ],
   "source": [
    "data_new3 = data_no.iloc[:15,:]"
   ]
  },
  {
   "cell_type": "code",
   "execution_count": 134,
   "id": "9fa1f648-3056-4b67-928f-f788dd16a6b8",
   "metadata": {},
   "outputs": [
    {
     "data": {
      "text/plain": [
       "['mpg']"
      ]
     },
     "execution_count": 134,
     "metadata": {},
     "output_type": "execute_result"
    }
   ],
   "source": [
    "X=['mpg']\n",
    "Y=['cylinders']\n",
    "X"
   ]
  },
  {
   "cell_type": "code",
   "execution_count": 135,
   "id": "8c4c4e98-9e92-404d-9cfa-ac58bfa3b108",
   "metadata": {},
   "outputs": [
    {
     "ename": "NameError",
     "evalue": "name 'data_new3' is not defined",
     "output_type": "error",
     "traceback": [
      "\u001b[1;31m---------------------------------------------------------------------------\u001b[0m",
      "\u001b[1;31mNameError\u001b[0m                                 Traceback (most recent call last)",
      "Cell \u001b[1;32mIn[135], line 1\u001b[0m\n\u001b[1;32m----> 1\u001b[0m \u001b[43mdata_new3\u001b[49m[X]\n\u001b[0;32m      2\u001b[0m plt\u001b[38;5;241m.\u001b[39mscatter(X,Y) \n",
      "\u001b[1;31mNameError\u001b[0m: name 'data_new3' is not defined"
     ]
    }
   ],
   "source": [
    "data_new3[X]\n",
    "plt.scatter(X,Y) "
   ]
  },
  {
   "cell_type": "code",
   "execution_count": 136,
   "id": "0a9d3198-bd65-422c-9e2e-81187edc5143",
   "metadata": {},
   "outputs": [],
   "source": [
    "from sklearn.impute import SimpleImputer\n",
    "import numpy as np"
   ]
  },
  {
   "cell_type": "code",
   "execution_count": 137,
   "id": "324e9f3f-067b-481e-876d-bc510de0adc0",
   "metadata": {},
   "outputs": [],
   "source": [
    "imputer = SimpleImputer(missing_values=np.nan, strategy='mean')"
   ]
  },
  {
   "cell_type": "code",
   "execution_count": 138,
   "id": "f61a5465-5d89-461d-8c9a-d56ca7bd7b26",
   "metadata": {},
   "outputs": [
    {
     "ename": "ValueError",
     "evalue": "Cannot use mean strategy with non-numeric data:\ncould not convert string to float: 'mpg'",
     "output_type": "error",
     "traceback": [
      "\u001b[1;31m---------------------------------------------------------------------------\u001b[0m",
      "\u001b[1;31mValueError\u001b[0m                                Traceback (most recent call last)",
      "Cell \u001b[1;32mIn[138], line 1\u001b[0m\n\u001b[1;32m----> 1\u001b[0m car_NaN_handle \u001b[38;5;241m=\u001b[39m \u001b[43mimputer\u001b[49m\u001b[38;5;241;43m.\u001b[39;49m\u001b[43mfit_transform\u001b[49m\u001b[43m(\u001b[49m\u001b[43mX\u001b[49m\u001b[43m)\u001b[49m\n",
      "File \u001b[1;32m~\\AppData\\Local\\Programs\\Python\\Python311\\Lib\\site-packages\\sklearn\\utils\\_set_output.py:295\u001b[0m, in \u001b[0;36m_wrap_method_output.<locals>.wrapped\u001b[1;34m(self, X, *args, **kwargs)\u001b[0m\n\u001b[0;32m    293\u001b[0m \u001b[38;5;129m@wraps\u001b[39m(f)\n\u001b[0;32m    294\u001b[0m \u001b[38;5;28;01mdef\u001b[39;00m \u001b[38;5;21mwrapped\u001b[39m(\u001b[38;5;28mself\u001b[39m, X, \u001b[38;5;241m*\u001b[39margs, \u001b[38;5;241m*\u001b[39m\u001b[38;5;241m*\u001b[39mkwargs):\n\u001b[1;32m--> 295\u001b[0m     data_to_wrap \u001b[38;5;241m=\u001b[39m \u001b[43mf\u001b[49m\u001b[43m(\u001b[49m\u001b[38;5;28;43mself\u001b[39;49m\u001b[43m,\u001b[49m\u001b[43m \u001b[49m\u001b[43mX\u001b[49m\u001b[43m,\u001b[49m\u001b[43m \u001b[49m\u001b[38;5;241;43m*\u001b[39;49m\u001b[43margs\u001b[49m\u001b[43m,\u001b[49m\u001b[43m \u001b[49m\u001b[38;5;241;43m*\u001b[39;49m\u001b[38;5;241;43m*\u001b[39;49m\u001b[43mkwargs\u001b[49m\u001b[43m)\u001b[49m\n\u001b[0;32m    296\u001b[0m     \u001b[38;5;28;01mif\u001b[39;00m \u001b[38;5;28misinstance\u001b[39m(data_to_wrap, \u001b[38;5;28mtuple\u001b[39m):\n\u001b[0;32m    297\u001b[0m         \u001b[38;5;66;03m# only wrap the first output for cross decomposition\u001b[39;00m\n\u001b[0;32m    298\u001b[0m         return_tuple \u001b[38;5;241m=\u001b[39m (\n\u001b[0;32m    299\u001b[0m             _wrap_data_with_container(method, data_to_wrap[\u001b[38;5;241m0\u001b[39m], X, \u001b[38;5;28mself\u001b[39m),\n\u001b[0;32m    300\u001b[0m             \u001b[38;5;241m*\u001b[39mdata_to_wrap[\u001b[38;5;241m1\u001b[39m:],\n\u001b[0;32m    301\u001b[0m         )\n",
      "File \u001b[1;32m~\\AppData\\Local\\Programs\\Python\\Python311\\Lib\\site-packages\\sklearn\\base.py:1098\u001b[0m, in \u001b[0;36mTransformerMixin.fit_transform\u001b[1;34m(self, X, y, **fit_params)\u001b[0m\n\u001b[0;32m   1083\u001b[0m         warnings\u001b[38;5;241m.\u001b[39mwarn(\n\u001b[0;32m   1084\u001b[0m             (\n\u001b[0;32m   1085\u001b[0m                 \u001b[38;5;124mf\u001b[39m\u001b[38;5;124m\"\u001b[39m\u001b[38;5;124mThis object (\u001b[39m\u001b[38;5;132;01m{\u001b[39;00m\u001b[38;5;28mself\u001b[39m\u001b[38;5;241m.\u001b[39m\u001b[38;5;18m__class__\u001b[39m\u001b[38;5;241m.\u001b[39m\u001b[38;5;18m__name__\u001b[39m\u001b[38;5;132;01m}\u001b[39;00m\u001b[38;5;124m) has a `transform`\u001b[39m\u001b[38;5;124m\"\u001b[39m\n\u001b[1;32m   (...)\u001b[0m\n\u001b[0;32m   1093\u001b[0m             \u001b[38;5;167;01mUserWarning\u001b[39;00m,\n\u001b[0;32m   1094\u001b[0m         )\n\u001b[0;32m   1096\u001b[0m \u001b[38;5;28;01mif\u001b[39;00m y \u001b[38;5;129;01mis\u001b[39;00m \u001b[38;5;28;01mNone\u001b[39;00m:\n\u001b[0;32m   1097\u001b[0m     \u001b[38;5;66;03m# fit method of arity 1 (unsupervised transformation)\u001b[39;00m\n\u001b[1;32m-> 1098\u001b[0m     \u001b[38;5;28;01mreturn\u001b[39;00m \u001b[38;5;28;43mself\u001b[39;49m\u001b[38;5;241;43m.\u001b[39;49m\u001b[43mfit\u001b[49m\u001b[43m(\u001b[49m\u001b[43mX\u001b[49m\u001b[43m,\u001b[49m\u001b[43m \u001b[49m\u001b[38;5;241;43m*\u001b[39;49m\u001b[38;5;241;43m*\u001b[39;49m\u001b[43mfit_params\u001b[49m\u001b[43m)\u001b[49m\u001b[38;5;241m.\u001b[39mtransform(X)\n\u001b[0;32m   1099\u001b[0m \u001b[38;5;28;01melse\u001b[39;00m:\n\u001b[0;32m   1100\u001b[0m     \u001b[38;5;66;03m# fit method of arity 2 (supervised transformation)\u001b[39;00m\n\u001b[0;32m   1101\u001b[0m     \u001b[38;5;28;01mreturn\u001b[39;00m \u001b[38;5;28mself\u001b[39m\u001b[38;5;241m.\u001b[39mfit(X, y, \u001b[38;5;241m*\u001b[39m\u001b[38;5;241m*\u001b[39mfit_params)\u001b[38;5;241m.\u001b[39mtransform(X)\n",
      "File \u001b[1;32m~\\AppData\\Local\\Programs\\Python\\Python311\\Lib\\site-packages\\sklearn\\base.py:1474\u001b[0m, in \u001b[0;36m_fit_context.<locals>.decorator.<locals>.wrapper\u001b[1;34m(estimator, *args, **kwargs)\u001b[0m\n\u001b[0;32m   1467\u001b[0m     estimator\u001b[38;5;241m.\u001b[39m_validate_params()\n\u001b[0;32m   1469\u001b[0m \u001b[38;5;28;01mwith\u001b[39;00m config_context(\n\u001b[0;32m   1470\u001b[0m     skip_parameter_validation\u001b[38;5;241m=\u001b[39m(\n\u001b[0;32m   1471\u001b[0m         prefer_skip_nested_validation \u001b[38;5;129;01mor\u001b[39;00m global_skip_validation\n\u001b[0;32m   1472\u001b[0m     )\n\u001b[0;32m   1473\u001b[0m ):\n\u001b[1;32m-> 1474\u001b[0m     \u001b[38;5;28;01mreturn\u001b[39;00m \u001b[43mfit_method\u001b[49m\u001b[43m(\u001b[49m\u001b[43mestimator\u001b[49m\u001b[43m,\u001b[49m\u001b[43m \u001b[49m\u001b[38;5;241;43m*\u001b[39;49m\u001b[43margs\u001b[49m\u001b[43m,\u001b[49m\u001b[43m \u001b[49m\u001b[38;5;241;43m*\u001b[39;49m\u001b[38;5;241;43m*\u001b[39;49m\u001b[43mkwargs\u001b[49m\u001b[43m)\u001b[49m\n",
      "File \u001b[1;32m~\\AppData\\Local\\Programs\\Python\\Python311\\Lib\\site-packages\\sklearn\\impute\\_base.py:410\u001b[0m, in \u001b[0;36mSimpleImputer.fit\u001b[1;34m(self, X, y)\u001b[0m\n\u001b[0;32m    392\u001b[0m \u001b[38;5;129m@_fit_context\u001b[39m(prefer_skip_nested_validation\u001b[38;5;241m=\u001b[39m\u001b[38;5;28;01mTrue\u001b[39;00m)\n\u001b[0;32m    393\u001b[0m \u001b[38;5;28;01mdef\u001b[39;00m \u001b[38;5;21mfit\u001b[39m(\u001b[38;5;28mself\u001b[39m, X, y\u001b[38;5;241m=\u001b[39m\u001b[38;5;28;01mNone\u001b[39;00m):\n\u001b[0;32m    394\u001b[0m \u001b[38;5;250m    \u001b[39m\u001b[38;5;124;03m\"\"\"Fit the imputer on `X`.\u001b[39;00m\n\u001b[0;32m    395\u001b[0m \n\u001b[0;32m    396\u001b[0m \u001b[38;5;124;03m    Parameters\u001b[39;00m\n\u001b[1;32m   (...)\u001b[0m\n\u001b[0;32m    408\u001b[0m \u001b[38;5;124;03m        Fitted estimator.\u001b[39;00m\n\u001b[0;32m    409\u001b[0m \u001b[38;5;124;03m    \"\"\"\u001b[39;00m\n\u001b[1;32m--> 410\u001b[0m     X \u001b[38;5;241m=\u001b[39m \u001b[38;5;28;43mself\u001b[39;49m\u001b[38;5;241;43m.\u001b[39;49m\u001b[43m_validate_input\u001b[49m\u001b[43m(\u001b[49m\u001b[43mX\u001b[49m\u001b[43m,\u001b[49m\u001b[43m \u001b[49m\u001b[43min_fit\u001b[49m\u001b[38;5;241;43m=\u001b[39;49m\u001b[38;5;28;43;01mTrue\u001b[39;49;00m\u001b[43m)\u001b[49m\n\u001b[0;32m    412\u001b[0m     \u001b[38;5;66;03m# default fill_value is 0 for numerical input and \"missing_value\"\u001b[39;00m\n\u001b[0;32m    413\u001b[0m     \u001b[38;5;66;03m# otherwise\u001b[39;00m\n\u001b[0;32m    414\u001b[0m     \u001b[38;5;28;01mif\u001b[39;00m \u001b[38;5;28mself\u001b[39m\u001b[38;5;241m.\u001b[39mfill_value \u001b[38;5;129;01mis\u001b[39;00m \u001b[38;5;28;01mNone\u001b[39;00m:\n",
      "File \u001b[1;32m~\\AppData\\Local\\Programs\\Python\\Python311\\Lib\\site-packages\\sklearn\\impute\\_base.py:337\u001b[0m, in \u001b[0;36mSimpleImputer._validate_input\u001b[1;34m(self, X, in_fit)\u001b[0m\n\u001b[0;32m    331\u001b[0m \u001b[38;5;28;01mif\u001b[39;00m \u001b[38;5;124m\"\u001b[39m\u001b[38;5;124mcould not convert\u001b[39m\u001b[38;5;124m\"\u001b[39m \u001b[38;5;129;01min\u001b[39;00m \u001b[38;5;28mstr\u001b[39m(ve):\n\u001b[0;32m    332\u001b[0m     new_ve \u001b[38;5;241m=\u001b[39m \u001b[38;5;167;01mValueError\u001b[39;00m(\n\u001b[0;32m    333\u001b[0m         \u001b[38;5;124m\"\u001b[39m\u001b[38;5;124mCannot use \u001b[39m\u001b[38;5;132;01m{}\u001b[39;00m\u001b[38;5;124m strategy with non-numeric data:\u001b[39m\u001b[38;5;130;01m\\n\u001b[39;00m\u001b[38;5;132;01m{}\u001b[39;00m\u001b[38;5;124m\"\u001b[39m\u001b[38;5;241m.\u001b[39mformat(\n\u001b[0;32m    334\u001b[0m             \u001b[38;5;28mself\u001b[39m\u001b[38;5;241m.\u001b[39mstrategy, ve\n\u001b[0;32m    335\u001b[0m         )\n\u001b[0;32m    336\u001b[0m     )\n\u001b[1;32m--> 337\u001b[0m     \u001b[38;5;28;01mraise\u001b[39;00m new_ve \u001b[38;5;28;01mfrom\u001b[39;00m \u001b[38;5;28;01mNone\u001b[39;00m\n\u001b[0;32m    338\u001b[0m \u001b[38;5;28;01melse\u001b[39;00m:\n\u001b[0;32m    339\u001b[0m     \u001b[38;5;28;01mraise\u001b[39;00m ve\n",
      "\u001b[1;31mValueError\u001b[0m: Cannot use mean strategy with non-numeric data:\ncould not convert string to float: 'mpg'"
     ]
    }
   ],
   "source": [
    "car_NaN_handle = imputer.fit_transform(X)"
   ]
  },
  {
   "cell_type": "code",
   "execution_count": 63,
   "id": "3fcbdd58-6645-468f-8da2-85746221ccf4",
   "metadata": {},
   "outputs": [],
   "source": [
    "import pandas as pd\n",
    "import numpy as np\n",
    "\n",
    "import matplotlib.pyplot as plt\n",
    "from sklearn.linear_model import LinearRegression"
   ]
  },
  {
   "cell_type": "code",
   "execution_count": 64,
   "id": "e5cf1ec9-dcb2-48c0-8c50-96725bed6c64",
   "metadata": {},
   "outputs": [],
   "source": [
    "#data_no=pd.read_csv('Automobile.csv')\n",
    "#df = pd.DataFrame()\n",
    "d = pd.read_csv(\"Automobile.csv\")"
   ]
  },
  {
   "cell_type": "code",
   "execution_count": 65,
   "id": "585c148f-560e-403b-8f51-9fd1dbe6ab79",
   "metadata": {
    "scrolled": true
   },
   "outputs": [
    {
     "data": {
      "text/plain": [
       "name            0\n",
       "mpg             1\n",
       "cylinders       1\n",
       "displacement    5\n",
       "horsepower      7\n",
       "weight          5\n",
       "acceleration    2\n",
       "model_year      2\n",
       "origin          1\n",
       "dtype: int64"
      ]
     },
     "execution_count": 65,
     "metadata": {},
     "output_type": "execute_result"
    }
   ],
   "source": [
    "d.isnull().sum()"
   ]
  },
  {
   "cell_type": "code",
   "execution_count": 66,
   "id": "c6fcb9e6-dbcd-49d5-9fff-baa922b12492",
   "metadata": {},
   "outputs": [
    {
     "data": {
      "text/html": [
       "<div>\n",
       "<style scoped>\n",
       "    .dataframe tbody tr th:only-of-type {\n",
       "        vertical-align: middle;\n",
       "    }\n",
       "\n",
       "    .dataframe tbody tr th {\n",
       "        vertical-align: top;\n",
       "    }\n",
       "\n",
       "    .dataframe thead th {\n",
       "        text-align: right;\n",
       "    }\n",
       "</style>\n",
       "<table border=\"1\" class=\"dataframe\">\n",
       "  <thead>\n",
       "    <tr style=\"text-align: right;\">\n",
       "      <th></th>\n",
       "      <th>mpg</th>\n",
       "      <th>cylinders</th>\n",
       "      <th>displacement</th>\n",
       "      <th>horsepower</th>\n",
       "      <th>weight</th>\n",
       "      <th>acceleration</th>\n",
       "    </tr>\n",
       "  </thead>\n",
       "  <tbody>\n",
       "    <tr>\n",
       "      <th>count</th>\n",
       "      <td>397.000000</td>\n",
       "      <td>397.000000</td>\n",
       "      <td>393.000000</td>\n",
       "      <td>391.000000</td>\n",
       "      <td>393.000000</td>\n",
       "      <td>396.000000</td>\n",
       "    </tr>\n",
       "    <tr>\n",
       "      <th>mean</th>\n",
       "      <td>23.538539</td>\n",
       "      <td>5.458438</td>\n",
       "      <td>192.393130</td>\n",
       "      <td>104.524297</td>\n",
       "      <td>2949.053435</td>\n",
       "      <td>15.671970</td>\n",
       "    </tr>\n",
       "    <tr>\n",
       "      <th>std</th>\n",
       "      <td>7.811191</td>\n",
       "      <td>1.701577</td>\n",
       "      <td>103.205814</td>\n",
       "      <td>38.525101</td>\n",
       "      <td>851.576054</td>\n",
       "      <td>3.961926</td>\n",
       "    </tr>\n",
       "    <tr>\n",
       "      <th>min</th>\n",
       "      <td>9.000000</td>\n",
       "      <td>3.000000</td>\n",
       "      <td>68.000000</td>\n",
       "      <td>46.000000</td>\n",
       "      <td>15.000000</td>\n",
       "      <td>0.500000</td>\n",
       "    </tr>\n",
       "    <tr>\n",
       "      <th>25%</th>\n",
       "      <td>17.500000</td>\n",
       "      <td>4.000000</td>\n",
       "      <td>105.000000</td>\n",
       "      <td>75.000000</td>\n",
       "      <td>2220.000000</td>\n",
       "      <td>13.775000</td>\n",
       "    </tr>\n",
       "    <tr>\n",
       "      <th>50%</th>\n",
       "      <td>23.000000</td>\n",
       "      <td>4.000000</td>\n",
       "      <td>146.000000</td>\n",
       "      <td>94.000000</td>\n",
       "      <td>2790.000000</td>\n",
       "      <td>15.500000</td>\n",
       "    </tr>\n",
       "    <tr>\n",
       "      <th>75%</th>\n",
       "      <td>29.000000</td>\n",
       "      <td>8.000000</td>\n",
       "      <td>260.000000</td>\n",
       "      <td>127.000000</td>\n",
       "      <td>3570.000000</td>\n",
       "      <td>17.225000</td>\n",
       "    </tr>\n",
       "    <tr>\n",
       "      <th>max</th>\n",
       "      <td>46.600000</td>\n",
       "      <td>8.000000</td>\n",
       "      <td>455.000000</td>\n",
       "      <td>230.000000</td>\n",
       "      <td>5140.000000</td>\n",
       "      <td>70.000000</td>\n",
       "    </tr>\n",
       "  </tbody>\n",
       "</table>\n",
       "</div>"
      ],
      "text/plain": [
       "              mpg   cylinders  displacement  horsepower       weight  \\\n",
       "count  397.000000  397.000000    393.000000  391.000000   393.000000   \n",
       "mean    23.538539    5.458438    192.393130  104.524297  2949.053435   \n",
       "std      7.811191    1.701577    103.205814   38.525101   851.576054   \n",
       "min      9.000000    3.000000     68.000000   46.000000    15.000000   \n",
       "25%     17.500000    4.000000    105.000000   75.000000  2220.000000   \n",
       "50%     23.000000    4.000000    146.000000   94.000000  2790.000000   \n",
       "75%     29.000000    8.000000    260.000000  127.000000  3570.000000   \n",
       "max     46.600000    8.000000    455.000000  230.000000  5140.000000   \n",
       "\n",
       "       acceleration  \n",
       "count    396.000000  \n",
       "mean      15.671970  \n",
       "std        3.961926  \n",
       "min        0.500000  \n",
       "25%       13.775000  \n",
       "50%       15.500000  \n",
       "75%       17.225000  \n",
       "max       70.000000  "
      ]
     },
     "execution_count": 66,
     "metadata": {},
     "output_type": "execute_result"
    }
   ],
   "source": [
    "d.describe()\n"
   ]
  },
  {
   "cell_type": "code",
   "execution_count": 67,
   "id": "0e540cce-2a9e-4eb6-a8f7-c7a28576021c",
   "metadata": {},
   "outputs": [],
   "source": [
    "X = d.iloc[:,2:4]\n",
    "Y = d.iloc[:,4:5]"
   ]
  },
  {
   "cell_type": "code",
   "execution_count": 68,
   "id": "83e7d2d3-d206-4795-8b14-44e3a70283b0",
   "metadata": {},
   "outputs": [
    {
     "data": {
      "text/plain": [
       "cylinders       1\n",
       "displacement    5\n",
       "dtype: int64"
      ]
     },
     "execution_count": 68,
     "metadata": {},
     "output_type": "execute_result"
    }
   ],
   "source": [
    "X.isnull().sum()"
   ]
  },
  {
   "cell_type": "code",
   "execution_count": 69,
   "id": "bb4bd5c2-f001-4b55-99c3-687238deaeb1",
   "metadata": {},
   "outputs": [
    {
     "data": {
      "text/plain": [
       "horsepower    7\n",
       "dtype: int64"
      ]
     },
     "execution_count": 69,
     "metadata": {},
     "output_type": "execute_result"
    }
   ],
   "source": [
    "Y.isnull().sum()"
   ]
  },
  {
   "cell_type": "code",
   "execution_count": 70,
   "id": "9abb457c-850a-487a-8ea8-dd79fff5c648",
   "metadata": {},
   "outputs": [],
   "source": [
    "\n",
    "# Replace null values in the 'cylinders' column with a specific value\n",
    "X['cylinders'] = X['cylinders'].fillna(value=5.458438)\n",
    "\n",
    "# Replace null values in the 'displacement' column with a different value\n",
    "X['displacement'] = X['displacement'].fillna(value=192.393130)"
   ]
  },
  {
   "cell_type": "code",
   "execution_count": 71,
   "id": "0c5b07a8-efae-4c86-8900-9222919238ec",
   "metadata": {},
   "outputs": [],
   "source": [
    "Y=Y.fillna(104.524297)"
   ]
  },
  {
   "cell_type": "code",
   "execution_count": 72,
   "id": "ab384885-efee-449e-9690-433bad186c09",
   "metadata": {},
   "outputs": [
    {
     "data": {
      "text/plain": [
       "cylinders       0\n",
       "displacement    0\n",
       "dtype: int64"
      ]
     },
     "execution_count": 72,
     "metadata": {},
     "output_type": "execute_result"
    }
   ],
   "source": [
    "X.isnull().sum()"
   ]
  },
  {
   "cell_type": "code",
   "execution_count": 73,
   "id": "f13586f5-9399-4696-ace4-4e1765bcba24",
   "metadata": {},
   "outputs": [
    {
     "data": {
      "text/plain": [
       "(398, 2)"
      ]
     },
     "execution_count": 73,
     "metadata": {},
     "output_type": "execute_result"
    }
   ],
   "source": [
    "X.shape"
   ]
  },
  {
   "cell_type": "code",
   "execution_count": 74,
   "id": "404182dc-c762-4da3-acac-00bcba6495a4",
   "metadata": {},
   "outputs": [
    {
     "data": {
      "text/plain": [
       "(398, 1)"
      ]
     },
     "execution_count": 74,
     "metadata": {},
     "output_type": "execute_result"
    }
   ],
   "source": [
    "Y.shape"
   ]
  },
  {
   "cell_type": "code",
   "execution_count": 84,
   "id": "5bbaaf3a-474b-47b4-88c7-b35c950dcbb1",
   "metadata": {},
   "outputs": [],
   "source": [
    "from sklearn.model_selection import train_test_split\n",
    "X_train, X_test, Y_train, Y_test = train_test_split(X, Y, test_size=0.4, random_state=2)"
   ]
  },
  {
   "cell_type": "code",
   "execution_count": 85,
   "id": "82facc0b-6a16-4885-aa2e-b6548f58faa5",
   "metadata": {},
   "outputs": [
    {
     "data": {
      "text/plain": [
       "(160, 2)"
      ]
     },
     "execution_count": 85,
     "metadata": {},
     "output_type": "execute_result"
    }
   ],
   "source": [
    "X_test.shape"
   ]
  },
  {
   "cell_type": "code",
   "execution_count": null,
   "id": "ce47ab69-9c86-4e57-901b-ff5f4971ed82",
   "metadata": {},
   "outputs": [],
   "source": []
  },
  {
   "cell_type": "code",
   "execution_count": 86,
   "id": "f3d1ddac-3e33-47d5-af5b-b0a9b2b5f618",
   "metadata": {},
   "outputs": [
    {
     "data": {
      "text/html": [
       "<div>\n",
       "<style scoped>\n",
       "    .dataframe tbody tr th:only-of-type {\n",
       "        vertical-align: middle;\n",
       "    }\n",
       "\n",
       "    .dataframe tbody tr th {\n",
       "        vertical-align: top;\n",
       "    }\n",
       "\n",
       "    .dataframe thead th {\n",
       "        text-align: right;\n",
       "    }\n",
       "</style>\n",
       "<table border=\"1\" class=\"dataframe\">\n",
       "  <thead>\n",
       "    <tr style=\"text-align: right;\">\n",
       "      <th></th>\n",
       "      <th>horsepower</th>\n",
       "    </tr>\n",
       "  </thead>\n",
       "  <tbody>\n",
       "    <tr>\n",
       "      <th>111</th>\n",
       "      <td>90.000000</td>\n",
       "    </tr>\n",
       "    <tr>\n",
       "      <th>301</th>\n",
       "      <td>70.000000</td>\n",
       "    </tr>\n",
       "    <tr>\n",
       "      <th>389</th>\n",
       "      <td>112.000000</td>\n",
       "    </tr>\n",
       "    <tr>\n",
       "      <th>54</th>\n",
       "      <td>69.000000</td>\n",
       "    </tr>\n",
       "    <tr>\n",
       "      <th>4</th>\n",
       "      <td>140.000000</td>\n",
       "    </tr>\n",
       "    <tr>\n",
       "      <th>...</th>\n",
       "      <td>...</td>\n",
       "    </tr>\n",
       "    <tr>\n",
       "      <th>299</th>\n",
       "      <td>71.000000</td>\n",
       "    </tr>\n",
       "    <tr>\n",
       "      <th>22</th>\n",
       "      <td>95.000000</td>\n",
       "    </tr>\n",
       "    <tr>\n",
       "      <th>72</th>\n",
       "      <td>150.000000</td>\n",
       "    </tr>\n",
       "    <tr>\n",
       "      <th>15</th>\n",
       "      <td>95.000000</td>\n",
       "    </tr>\n",
       "    <tr>\n",
       "      <th>168</th>\n",
       "      <td>104.524297</td>\n",
       "    </tr>\n",
       "  </tbody>\n",
       "</table>\n",
       "<p>238 rows × 1 columns</p>\n",
       "</div>"
      ],
      "text/plain": [
       "     horsepower\n",
       "111   90.000000\n",
       "301   70.000000\n",
       "389  112.000000\n",
       "54    69.000000\n",
       "4    140.000000\n",
       "..          ...\n",
       "299   71.000000\n",
       "22    95.000000\n",
       "72   150.000000\n",
       "15    95.000000\n",
       "168  104.524297\n",
       "\n",
       "[238 rows x 1 columns]"
      ]
     },
     "execution_count": 86,
     "metadata": {},
     "output_type": "execute_result"
    }
   ],
   "source": [
    "Y_train"
   ]
  },
  {
   "cell_type": "code",
   "execution_count": 94,
   "id": "e4707e9b-20f1-451b-b63f-6e06438d0337",
   "metadata": {},
   "outputs": [
    {
     "data": {
      "text/plain": [
       "<matplotlib.collections.PathCollection at 0x1b3c59db2d0>"
      ]
     },
     "execution_count": 94,
     "metadata": {},
     "output_type": "execute_result"
    },
    {
     "data": {
      "image/png": "[encoded data removed]",
      "text/plain": [
       "<Figure size 640x480 with 1 Axes>"
      ]
     },
     "metadata": {},
     "output_type": "display_data"
    }
   ],
   "source": [
    "from sklearn import linear_model\n",
    "lr = linear_model.LinearRegression()\n",
    "lr.fit(X_train,Y_train)\n",
    "Y_pred = lr.predict(X_test)\n",
    "Y_pred\n",
    "plt.scatter(Y_test,Y_pred)"
   ]
  },
  {
   "cell_type": "code",
   "execution_count": 97,
   "id": "4bf37d39-0b1c-4d57-8a2f-6789fc31a25e",
   "metadata": {},
   "outputs": [
    {
     "data": {
      "image/png": "[encoded data removed]",
      "text/plain": [
       "<Figure size 640x480 with 1 Axes>"
      ]
     },
     "metadata": {},
     "output_type": "display_data"
    }
   ],
   "source": [
    "# Plotting the scatter plot\n",
    "plt.scatter(Y_test, Y_pred, color='blue', label='Testing data')\n",
    "\n",
    "# Plotting the regression line with predicted values\n",
    "plt.plot(Y_test, Y_pred, color='red', linewidth=2, label='Predicted Line')\n",
    "\n",
    "plt.xlabel('X-axis label')\n",
    "plt.ylabel('Y-axis label')\n",
    "plt.title('Scatter plot with Regression Line')\n",
    "\n",
    "plt.legend()\n",
    "\n",
    "plt.show()\n"
   ]
  },
  {
   "cell_type": "code",
   "execution_count": 103,
   "id": "f252094e-bfbd-400e-bb4f-22963d4ddfe5",
   "metadata": {},
   "outputs": [
    {
     "data": {
      "text/plain": [
       "<matplotlib.colorbar.Colorbar at 0x1b3c82a4e50>"
      ]
     },
     "execution_count": 103,
     "metadata": {},
     "output_type": "execute_result"
    },
    {
     "data": {
      "image/png": "[encoded data removed]",
      "text/plain": [
       "<Figure size 640x480 with 2 Axes>"
      ]
     },
     "metadata": {},
     "output_type": "display_data"
    }
   ],
   "source": [
    "plt.scatter(df['cylinders'], df['displacement'], c=df['horsepower'], cmap='viridis', marker='o')\n",
    "plt.colorbar(label='Horsepower')\n"
   ]
  },
  {
   "cell_type": "code",
   "execution_count": 104,
   "id": "e330c9f8-37dc-404f-b5b8-b3ee5b07dfc8",
   "metadata": {},
   "outputs": [
    {
     "data": {
      "image/png": "[encoded data removed]",
      "text/plain": [
       "<Figure size 640x480 with 1 Axes>"
      ]
     },
     "metadata": {},
     "output_type": "display_data"
    }
   ],
   "source": [
    "import matplotlib.pyplot as plt\n",
    "import pandas as pd\n",
    "\n",
    "# Assuming X is your DataFrame with columns 'cylinder' and 'displacement' and null values replaced\n",
    "\n",
    "# Scatter plot\n",
    "plt.scatter(X['cylinders'], X['displacement'])\n",
    "plt.xlabel('Cylinders')\n",
    "plt.ylabel('Displacement')\n",
    "plt.title('Scatter Plot of Cylinders vs Displacement')\n",
    "plt.show()\n"
   ]
  },
  {
   "cell_type": "code",
   "execution_count": null,
   "id": "23c48007-d5dc-468e-b9fb-644038a608a8",
   "metadata": {},
   "outputs": [],
   "source": []
  },
  {
   "cell_type": "code",
   "execution_count": 105,
   "id": "f9c290a3-e509-49ac-aa84-63dfb6ac46da",
   "metadata": {},
   "outputs": [
    {
     "data": {
      "image/png": "[encoded data removed]",
      "text/plain": [
       "<Figure size 640x480 with 2 Axes>"
      ]
     },
     "metadata": {},
     "output_type": "display_data"
    }
   ],
   "source": [
    "import pandas as pd\n",
    "import matplotlib.pyplot as plt\n",
    "\n",
    "# Assuming X and Y are your DataFrames with the specified columns\n",
    "# Replace null values in X\n",
    "# X['cylinders'] = X['cylinders'].fillna(value=some_value_for_nulls_in_cylinder)\n",
    "# X['displacement'] = X['displacement'].fillna(value=some_value_for_nulls_in_displacement)\n",
    "\n",
    "# Combine X and Y into a single DataFrame\n",
    "df = pd.concat([X, Y], axis=1)\n",
    "\n",
    "# Plotting a scatter plot\n",
    "plt.scatter(df['cylinders'], df['displacement'], c=df['horsepower'], cmap='viridis', marker='o')\n",
    "plt.xlabel('Cylinders')\n",
    "plt.ylabel('Displacement')\n",
    "plt.title('Scatter Plot: Cylinders vs. Displacement colored by Horsepower')\n",
    "plt.colorbar(label='Horsepower')\n",
    "plt.show()\n"
   ]
  },
  {
   "cell_type": "code",
   "execution_count": 106,
   "id": "28f2930e-91c1-41f3-9165-e0e7753d9fbd",
   "metadata": {},
   "outputs": [
    {
     "name": "stdout",
     "output_type": "stream",
     "text": [
      "R-squared (R2) score: 0.6622328701192026\n"
     ]
    },
    {
     "data": {
      "image/png": "[encoded data removed]",
      "text/plain": [
       "<Figure size 640x480 with 1 Axes>"
      ]
     },
     "metadata": {},
     "output_type": "display_data"
    }
   ],
   "source": [
    "import pandas as pd\n",
    "from sklearn.model_selection import train_test_split\n",
    "from sklearn.linear_model import LinearRegression\n",
    "from sklearn.metrics import r2_score\n",
    "import matplotlib.pyplot as plt\n",
    "\n",
    "# Assuming X and Y are your DataFrames with the specified columns\n",
    "# # Replace null values in X\n",
    "# X['cylinders'] = X['cylinders'].fillna(value=some_value_for_nulls_in_cylinder)\n",
    "# X['displacement'] = X['displacement'].fillna(value=some_value_for_nulls_in_displacement)\n",
    "# Y = Y.fillna(value=some_value_for_nulls_in_Y)\n",
    "\n",
    "# Combine X and Y into a single DataFrame\n",
    "# df = pd.concat([X, Y], axis=1)\n",
    "\n",
    "# Split the data into training and testing sets\n",
    "X_train, X_test, Y_train, Y_test = train_test_split(X, Y, test_size=0.2, random_state=42)\n",
    "\n",
    "# Create a linear regression model\n",
    "model = LinearRegression()\n",
    "\n",
    "# Fit the model to the training data\n",
    "model.fit(X_train, Y_train)\n",
    "\n",
    "# Predict the values on the test set\n",
    "Y_pred = model.predict(X_test)\n",
    "\n",
    "# Calculate the R-squared (R2) score\n",
    "r2 = r2_score(Y_test, Y_pred)\n",
    "print(f'R-squared (R2) score: {r2}')\n",
    "\n",
    "# Plotting the actual vs. predicted values\n",
    "plt.scatter(Y_test, Y_pred)\n",
    "plt.xlabel('Actual Horsepower')\n",
    "plt.ylabel('Predicted Horsepower')\n",
    "plt.title('Actual vs. Predicted Horsepower using Linear Regression')\n",
    "plt.show()\n"
   ]
  },
  {
   "cell_type": "code",
   "execution_count": 107,
   "id": "b2ba7e0c-01f5-46e1-98c1-7f7337464c97",
   "metadata": {},
   "outputs": [],
   "source": [
    "df = pd.concat([X, Y], axis=1)\n"
   ]
  },
  {
   "cell_type": "code",
   "execution_count": 108,
   "id": "3dffd0dd-622c-41e7-97f0-b9adc7823f47",
   "metadata": {},
   "outputs": [
    {
     "data": {
      "text/html": [
       "<div>\n",
       "<style scoped>\n",
       "    .dataframe tbody tr th:only-of-type {\n",
       "        vertical-align: middle;\n",
       "    }\n",
       "\n",
       "    .dataframe tbody tr th {\n",
       "        vertical-align: top;\n",
       "    }\n",
       "\n",
       "    .dataframe thead th {\n",
       "        text-align: right;\n",
       "    }\n",
       "</style>\n",
       "<table border=\"1\" class=\"dataframe\">\n",
       "  <thead>\n",
       "    <tr style=\"text-align: right;\">\n",
       "      <th></th>\n",
       "      <th>cylinders</th>\n",
       "      <th>displacement</th>\n",
       "      <th>horsepower</th>\n",
       "    </tr>\n",
       "  </thead>\n",
       "  <tbody>\n",
       "    <tr>\n",
       "      <th>0</th>\n",
       "      <td>8.0</td>\n",
       "      <td>307.0</td>\n",
       "      <td>130.0</td>\n",
       "    </tr>\n",
       "    <tr>\n",
       "      <th>1</th>\n",
       "      <td>8.0</td>\n",
       "      <td>350.0</td>\n",
       "      <td>165.0</td>\n",
       "    </tr>\n",
       "    <tr>\n",
       "      <th>2</th>\n",
       "      <td>8.0</td>\n",
       "      <td>318.0</td>\n",
       "      <td>150.0</td>\n",
       "    </tr>\n",
       "    <tr>\n",
       "      <th>3</th>\n",
       "      <td>8.0</td>\n",
       "      <td>304.0</td>\n",
       "      <td>150.0</td>\n",
       "    </tr>\n",
       "    <tr>\n",
       "      <th>4</th>\n",
       "      <td>8.0</td>\n",
       "      <td>302.0</td>\n",
       "      <td>140.0</td>\n",
       "    </tr>\n",
       "    <tr>\n",
       "      <th>...</th>\n",
       "      <td>...</td>\n",
       "      <td>...</td>\n",
       "      <td>...</td>\n",
       "    </tr>\n",
       "    <tr>\n",
       "      <th>393</th>\n",
       "      <td>4.0</td>\n",
       "      <td>140.0</td>\n",
       "      <td>86.0</td>\n",
       "    </tr>\n",
       "    <tr>\n",
       "      <th>394</th>\n",
       "      <td>4.0</td>\n",
       "      <td>97.0</td>\n",
       "      <td>52.0</td>\n",
       "    </tr>\n",
       "    <tr>\n",
       "      <th>395</th>\n",
       "      <td>4.0</td>\n",
       "      <td>135.0</td>\n",
       "      <td>84.0</td>\n",
       "    </tr>\n",
       "    <tr>\n",
       "      <th>396</th>\n",
       "      <td>4.0</td>\n",
       "      <td>120.0</td>\n",
       "      <td>79.0</td>\n",
       "    </tr>\n",
       "    <tr>\n",
       "      <th>397</th>\n",
       "      <td>4.0</td>\n",
       "      <td>119.0</td>\n",
       "      <td>82.0</td>\n",
       "    </tr>\n",
       "  </tbody>\n",
       "</table>\n",
       "<p>398 rows × 3 columns</p>\n",
       "</div>"
      ],
      "text/plain": [
       "     cylinders  displacement  horsepower\n",
       "0          8.0         307.0       130.0\n",
       "1          8.0         350.0       165.0\n",
       "2          8.0         318.0       150.0\n",
       "3          8.0         304.0       150.0\n",
       "4          8.0         302.0       140.0\n",
       "..         ...           ...         ...\n",
       "393        4.0         140.0        86.0\n",
       "394        4.0          97.0        52.0\n",
       "395        4.0         135.0        84.0\n",
       "396        4.0         120.0        79.0\n",
       "397        4.0         119.0        82.0\n",
       "\n",
       "[398 rows x 3 columns]"
      ]
     },
     "execution_count": 108,
     "metadata": {},
     "output_type": "execute_result"
    }
   ],
   "source": [
    "df"
   ]
  },
  {
   "cell_type": "code",
   "execution_count": 110,
   "id": "d1129f10-82f2-4968-b605-9a4f338b8999",
   "metadata": {},
   "outputs": [
    {
     "ename": "ModuleNotFoundError",
     "evalue": "No module named 'seaborn'",
     "output_type": "error",
     "traceback": [
      "\u001b[1;31m---------------------------------------------------------------------------\u001b[0m",
      "\u001b[1;31mModuleNotFoundError\u001b[0m                       Traceback (most recent call last)",
      "Cell \u001b[1;32mIn[110], line 1\u001b[0m\n\u001b[1;32m----> 1\u001b[0m \u001b[38;5;28;01mimport\u001b[39;00m \u001b[38;5;21;01mseaborn\u001b[39;00m \u001b[38;5;28;01mas\u001b[39;00m \u001b[38;5;21;01msns\u001b[39;00m\n\u001b[0;32m      2\u001b[0m \u001b[38;5;28;01mimport\u001b[39;00m \u001b[38;5;21;01mpandas\u001b[39;00m \u001b[38;5;28;01mas\u001b[39;00m \u001b[38;5;21;01mpd\u001b[39;00m\n\u001b[0;32m      4\u001b[0m \u001b[38;5;66;03m# Assuming df is your DataFrame with multiple independent variables and one dependent variable\u001b[39;00m\n",
      "\u001b[1;31mModuleNotFoundError\u001b[0m: No module named 'seaborn'"
     ]
    }
   ],
   "source": [
    "import seaborn as sns\n",
    "import pandas as pd\n",
    "\n",
    "# Assuming df is your DataFrame with multiple independent variables and one dependent variable\n",
    "sns.pairplot(df, x_vars=['independent_var1', 'independent_var2', 'independent_var3'], y_vars='dependent_var', kind='scatter')\n",
    "plt.show()\n"
   ]
  },
  {
   "cell_type": "code",
   "execution_count": null,
   "id": "69c06c07-53a9-4fe5-9930-e69b1c3e574e",
   "metadata": {},
   "outputs": [],
   "source": []
  }
 ],
 "metadata": {
  "kernelspec": {
   "display_name": "Python 3 (ipykernel)",
   "language": "python",
   "name": "python3"
  },
  "language_info": {
   "codemirror_mode": {
    "name": "ipython",
    "version": 3
   },
   "file_extension": ".py",
   "mimetype": "text/x-python",
   "name": "python",
   "nbconvert_exporter": "python",
   "pygments_lexer": "ipython3",
   "version": "3.11.4"
  }
 },
 "nbformat": 4,
 "nbformat_minor": 5
}
