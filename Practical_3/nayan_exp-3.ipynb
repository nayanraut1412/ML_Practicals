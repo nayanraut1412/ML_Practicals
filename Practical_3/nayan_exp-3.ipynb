{
 "cells": [
  {
   "cell_type": "markdown",
   "metadata": {},
   "source": [
    "#   Aim: Implement linear regression in Python on a given dataset."
   ]
  },
  {
   "cell_type": "code",
   "execution_count": 2,
   "metadata": {},
   "outputs": [
    {
     "name": "stderr",
     "output_type": "stream",
     "text": [
      "C:\\Users\\nayan\\AppData\\Local\\Temp\\ipykernel_2876\\2785943950.py:1: DeprecationWarning: \n",
      "Pyarrow will become a required dependency of pandas in the next major release of pandas (pandas 3.0),\n",
      "(to allow more performant data types, such as the Arrow string type, and better interoperability with other libraries)\n",
      "but was not found to be installed on your system.\n",
      "If this would cause problems for you,\n",
      "please provide us feedback at https://github.com/pandas-dev/pandas/issues/54466\n",
      "        \n",
      "  import pandas as pd\n"
     ]
    }
   ],
   "source": [
    "import pandas as pd\n",
    "import numpy as np\n",
    "\n",
    "import matplotlib.pyplot as plt\n",
    "from sklearn.linear_model import LinearRegression"
   ]
  },
  {
   "cell_type": "code",
   "execution_count": 3,
   "metadata": {},
   "outputs": [],
   "source": [
    "#data_no=pd.read_csv('Automobile.csv')\n",
    "#df = pd.DataFrame()\n",
    "d = pd.read_csv(\"Automobile.csv\")"
   ]
  },
  {
   "cell_type": "code",
   "execution_count": 4,
   "metadata": {},
   "outputs": [
    {
     "data": {
      "text/html": [
       "<div>\n",
       "<style scoped>\n",
       "    .dataframe tbody tr th:only-of-type {\n",
       "        vertical-align: middle;\n",
       "    }\n",
       "\n",
       "    .dataframe tbody tr th {\n",
       "        vertical-align: top;\n",
       "    }\n",
       "\n",
       "    .dataframe thead th {\n",
       "        text-align: right;\n",
       "    }\n",
       "</style>\n",
       "<table border=\"1\" class=\"dataframe\">\n",
       "  <thead>\n",
       "    <tr style=\"text-align: right;\">\n",
       "      <th></th>\n",
       "      <th>name</th>\n",
       "      <th>mpg</th>\n",
       "      <th>cylinders</th>\n",
       "      <th>displacement</th>\n",
       "      <th>horsepower</th>\n",
       "      <th>weight</th>\n",
       "      <th>acceleration</th>\n",
       "      <th>model_year</th>\n",
       "      <th>origin</th>\n",
       "    </tr>\n",
       "  </thead>\n",
       "  <tbody>\n",
       "    <tr>\n",
       "      <th>0</th>\n",
       "      <td>chevrolet chevelle malibu</td>\n",
       "      <td>18.0</td>\n",
       "      <td>8.0</td>\n",
       "      <td>307.0</td>\n",
       "      <td>130.0</td>\n",
       "      <td>3504.0</td>\n",
       "      <td>12.0</td>\n",
       "      <td>70</td>\n",
       "      <td>usa</td>\n",
       "    </tr>\n",
       "    <tr>\n",
       "      <th>1</th>\n",
       "      <td>buick skylark 320</td>\n",
       "      <td>15.0</td>\n",
       "      <td>8.0</td>\n",
       "      <td>350.0</td>\n",
       "      <td>165.0</td>\n",
       "      <td>3693.0</td>\n",
       "      <td>11.5</td>\n",
       "      <td>70</td>\n",
       "      <td>usa</td>\n",
       "    </tr>\n",
       "    <tr>\n",
       "      <th>2</th>\n",
       "      <td>plymouth satellite</td>\n",
       "      <td>18.0</td>\n",
       "      <td>8.0</td>\n",
       "      <td>318.0</td>\n",
       "      <td>150.0</td>\n",
       "      <td>3436.0</td>\n",
       "      <td>11.0</td>\n",
       "      <td>70</td>\n",
       "      <td>usa</td>\n",
       "    </tr>\n",
       "    <tr>\n",
       "      <th>3</th>\n",
       "      <td>amc rebel sst</td>\n",
       "      <td>16.0</td>\n",
       "      <td>8.0</td>\n",
       "      <td>304.0</td>\n",
       "      <td>150.0</td>\n",
       "      <td>3433.0</td>\n",
       "      <td>12.0</td>\n",
       "      <td>70</td>\n",
       "      <td>usa</td>\n",
       "    </tr>\n",
       "    <tr>\n",
       "      <th>4</th>\n",
       "      <td>ford torino</td>\n",
       "      <td>17.0</td>\n",
       "      <td>8.0</td>\n",
       "      <td>302.0</td>\n",
       "      <td>140.0</td>\n",
       "      <td>3449.0</td>\n",
       "      <td>10.5</td>\n",
       "      <td>70</td>\n",
       "      <td>usa</td>\n",
       "    </tr>\n",
       "    <tr>\n",
       "      <th>...</th>\n",
       "      <td>...</td>\n",
       "      <td>...</td>\n",
       "      <td>...</td>\n",
       "      <td>...</td>\n",
       "      <td>...</td>\n",
       "      <td>...</td>\n",
       "      <td>...</td>\n",
       "      <td>...</td>\n",
       "      <td>...</td>\n",
       "    </tr>\n",
       "    <tr>\n",
       "      <th>393</th>\n",
       "      <td>ford mustang gl</td>\n",
       "      <td>27.0</td>\n",
       "      <td>4.0</td>\n",
       "      <td>140.0</td>\n",
       "      <td>86.0</td>\n",
       "      <td>2790.0</td>\n",
       "      <td>15.6</td>\n",
       "      <td>82</td>\n",
       "      <td>usa</td>\n",
       "    </tr>\n",
       "    <tr>\n",
       "      <th>394</th>\n",
       "      <td>vw pickup</td>\n",
       "      <td>44.0</td>\n",
       "      <td>4.0</td>\n",
       "      <td>97.0</td>\n",
       "      <td>52.0</td>\n",
       "      <td>2130.0</td>\n",
       "      <td>24.6</td>\n",
       "      <td>82</td>\n",
       "      <td>europe</td>\n",
       "    </tr>\n",
       "    <tr>\n",
       "      <th>395</th>\n",
       "      <td>dodge rampage</td>\n",
       "      <td>32.0</td>\n",
       "      <td>4.0</td>\n",
       "      <td>135.0</td>\n",
       "      <td>84.0</td>\n",
       "      <td>2295.0</td>\n",
       "      <td>11.6</td>\n",
       "      <td>82</td>\n",
       "      <td>usa</td>\n",
       "    </tr>\n",
       "    <tr>\n",
       "      <th>396</th>\n",
       "      <td>ford ranger</td>\n",
       "      <td>28.0</td>\n",
       "      <td>4.0</td>\n",
       "      <td>120.0</td>\n",
       "      <td>79.0</td>\n",
       "      <td>2625.0</td>\n",
       "      <td>18.6</td>\n",
       "      <td>82</td>\n",
       "      <td>usa</td>\n",
       "    </tr>\n",
       "    <tr>\n",
       "      <th>397</th>\n",
       "      <td>chevy s-10</td>\n",
       "      <td>31.0</td>\n",
       "      <td>4.0</td>\n",
       "      <td>119.0</td>\n",
       "      <td>82.0</td>\n",
       "      <td>2720.0</td>\n",
       "      <td>19.4</td>\n",
       "      <td>82</td>\n",
       "      <td>usa</td>\n",
       "    </tr>\n",
       "  </tbody>\n",
       "</table>\n",
       "<p>398 rows × 9 columns</p>\n",
       "</div>"
      ],
      "text/plain": [
       "                          name   mpg  cylinders  displacement  horsepower  \\\n",
       "0    chevrolet chevelle malibu  18.0        8.0         307.0       130.0   \n",
       "1            buick skylark 320  15.0        8.0         350.0       165.0   \n",
       "2           plymouth satellite  18.0        8.0         318.0       150.0   \n",
       "3                amc rebel sst  16.0        8.0         304.0       150.0   \n",
       "4                  ford torino  17.0        8.0         302.0       140.0   \n",
       "..                         ...   ...        ...           ...         ...   \n",
       "393            ford mustang gl  27.0        4.0         140.0        86.0   \n",
       "394                  vw pickup  44.0        4.0          97.0        52.0   \n",
       "395              dodge rampage  32.0        4.0         135.0        84.0   \n",
       "396                ford ranger  28.0        4.0         120.0        79.0   \n",
       "397                 chevy s-10  31.0        4.0         119.0        82.0   \n",
       "\n",
       "     weight  acceleration model_year  origin  \n",
       "0    3504.0          12.0         70     usa  \n",
       "1    3693.0          11.5         70     usa  \n",
       "2    3436.0          11.0         70     usa  \n",
       "3    3433.0          12.0         70     usa  \n",
       "4    3449.0          10.5         70     usa  \n",
       "..      ...           ...        ...     ...  \n",
       "393  2790.0          15.6         82     usa  \n",
       "394  2130.0          24.6         82  europe  \n",
       "395  2295.0          11.6         82     usa  \n",
       "396  2625.0          18.6         82     usa  \n",
       "397  2720.0          19.4         82     usa  \n",
       "\n",
       "[398 rows x 9 columns]"
      ]
     },
     "execution_count": 4,
     "metadata": {},
     "output_type": "execute_result"
    }
   ],
   "source": [
    "d"
   ]
  },
  {
   "cell_type": "code",
   "execution_count": 5,
   "metadata": {},
   "outputs": [
    {
     "data": {
      "text/plain": [
       "name            0\n",
       "mpg             1\n",
       "cylinders       1\n",
       "displacement    5\n",
       "horsepower      7\n",
       "weight          5\n",
       "acceleration    2\n",
       "model_year      2\n",
       "origin          1\n",
       "dtype: int64"
      ]
     },
     "execution_count": 5,
     "metadata": {},
     "output_type": "execute_result"
    }
   ],
   "source": [
    "d.isnull().sum()"
   ]
  },
  {
   "cell_type": "code",
   "execution_count": 6,
   "metadata": {},
   "outputs": [],
   "source": [
    "X = d.iloc[:,3:4]\n",
    "Y = d.iloc[:,4:5]"
   ]
  },
  {
   "cell_type": "code",
   "execution_count": 7,
   "metadata": {},
   "outputs": [],
   "source": [
    "X=X.fillna(192.393130)\n",
    "Y=Y.fillna(104.524297)"
   ]
  },
  {
   "cell_type": "code",
   "execution_count": 8,
   "metadata": {},
   "outputs": [
    {
     "data": {
      "text/plain": [
       "(398, 1)"
      ]
     },
     "execution_count": 8,
     "metadata": {},
     "output_type": "execute_result"
    }
   ],
   "source": [
    "Y.shape"
   ]
  },
  {
   "cell_type": "code",
   "execution_count": 9,
   "metadata": {},
   "outputs": [
    {
     "data": {
      "text/plain": [
       "(398, 1)"
      ]
     },
     "execution_count": 9,
     "metadata": {},
     "output_type": "execute_result"
    }
   ],
   "source": [
    "X.shape\n"
   ]
  },
  {
   "cell_type": "code",
   "execution_count": 10,
   "metadata": {},
   "outputs": [],
   "source": [
    "from sklearn.model_selection import train_test_split\n",
    "X_train, X_test, Y_train, Y_test = train_test_split(X, Y, test_size=0.4, random_state=2)"
   ]
  },
  {
   "cell_type": "code",
   "execution_count": 11,
   "metadata": {},
   "outputs": [
    {
     "data": {
      "text/plain": [
       "(160, 1)"
      ]
     },
     "execution_count": 11,
     "metadata": {},
     "output_type": "execute_result"
    }
   ],
   "source": [
    "Y_test.shape"
   ]
  },
  {
   "cell_type": "code",
   "execution_count": 12,
   "metadata": {},
   "outputs": [
    {
     "data": {
      "text/html": [
       "<div>\n",
       "<style scoped>\n",
       "    .dataframe tbody tr th:only-of-type {\n",
       "        vertical-align: middle;\n",
       "    }\n",
       "\n",
       "    .dataframe tbody tr th {\n",
       "        vertical-align: top;\n",
       "    }\n",
       "\n",
       "    .dataframe thead th {\n",
       "        text-align: right;\n",
       "    }\n",
       "</style>\n",
       "<table border=\"1\" class=\"dataframe\">\n",
       "  <thead>\n",
       "    <tr style=\"text-align: right;\">\n",
       "      <th></th>\n",
       "      <th>displacement</th>\n",
       "    </tr>\n",
       "  </thead>\n",
       "  <tbody>\n",
       "    <tr>\n",
       "      <th>94</th>\n",
       "      <td>440.0</td>\n",
       "    </tr>\n",
       "    <tr>\n",
       "      <th>32</th>\n",
       "      <td>98.0</td>\n",
       "    </tr>\n",
       "    <tr>\n",
       "      <th>279</th>\n",
       "      <td>98.0</td>\n",
       "    </tr>\n",
       "    <tr>\n",
       "      <th>178</th>\n",
       "      <td>120.0</td>\n",
       "    </tr>\n",
       "    <tr>\n",
       "      <th>354</th>\n",
       "      <td>100.0</td>\n",
       "    </tr>\n",
       "    <tr>\n",
       "      <th>...</th>\n",
       "      <td>...</td>\n",
       "    </tr>\n",
       "    <tr>\n",
       "      <th>23</th>\n",
       "      <td>121.0</td>\n",
       "    </tr>\n",
       "    <tr>\n",
       "      <th>241</th>\n",
       "      <td>146.0</td>\n",
       "    </tr>\n",
       "    <tr>\n",
       "      <th>1</th>\n",
       "      <td>350.0</td>\n",
       "    </tr>\n",
       "    <tr>\n",
       "      <th>169</th>\n",
       "      <td>232.0</td>\n",
       "    </tr>\n",
       "    <tr>\n",
       "      <th>39</th>\n",
       "      <td>400.0</td>\n",
       "    </tr>\n",
       "  </tbody>\n",
       "</table>\n",
       "<p>160 rows × 1 columns</p>\n",
       "</div>"
      ],
      "text/plain": [
       "     displacement\n",
       "94          440.0\n",
       "32           98.0\n",
       "279          98.0\n",
       "178         120.0\n",
       "354         100.0\n",
       "..            ...\n",
       "23          121.0\n",
       "241         146.0\n",
       "1           350.0\n",
       "169         232.0\n",
       "39          400.0\n",
       "\n",
       "[160 rows x 1 columns]"
      ]
     },
     "execution_count": 12,
     "metadata": {},
     "output_type": "execute_result"
    }
   ],
   "source": [
    "X_test"
   ]
  },
  {
   "cell_type": "code",
   "execution_count": 13,
   "metadata": {
    "scrolled": true
   },
   "outputs": [
    {
     "data": {
      "text/html": [
       "<div>\n",
       "<style scoped>\n",
       "    .dataframe tbody tr th:only-of-type {\n",
       "        vertical-align: middle;\n",
       "    }\n",
       "\n",
       "    .dataframe tbody tr th {\n",
       "        vertical-align: top;\n",
       "    }\n",
       "\n",
       "    .dataframe thead th {\n",
       "        text-align: right;\n",
       "    }\n",
       "</style>\n",
       "<table border=\"1\" class=\"dataframe\">\n",
       "  <thead>\n",
       "    <tr style=\"text-align: right;\">\n",
       "      <th></th>\n",
       "      <th>mpg</th>\n",
       "      <th>cylinders</th>\n",
       "      <th>displacement</th>\n",
       "      <th>horsepower</th>\n",
       "      <th>weight</th>\n",
       "      <th>acceleration</th>\n",
       "    </tr>\n",
       "  </thead>\n",
       "  <tbody>\n",
       "    <tr>\n",
       "      <th>count</th>\n",
       "      <td>397.000000</td>\n",
       "      <td>397.000000</td>\n",
       "      <td>393.000000</td>\n",
       "      <td>391.000000</td>\n",
       "      <td>393.000000</td>\n",
       "      <td>396.000000</td>\n",
       "    </tr>\n",
       "    <tr>\n",
       "      <th>mean</th>\n",
       "      <td>23.538539</td>\n",
       "      <td>5.458438</td>\n",
       "      <td>192.393130</td>\n",
       "      <td>104.524297</td>\n",
       "      <td>2949.053435</td>\n",
       "      <td>15.671970</td>\n",
       "    </tr>\n",
       "    <tr>\n",
       "      <th>std</th>\n",
       "      <td>7.811191</td>\n",
       "      <td>1.701577</td>\n",
       "      <td>103.205814</td>\n",
       "      <td>38.525101</td>\n",
       "      <td>851.576054</td>\n",
       "      <td>3.961926</td>\n",
       "    </tr>\n",
       "    <tr>\n",
       "      <th>min</th>\n",
       "      <td>9.000000</td>\n",
       "      <td>3.000000</td>\n",
       "      <td>68.000000</td>\n",
       "      <td>46.000000</td>\n",
       "      <td>15.000000</td>\n",
       "      <td>0.500000</td>\n",
       "    </tr>\n",
       "    <tr>\n",
       "      <th>25%</th>\n",
       "      <td>17.500000</td>\n",
       "      <td>4.000000</td>\n",
       "      <td>105.000000</td>\n",
       "      <td>75.000000</td>\n",
       "      <td>2220.000000</td>\n",
       "      <td>13.775000</td>\n",
       "    </tr>\n",
       "    <tr>\n",
       "      <th>50%</th>\n",
       "      <td>23.000000</td>\n",
       "      <td>4.000000</td>\n",
       "      <td>146.000000</td>\n",
       "      <td>94.000000</td>\n",
       "      <td>2790.000000</td>\n",
       "      <td>15.500000</td>\n",
       "    </tr>\n",
       "    <tr>\n",
       "      <th>75%</th>\n",
       "      <td>29.000000</td>\n",
       "      <td>8.000000</td>\n",
       "      <td>260.000000</td>\n",
       "      <td>127.000000</td>\n",
       "      <td>3570.000000</td>\n",
       "      <td>17.225000</td>\n",
       "    </tr>\n",
       "    <tr>\n",
       "      <th>max</th>\n",
       "      <td>46.600000</td>\n",
       "      <td>8.000000</td>\n",
       "      <td>455.000000</td>\n",
       "      <td>230.000000</td>\n",
       "      <td>5140.000000</td>\n",
       "      <td>70.000000</td>\n",
       "    </tr>\n",
       "  </tbody>\n",
       "</table>\n",
       "</div>"
      ],
      "text/plain": [
       "              mpg   cylinders  displacement  horsepower       weight  \\\n",
       "count  397.000000  397.000000    393.000000  391.000000   393.000000   \n",
       "mean    23.538539    5.458438    192.393130  104.524297  2949.053435   \n",
       "std      7.811191    1.701577    103.205814   38.525101   851.576054   \n",
       "min      9.000000    3.000000     68.000000   46.000000    15.000000   \n",
       "25%     17.500000    4.000000    105.000000   75.000000  2220.000000   \n",
       "50%     23.000000    4.000000    146.000000   94.000000  2790.000000   \n",
       "75%     29.000000    8.000000    260.000000  127.000000  3570.000000   \n",
       "max     46.600000    8.000000    455.000000  230.000000  5140.000000   \n",
       "\n",
       "       acceleration  \n",
       "count    396.000000  \n",
       "mean      15.671970  \n",
       "std        3.961926  \n",
       "min        0.500000  \n",
       "25%       13.775000  \n",
       "50%       15.500000  \n",
       "75%       17.225000  \n",
       "max       70.000000  "
      ]
     },
     "execution_count": 13,
     "metadata": {},
     "output_type": "execute_result"
    }
   ],
   "source": [
    "d.describe()"
   ]
  },
  {
   "cell_type": "code",
   "execution_count": 14,
   "metadata": {
    "scrolled": true
   },
   "outputs": [
    {
     "data": {
      "text/plain": [
       "<matplotlib.collections.PathCollection at 0x1bb496b9650>"
      ]
     },
     "execution_count": 14,
     "metadata": {},
     "output_type": "execute_result"
    },
    {
     "data": {
      "image/png": "[encoded data removed]",
      "text/plain": [
       "<Figure size 640x480 with 1 Axes>"
      ]
     },
     "metadata": {},
     "output_type": "display_data"
    }
   ],
   "source": [
    "plt.scatter(X,Y) \n",
    "#plotting X & Y data on graph"
   ]
  },
  {
   "cell_type": "code",
   "execution_count": 15,
   "metadata": {},
   "outputs": [
    {
     "data": {
      "text/plain": [
       "<matplotlib.collections.PathCollection at 0x1bb497c2e10>"
      ]
     },
     "execution_count": 15,
     "metadata": {},
     "output_type": "execute_result"
    },
    {
     "data": {
      "image/png": "[encoded data removed]",
      "text/plain": [
       "<Figure size 640x480 with 1 Axes>"
      ]
     },
     "metadata": {},
     "output_type": "display_data"
    }
   ],
   "source": [
    "plt.scatter(X_train,Y_train)\n",
    "#plotting training data on graph"
   ]
  },
  {
   "cell_type": "code",
   "execution_count": 16,
   "metadata": {},
   "outputs": [
    {
     "data": {
      "text/plain": [
       "<matplotlib.collections.PathCollection at 0x1bb4b964b50>"
      ]
     },
     "execution_count": 16,
     "metadata": {},
     "output_type": "execute_result"
    },
    {
     "data": {
      "image/png": "[encoded data removed]",
      "text/plain": [
       "<Figure size 640x480 with 1 Axes>"
      ]
     },
     "metadata": {},
     "output_type": "display_data"
    }
   ],
   "source": [
    "plt.scatter(X_test,Y_test)\n",
    "#plotting testing data on graph\n"
   ]
  },
  {
   "cell_type": "code",
   "execution_count": 17,
   "metadata": {},
   "outputs": [
    {
     "data": {
      "text/plain": [
       "array([[186.21884605],\n",
       "       [ 72.92037693],\n",
       "       [ 72.92037693],\n",
       "       [ 80.20858255],\n",
       "       [ 73.58294108],\n",
       "       [104.19112876],\n",
       "       [182.57474325],\n",
       "       [145.80243309],\n",
       "       [156.40345944],\n",
       "       [123.2752521 ],\n",
       "       [101.07935317],\n",
       "       [ 80.53986462],\n",
       "       [ 70.60140241],\n",
       "       [117.31217477],\n",
       "       [ 66.62601753],\n",
       "       [ 75.90191559],\n",
       "       [123.2752521 ],\n",
       "       [ 80.20858255],\n",
       "       [ 67.28858168],\n",
       "       [145.80243309],\n",
       "       [ 75.90191559],\n",
       "       [141.49576614],\n",
       "       [ 72.58909486],\n",
       "       [ 80.20858255],\n",
       "       [172.96756312],\n",
       "       [141.49576614],\n",
       "       [ 76.89576181],\n",
       "       [ 97.10396829],\n",
       "       [ 80.20858255],\n",
       "       [140.50191992],\n",
       "       [ 72.58909486],\n",
       "       [ 76.23319766],\n",
       "       [106.37986635],\n",
       "       [ 72.58909486],\n",
       "       [186.21884605],\n",
       "       [ 68.61370997],\n",
       "       [116.9808927 ],\n",
       "       [ 63.97576095],\n",
       "       [141.16448406],\n",
       "       [ 68.61370997],\n",
       "       [114.99320026],\n",
       "       [117.31217477],\n",
       "       [123.2752521 ],\n",
       "       [ 72.92037693],\n",
       "       [ 72.92037693],\n",
       "       [ 68.61370997],\n",
       "       [141.16448406],\n",
       "       [156.40345944],\n",
       "       [ 70.60140241],\n",
       "       [ 76.23319766],\n",
       "       [ 70.27012034],\n",
       "       [126.58807283],\n",
       "       [ 79.87730047],\n",
       "       [ 90.47832682],\n",
       "       [ 86.83422401],\n",
       "       [156.40345944],\n",
       "       [ 70.27012034],\n",
       "       [140.50191992],\n",
       "       [156.73474152],\n",
       "       [ 86.83422401],\n",
       "       [ 66.62601753],\n",
       "       [ 85.17781365],\n",
       "       [ 75.23935144],\n",
       "       [156.40345944],\n",
       "       [116.9808927 ],\n",
       "       [ 68.61370997],\n",
       "       [106.71114842],\n",
       "       [ 96.11012207],\n",
       "       [156.40345944],\n",
       "       [ 68.61370997],\n",
       "       [123.2752521 ],\n",
       "       [ 72.58909486],\n",
       "       [145.80243309],\n",
       "       [ 75.23935144],\n",
       "       [ 78.88345425],\n",
       "       [156.40345944],\n",
       "       [126.58807283],\n",
       "       [156.73474152],\n",
       "       [125.92550868],\n",
       "       [ 85.17781365],\n",
       "       [ 68.61370997],\n",
       "       [ 73.91422315],\n",
       "       [141.16448406],\n",
       "       [ 88.15935231],\n",
       "       [106.71114842],\n",
       "       [ 72.92037693],\n",
       "       [ 68.94499205],\n",
       "       [ 78.2208901 ],\n",
       "       [140.50191992],\n",
       "       [145.80243309],\n",
       "       [ 80.53986462],\n",
       "       [141.16448406],\n",
       "       [ 72.58909486],\n",
       "       [ 90.47832682],\n",
       "       [ 97.76653244],\n",
       "       [ 70.27012034],\n",
       "       [172.96756312],\n",
       "       [191.18807716],\n",
       "       [ 66.62601753],\n",
       "       [ 68.94499205],\n",
       "       [ 94.4537117 ],\n",
       "       [ 69.93883827],\n",
       "       [ 72.58909486],\n",
       "       [ 86.83422401],\n",
       "       [ 66.95729961],\n",
       "       [ 63.97576095],\n",
       "       [123.2752521 ],\n",
       "       [ 70.27012034],\n",
       "       [ 72.58909486],\n",
       "       [141.49576614],\n",
       "       [114.99320026],\n",
       "       [ 80.53986462],\n",
       "       [ 80.53986462],\n",
       "       [123.2752521 ],\n",
       "       [ 94.4537117 ],\n",
       "       [106.71114842],\n",
       "       [117.31217477],\n",
       "       [ 77.22704388],\n",
       "       [ 85.17781365],\n",
       "       [167.33576787],\n",
       "       [ 80.87114669],\n",
       "       [117.31217477],\n",
       "       [ 72.92037693],\n",
       "       [ 97.76653244],\n",
       "       [ 66.62601753],\n",
       "       [145.80243309],\n",
       "       [ 70.60140241],\n",
       "       [ 90.47832682],\n",
       "       [ 72.92037693],\n",
       "       [ 77.55832596],\n",
       "       [ 90.47832682],\n",
       "       [123.2752521 ],\n",
       "       [ 78.88345425],\n",
       "       [ 80.87114669],\n",
       "       [ 70.60140241],\n",
       "       [ 72.58909486],\n",
       "       [ 86.83422401],\n",
       "       [106.71114842],\n",
       "       [ 68.94499205],\n",
       "       [153.09063871],\n",
       "       [145.80243309],\n",
       "       [123.2752521 ],\n",
       "       [ 80.53986462],\n",
       "       [114.99320026],\n",
       "       [106.71114842],\n",
       "       [117.31217477],\n",
       "       [ 97.76653244],\n",
       "       [145.80243309],\n",
       "       [116.9808927 ],\n",
       "       [ 90.47832682],\n",
       "       [140.50191992],\n",
       "       [156.40345944],\n",
       "       [172.96756312],\n",
       "       [156.73474152],\n",
       "       [ 68.94499205],\n",
       "       [ 80.53986462],\n",
       "       [ 88.82191646],\n",
       "       [156.40345944],\n",
       "       [117.31217477],\n",
       "       [172.96756312]])"
      ]
     },
     "execution_count": 17,
     "metadata": {},
     "output_type": "execute_result"
    }
   ],
   "source": [
    "from sklearn import linear_model\n",
    "lr = linear_model.LinearRegression()\n",
    "lr.fit(X_train,Y_train)\n",
    "Y_pred = lr.predict(X_test)\n",
    "Y_pred\n",
    "#plt.scatter(X_train,Y_train)"
   ]
  },
  {
   "cell_type": "code",
   "execution_count": 18,
   "metadata": {},
   "outputs": [
    {
     "data": {
      "image/png": "[encoded data removed]",
      "text/plain": [
       "<Figure size 640x480 with 1 Axes>"
      ]
     },
     "metadata": {},
     "output_type": "display_data"
    }
   ],
   "source": [
    "# Plotting the scatter plot\n",
    "plt.scatter(X_test, Y_test, color='blue', label='Testing data')\n",
    "\n",
    "# Plotting the regression line with predicted values\n",
    "plt.plot(X_test, Y_pred, color='red', linewidth=2, label='Predicted Line')\n",
    "\n",
    "plt.xlabel('X-axis label')\n",
    "plt.ylabel('Y-axis label')\n",
    "plt.title('Scatter plot with Regression Line')\n",
    "\n",
    "plt.legend()\n",
    "\n",
    "plt.show()\n"
   ]
  },
  {
   "cell_type": "code",
   "execution_count": 21,
   "metadata": {},
   "outputs": [
    {
     "data": {
      "text/plain": [
       "0.7579028942658471"
      ]
     },
     "execution_count": 21,
     "metadata": {},
     "output_type": "execute_result"
    }
   ],
   "source": [
    "lr.score(X_train, Y_train)"
   ]
  },
  {
   "cell_type": "code",
   "execution_count": 22,
   "metadata": {},
   "outputs": [
    {
     "data": {
      "text/plain": [
       "13.070989131325026"
      ]
     },
     "execution_count": 22,
     "metadata": {},
     "output_type": "execute_result"
    }
   ],
   "source": [
    "Y_pred=lr.predict(X_test)\n",
    "from sklearn.metrics import mean_absolute_error,mean_squared_error,root_mean_squared_error,r2_score\n",
    "mean_absolute_error(Y_test, Y_pred)"
   ]
  },
  {
   "cell_type": "code",
   "execution_count": 23,
   "metadata": {},
   "outputs": [
    {
     "data": {
      "text/plain": [
       "367.74996277773056"
      ]
     },
     "execution_count": 23,
     "metadata": {},
     "output_type": "execute_result"
    }
   ],
   "source": [
    "mean_squared_error(Y_test, Y_pred)"
   ]
  },
  {
   "cell_type": "code",
   "execution_count": 24,
   "metadata": {},
   "outputs": [
    {
     "data": {
      "text/plain": [
       "19.176807940262908"
      ]
     },
     "execution_count": 24,
     "metadata": {},
     "output_type": "execute_result"
    }
   ],
   "source": [
    "root_mean_squared_error(Y_test, Y_pred)"
   ]
  },
  {
   "cell_type": "code",
   "execution_count": 25,
   "metadata": {},
   "outputs": [
    {
     "data": {
      "text/plain": [
       "0.7345525423105541"
      ]
     },
     "execution_count": 25,
     "metadata": {},
     "output_type": "execute_result"
    }
   ],
   "source": [
    "r2=r2_score(Y_test, Y_pred)\n",
    "r2"
   ]
  },
  {
   "cell_type": "code",
   "execution_count": 26,
   "metadata": {},
   "outputs": [
    {
     "name": "stdout",
     "output_type": "stream",
     "text": [
      "0.7352349265205527\n"
     ]
    }
   ],
   "source": [
    "n=398\n",
    "k=1\n",
    "adj_r2score = 1 - (((1-r2)*(10-n))/ (10-n-k))\n",
    "print(adj_r2score)"
   ]
  },
  {
   "cell_type": "code",
   "execution_count": null,
   "metadata": {},
   "outputs": [],
   "source": []
  }
 ],
 "metadata": {
  "kernelspec": {
   "display_name": "Python 3 (ipykernel)",
   "language": "python",
   "name": "python3"
  },
  "language_info": {
   "codemirror_mode": {
    "name": "ipython",
    "version": 3
   },
   "file_extension": ".py",
   "mimetype": "text/x-python",
   "name": "python",
   "nbconvert_exporter": "python",
   "pygments_lexer": "ipython3",
   "version": "3.11.4"
  }
 },
 "nbformat": 4,
 "nbformat_minor": 4
}
